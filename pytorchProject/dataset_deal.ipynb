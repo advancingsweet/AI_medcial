{
 "cells": [
  {
   "cell_type": "code",
   "execution_count": null,
   "id": "initial_id",
   "metadata": {
    "collapsed": true
   },
   "outputs": [],
   "source": [
    "import pandas as pd"
   ]
  },
  {
   "cell_type": "code",
   "execution_count": null,
   "outputs": [],
   "source": [
    "data = pd.read_csv(\"D:\\ProjectsSTC\\pytorchProject\\data\\pep_tcr_dataset.csv\")"
   ],
   "metadata": {
    "collapsed": false
   },
   "id": "9be3dad378812595"
  },
  {
   "cell_type": "code",
   "execution_count": null,
   "outputs": [],
   "source": [
    "data_true=data[data['label']==1]"
   ],
   "metadata": {
    "collapsed": false
   },
   "id": "8c5f9ada482de5f7"
  },
  {
   "cell_type": "code",
   "execution_count": null,
   "outputs": [],
   "source": [
    "data_false = data[data['label']==0]"
   ],
   "metadata": {
    "collapsed": false
   },
   "id": "331d00878e902fa1"
  },
  {
   "cell_type": "code",
   "execution_count": null,
   "outputs": [],
   "source": [
    "data_false.shape"
   ],
   "metadata": {
    "collapsed": false
   },
   "id": "ea6a1a904c3b77d1"
  },
  {
   "cell_type": "code",
   "execution_count": null,
   "outputs": [],
   "source": [
    "data_true.shape"
   ],
   "metadata": {
    "collapsed": false
   },
   "id": "664719852ba508e9"
  },
  {
   "cell_type": "code",
   "execution_count": null,
   "outputs": [],
   "source": [
    "import numpy as np"
   ],
   "metadata": {
    "collapsed": false
   },
   "id": "54838d2ac781f266"
  },
  {
   "cell_type": "code",
   "execution_count": null,
   "outputs": [],
   "source": [
    "index = np.random.choice(data_false.shape[0],38439*2,replace=False)"
   ],
   "metadata": {
    "collapsed": false
   },
   "id": "ea036ae01d318d10"
  },
  {
   "cell_type": "code",
   "execution_count": null,
   "outputs": [],
   "source": [
    "data_false.iloc[index].to_csv(\"ts.csv\",index=False)"
   ],
   "metadata": {
    "collapsed": false
   },
   "id": "7153d5e2ee6f8d34"
  },
  {
   "cell_type": "code",
   "execution_count": null,
   "outputs": [],
   "source": [
    "data2 = pd.read_csv(\"ts.csv\")"
   ],
   "metadata": {
    "collapsed": false
   },
   "id": "83dfa19466c4ef35"
  },
  {
   "cell_type": "code",
   "execution_count": null,
   "outputs": [],
   "source": [
    "data2 = data2.dropna()\n",
    "data2 = data2.drop_duplicates()"
   ],
   "metadata": {
    "collapsed": false
   },
   "id": "13d1e460287c0700"
  },
  {
   "cell_type": "code",
   "execution_count": null,
   "outputs": [],
   "source": [
    "data2"
   ],
   "metadata": {
    "collapsed": false
   },
   "id": "46288c57cbf80bec"
  },
  {
   "cell_type": "code",
   "execution_count": null,
   "outputs": [],
   "source": [
    "data = pd.concat((data_true,data2),axis=0)"
   ],
   "metadata": {
    "collapsed": false
   },
   "id": "8167610057f8c03c"
  },
  {
   "cell_type": "code",
   "execution_count": null,
   "outputs": [],
   "source": [
    "data.to_csv(\"test.csv\",index=False)"
   ],
   "metadata": {
    "collapsed": false
   },
   "id": "f6d662a542f264cb"
  },
  {
   "cell_type": "code",
   "execution_count": null,
   "outputs": [],
   "source": [
    "data = pd.read_csv(\"test.csv\")"
   ],
   "metadata": {
    "collapsed": false
   },
   "id": "43cc54ba01ea79dc"
  },
  {
   "cell_type": "code",
   "execution_count": null,
   "outputs": [],
   "source": [
    "from collections import Counter"
   ],
   "metadata": {
    "collapsed": false
   },
   "id": "95ec77be7928cfeb"
  },
  {
   "cell_type": "code",
   "execution_count": null,
   "outputs": [],
   "source": [
    "data"
   ],
   "metadata": {
    "collapsed": false
   },
   "id": "e9167d34323dda64"
  },
  {
   "cell_type": "code",
   "execution_count": null,
   "outputs": [],
   "source": [
    "np.random.shuffle(data.shape[0])"
   ],
   "metadata": {
    "collapsed": false
   },
   "id": "42340ea64e91f98"
  },
  {
   "cell_type": "code",
   "execution_count": null,
   "outputs": [],
   "source": [
    "data = data.sample(frac=1, random_state=123)"
   ],
   "metadata": {
    "collapsed": false
   },
   "id": "917f65d064638d35"
  },
  {
   "cell_type": "code",
   "execution_count": null,
   "outputs": [],
   "source": [
    "data.to_csv(\"pep_tcr.csv\",index=False)"
   ],
   "metadata": {
    "collapsed": false
   },
   "id": "7753d8925f84538"
  },
  {
   "cell_type": "code",
   "execution_count": null,
   "outputs": [],
   "source": [
    "################################################"
   ],
   "metadata": {
    "collapsed": false
   },
   "id": "dcc413571e06de59"
  },
  {
   "cell_type": "code",
   "execution_count": null,
   "outputs": [],
   "source": [
    "import pandas as pd"
   ],
   "metadata": {
    "collapsed": false
   },
   "id": "262efefa7af1c9ae"
  },
  {
   "cell_type": "code",
   "execution_count": null,
   "outputs": [],
   "source": [
    "data = pd.read_csv(\"D:\\ProjectsSTC\\pytorchProject\\\\backsupport\\\\train_data_fold0.csv\")"
   ],
   "metadata": {
    "collapsed": false
   },
   "id": "cd8adfe778c0183"
  },
  {
   "cell_type": "code",
   "execution_count": null,
   "outputs": [],
   "source": [
    "data = data[['peptide','HLA_sequence','label']]"
   ],
   "metadata": {
    "collapsed": false
   },
   "id": "6b6f1b1dd0c6ed7f"
  },
  {
   "cell_type": "code",
   "execution_count": null,
   "outputs": [],
   "source": [
    "col_map = {\n",
    "    'HLA_sequence':'hla'\n",
    "}\n",
    "data = data.rename(columns=col_map)"
   ],
   "metadata": {
    "collapsed": false
   },
   "id": "5b3bc8f4598a6358"
  },
  {
   "cell_type": "code",
   "execution_count": null,
   "outputs": [],
   "source": [
    "data = data.sample(frac=0.03,random_state=203)"
   ],
   "metadata": {
    "collapsed": false
   },
   "id": "157b0b1a5e06e6c0"
  },
  {
   "cell_type": "code",
   "execution_count": null,
   "outputs": [],
   "source": [
    "data"
   ],
   "metadata": {
    "collapsed": false
   },
   "id": "9d34537c48032221"
  },
  {
   "cell_type": "code",
   "execution_count": null,
   "outputs": [],
   "source": [
    "data.to_csv(\"hla_pep.csv\",index=False)"
   ],
   "metadata": {
    "collapsed": false
   },
   "id": "67b16f8861800c8f"
  },
  {
   "cell_type": "code",
   "execution_count": null,
   "outputs": [],
   "source": [
    "################################################################################"
   ],
   "metadata": {
    "collapsed": false
   },
   "id": "e3a1d1abb5c84c4b"
  },
  {
   "cell_type": "code",
   "execution_count": 26,
   "outputs": [],
   "source": [
    "import pandas as pd"
   ],
   "metadata": {
    "collapsed": false,
    "ExecuteTime": {
     "end_time": "2023-10-04T13:19:15.206954800Z",
     "start_time": "2023-10-04T13:19:15.188849500Z"
    }
   },
   "id": "670a5e794ae961cd"
  },
  {
   "cell_type": "code",
   "execution_count": 27,
   "outputs": [],
   "source": [
    "data0 = pd.read_csv(\"D:\\ProjectsSTC\\pytorchProject\\data\\\\train_data_fold0.csv\")\n",
    "data0 = data0[['HLA_sequence','peptide','label']]\n",
    "data1= pd.read_csv(\"D:\\ProjectsSTC\\pytorchProject\\data\\\\train_data_fold1.csv\")\n",
    "data1 = data1[['HLA_sequence','peptide','label']]\n",
    "data2 = pd.read_csv(\"D:\\ProjectsSTC\\pytorchProject\\data\\\\train_data_fold2.csv\")\n",
    "data2 = data2[['HLA_sequence','peptide','label']]\n",
    "data3 = pd.read_csv(\"D:\\ProjectsSTC\\pytorchProject\\data\\\\train_data_fold3.csv\")\n",
    "data3 = data3[['HLA_sequence','peptide','label']]\n",
    "data4 = pd.read_csv(\"D:\\ProjectsSTC\\pytorchProject\\data\\\\train_data_fold4.csv\")\n",
    "data4 = data4[['HLA_sequence','peptide','label']]\n",
    "\n",
    "\n",
    "data5 = pd.read_csv(\"D:\\ProjectsSTC\\pytorchProject\\data\\\\val_data_fold0.csv\")\n",
    "data5 = data5[['HLA_sequence','peptide','label']]\n",
    "data6 = pd.read_csv(\"D:\\ProjectsSTC\\pytorchProject\\data\\\\val_data_fold1.csv\")\n",
    "data6 = data6[['HLA_sequence','peptide','label']]\n",
    "data7 = pd.read_csv(\"D:\\ProjectsSTC\\pytorchProject\\data\\\\val_data_fold2.csv\")\n",
    "data7 = data7[['HLA_sequence','peptide','label']]\n",
    "data8 = pd.read_csv(\"D:\\ProjectsSTC\\pytorchProject\\data\\\\val_data_fold3.csv\")\n",
    "data8 = data8[['HLA_sequence','peptide','label']]\n",
    "data9 = pd.read_csv(\"D:\\ProjectsSTC\\pytorchProject\\data\\\\val_data_fold4.csv\")\n",
    "data9 = data9[['HLA_sequence','peptide','label']]"
   ],
   "metadata": {
    "collapsed": false,
    "ExecuteTime": {
     "end_time": "2023-10-04T13:19:18.858842400Z",
     "start_time": "2023-10-04T13:19:15.846744600Z"
    }
   },
   "id": "71784c3796977140"
  },
  {
   "cell_type": "code",
   "execution_count": 28,
   "outputs": [],
   "source": [
    "data = pd.concat((data0,data1,data2,data3,data4,data5,data6,data7,data8,data9),axis=0)"
   ],
   "metadata": {
    "collapsed": false,
    "ExecuteTime": {
     "end_time": "2023-10-04T13:19:19.351999600Z",
     "start_time": "2023-10-04T13:19:19.257944800Z"
    }
   },
   "id": "64b1895bb631d4ae"
  },
  {
   "cell_type": "code",
   "execution_count": 29,
   "outputs": [],
   "source": [
    "data = data.dropna()\n",
    "data = data.drop_duplicates()"
   ],
   "metadata": {
    "collapsed": false,
    "ExecuteTime": {
     "end_time": "2023-10-04T13:19:21.418575100Z",
     "start_time": "2023-10-04T13:19:19.665655800Z"
    }
   },
   "id": "dd75ecd1655b541f"
  },
  {
   "cell_type": "code",
   "execution_count": 30,
   "outputs": [],
   "source": [
    "col_map = {\n",
    "    'HLA_sequence':'hla'\n",
    "}\n",
    "data = data.rename(columns=col_map)"
   ],
   "metadata": {
    "collapsed": false,
    "ExecuteTime": {
     "end_time": "2023-10-04T13:19:21.479628100Z",
     "start_time": "2023-10-04T13:19:21.418575100Z"
    }
   },
   "id": "c0837f7c92050be3"
  },
  {
   "cell_type": "code",
   "execution_count": 31,
   "outputs": [
    {
     "data": {
      "text/plain": "                                       hla     peptide  label\n0       YSAMYEEKVAHTDENIAYLMFHYYTWAVQAYTGY   FLTGTFVTA      0\n1       YHTEYREICAKTDEDTLYLNYHDYTWAVLAYEWY   HRKVMSQNF      1\n2       YYTKYREISTNTYENTAYIRYDDYTWAVLAYLSY   VMDKYILDN      0\n3       YYAMYREISTNTYESNLYLRYDSYTWAEWAYLWY   MTFDGEVKT      0\n4       YFAMYQENVAQTDVDTLYIIYRDYTWAELAYTWY   CLLTPGVQG      0\n...                                    ...         ...    ...\n143668  YYSEYRNICTNTYENIAYLRYNFYTWAVLTYTWY   DGSSGGVIY      0\n143669  YYAMYQENVAQTDVDTLYIIYRDYTWAAQAYRWY  KLKRNYAKAV      0\n143671  YYAGYREKYRQTDVNKLYLRYNFYTWAERAYTWY   VGSRSEGEG      0\n143672  YFAMYGEKVAHTHVDTLYVRYHYYTWAVLAYTWY   LVDQFEWDM      0\n143673  YFAMYGEKVAHTHVDTLYVRYHYYTWAVLAYTWY   YMAWNIPQE      0\n\n[1862851 rows x 3 columns]",
      "text/html": "<div>\n<style scoped>\n    .dataframe tbody tr th:only-of-type {\n        vertical-align: middle;\n    }\n\n    .dataframe tbody tr th {\n        vertical-align: top;\n    }\n\n    .dataframe thead th {\n        text-align: right;\n    }\n</style>\n<table border=\"1\" class=\"dataframe\">\n  <thead>\n    <tr style=\"text-align: right;\">\n      <th></th>\n      <th>hla</th>\n      <th>peptide</th>\n      <th>label</th>\n    </tr>\n  </thead>\n  <tbody>\n    <tr>\n      <th>0</th>\n      <td>YSAMYEEKVAHTDENIAYLMFHYYTWAVQAYTGY</td>\n      <td>FLTGTFVTA</td>\n      <td>0</td>\n    </tr>\n    <tr>\n      <th>1</th>\n      <td>YHTEYREICAKTDEDTLYLNYHDYTWAVLAYEWY</td>\n      <td>HRKVMSQNF</td>\n      <td>1</td>\n    </tr>\n    <tr>\n      <th>2</th>\n      <td>YYTKYREISTNTYENTAYIRYDDYTWAVLAYLSY</td>\n      <td>VMDKYILDN</td>\n      <td>0</td>\n    </tr>\n    <tr>\n      <th>3</th>\n      <td>YYAMYREISTNTYESNLYLRYDSYTWAEWAYLWY</td>\n      <td>MTFDGEVKT</td>\n      <td>0</td>\n    </tr>\n    <tr>\n      <th>4</th>\n      <td>YFAMYQENVAQTDVDTLYIIYRDYTWAELAYTWY</td>\n      <td>CLLTPGVQG</td>\n      <td>0</td>\n    </tr>\n    <tr>\n      <th>...</th>\n      <td>...</td>\n      <td>...</td>\n      <td>...</td>\n    </tr>\n    <tr>\n      <th>143668</th>\n      <td>YYSEYRNICTNTYENIAYLRYNFYTWAVLTYTWY</td>\n      <td>DGSSGGVIY</td>\n      <td>0</td>\n    </tr>\n    <tr>\n      <th>143669</th>\n      <td>YYAMYQENVAQTDVDTLYIIYRDYTWAAQAYRWY</td>\n      <td>KLKRNYAKAV</td>\n      <td>0</td>\n    </tr>\n    <tr>\n      <th>143671</th>\n      <td>YYAGYREKYRQTDVNKLYLRYNFYTWAERAYTWY</td>\n      <td>VGSRSEGEG</td>\n      <td>0</td>\n    </tr>\n    <tr>\n      <th>143672</th>\n      <td>YFAMYGEKVAHTHVDTLYVRYHYYTWAVLAYTWY</td>\n      <td>LVDQFEWDM</td>\n      <td>0</td>\n    </tr>\n    <tr>\n      <th>143673</th>\n      <td>YFAMYGEKVAHTHVDTLYVRYHYYTWAVLAYTWY</td>\n      <td>YMAWNIPQE</td>\n      <td>0</td>\n    </tr>\n  </tbody>\n</table>\n<p>1862851 rows × 3 columns</p>\n</div>"
     },
     "execution_count": 31,
     "metadata": {},
     "output_type": "execute_result"
    }
   ],
   "source": [
    "data"
   ],
   "metadata": {
    "collapsed": false,
    "ExecuteTime": {
     "end_time": "2023-10-04T13:19:21.898715600Z",
     "start_time": "2023-10-04T13:19:21.871804600Z"
    }
   },
   "id": "70a1e821e93335ec"
  },
  {
   "cell_type": "code",
   "execution_count": 32,
   "outputs": [
    {
     "data": {
      "text/plain": "Counter({0: 1505379, 1: 357472})"
     },
     "execution_count": 32,
     "metadata": {},
     "output_type": "execute_result"
    }
   ],
   "source": [
    "from collections import Counter\n",
    "Counter(data['label'])"
   ],
   "metadata": {
    "collapsed": false,
    "ExecuteTime": {
     "end_time": "2023-10-04T13:19:24.530672300Z",
     "start_time": "2023-10-04T13:19:24.344091500Z"
    }
   },
   "id": "3d2b2c99b673945e"
  },
  {
   "cell_type": "code",
   "execution_count": 33,
   "outputs": [],
   "source": [
    "data_t=data[data['label']==1]"
   ],
   "metadata": {
    "collapsed": false,
    "ExecuteTime": {
     "end_time": "2023-10-04T13:19:25.657662500Z",
     "start_time": "2023-10-04T13:19:25.600718100Z"
    }
   },
   "id": "36f563944d628d3c"
  },
  {
   "cell_type": "code",
   "execution_count": 34,
   "outputs": [],
   "source": [
    "data_f=data[data['label']==0]"
   ],
   "metadata": {
    "collapsed": false,
    "ExecuteTime": {
     "end_time": "2023-10-04T13:19:26.099519400Z",
     "start_time": "2023-10-04T13:19:26.022081500Z"
    }
   },
   "id": "4169677d3edcecf"
  },
  {
   "cell_type": "code",
   "execution_count": 35,
   "outputs": [],
   "source": [
    "import numpy as np\n",
    "index = np.random.choice(data_f.shape[0],357472,replace=False)"
   ],
   "metadata": {
    "collapsed": false,
    "ExecuteTime": {
     "end_time": "2023-10-04T13:19:28.244984700Z",
     "start_time": "2023-10-04T13:19:28.207444700Z"
    }
   },
   "id": "f404d69a4add181d"
  },
  {
   "cell_type": "code",
   "execution_count": 36,
   "outputs": [],
   "source": [
    "data_f=data_f.iloc[index]"
   ],
   "metadata": {
    "collapsed": false,
    "ExecuteTime": {
     "end_time": "2023-10-04T13:19:29.181244700Z",
     "start_time": "2023-10-04T13:19:29.106736200Z"
    }
   },
   "id": "bf0af00acd914312"
  },
  {
   "cell_type": "code",
   "execution_count": 37,
   "outputs": [],
   "source": [
    "data = pd.concat((data_t,data_f),axis=0)"
   ],
   "metadata": {
    "collapsed": false,
    "ExecuteTime": {
     "end_time": "2023-10-04T13:19:31.213022500Z",
     "start_time": "2023-10-04T13:19:31.174298800Z"
    }
   },
   "id": "6d6c5384da59853"
  },
  {
   "cell_type": "code",
   "execution_count": 38,
   "outputs": [
    {
     "data": {
      "text/plain": "                                       hla      peptide  label\n1       YHTEYREICAKTDEDTLYLNYHDYTWAVLAYEWY    HRKVMSQNF      1\n5       YDSGYREKYRQADVNKLYLWYDSYTWAEWAYTWY    CKPHFQQLF      1\n8       YFAMYGEKVAHTHVDTLYVRYHYYTWAEWAYTWY   ILSEKRKDTI      1\n11      YFAMYQENVAHTDESIAYIMYQDYTWAVLAYTWY    YLHSLNIVY      1\n15      YHTKYREISTNTYESNLYLRYNYYSLAVLAYEWY    AEHKAENLL      1\n...                                    ...          ...    ...\n255860  YFAMYGEKVAHTHVDTLYVMYHYYTWAVLAYTWY    NHRIYYKGH      0\n525320  YHTEHREICAKTDEDTLYLNYHDYTWAVLAYEWY  NFIIPKKEIHT      0\n391537  YYAMYRNNVAHTDANTLYIRYQDYTWAEWAYRWY    RSALLIGKK      0\n572929  YSAGYREKYRQADVNKLYLRFNFYTWAERAYTWY    GASYHSMSS      0\n452806  YDSGYREKYRQADVSNLYFRYDFYTLAADAYTWY    MIILQTLHW      0\n\n[714944 rows x 3 columns]",
      "text/html": "<div>\n<style scoped>\n    .dataframe tbody tr th:only-of-type {\n        vertical-align: middle;\n    }\n\n    .dataframe tbody tr th {\n        vertical-align: top;\n    }\n\n    .dataframe thead th {\n        text-align: right;\n    }\n</style>\n<table border=\"1\" class=\"dataframe\">\n  <thead>\n    <tr style=\"text-align: right;\">\n      <th></th>\n      <th>hla</th>\n      <th>peptide</th>\n      <th>label</th>\n    </tr>\n  </thead>\n  <tbody>\n    <tr>\n      <th>1</th>\n      <td>YHTEYREICAKTDEDTLYLNYHDYTWAVLAYEWY</td>\n      <td>HRKVMSQNF</td>\n      <td>1</td>\n    </tr>\n    <tr>\n      <th>5</th>\n      <td>YDSGYREKYRQADVNKLYLWYDSYTWAEWAYTWY</td>\n      <td>CKPHFQQLF</td>\n      <td>1</td>\n    </tr>\n    <tr>\n      <th>8</th>\n      <td>YFAMYGEKVAHTHVDTLYVRYHYYTWAEWAYTWY</td>\n      <td>ILSEKRKDTI</td>\n      <td>1</td>\n    </tr>\n    <tr>\n      <th>11</th>\n      <td>YFAMYQENVAHTDESIAYIMYQDYTWAVLAYTWY</td>\n      <td>YLHSLNIVY</td>\n      <td>1</td>\n    </tr>\n    <tr>\n      <th>15</th>\n      <td>YHTKYREISTNTYESNLYLRYNYYSLAVLAYEWY</td>\n      <td>AEHKAENLL</td>\n      <td>1</td>\n    </tr>\n    <tr>\n      <th>...</th>\n      <td>...</td>\n      <td>...</td>\n      <td>...</td>\n    </tr>\n    <tr>\n      <th>255860</th>\n      <td>YFAMYGEKVAHTHVDTLYVMYHYYTWAVLAYTWY</td>\n      <td>NHRIYYKGH</td>\n      <td>0</td>\n    </tr>\n    <tr>\n      <th>525320</th>\n      <td>YHTEHREICAKTDEDTLYLNYHDYTWAVLAYEWY</td>\n      <td>NFIIPKKEIHT</td>\n      <td>0</td>\n    </tr>\n    <tr>\n      <th>391537</th>\n      <td>YYAMYRNNVAHTDANTLYIRYQDYTWAEWAYRWY</td>\n      <td>RSALLIGKK</td>\n      <td>0</td>\n    </tr>\n    <tr>\n      <th>572929</th>\n      <td>YSAGYREKYRQADVNKLYLRFNFYTWAERAYTWY</td>\n      <td>GASYHSMSS</td>\n      <td>0</td>\n    </tr>\n    <tr>\n      <th>452806</th>\n      <td>YDSGYREKYRQADVSNLYFRYDFYTLAADAYTWY</td>\n      <td>MIILQTLHW</td>\n      <td>0</td>\n    </tr>\n  </tbody>\n</table>\n<p>714944 rows × 3 columns</p>\n</div>"
     },
     "execution_count": 38,
     "metadata": {},
     "output_type": "execute_result"
    }
   ],
   "source": [
    "data"
   ],
   "metadata": {
    "collapsed": false,
    "ExecuteTime": {
     "end_time": "2023-10-04T13:19:38.837087400Z",
     "start_time": "2023-10-04T13:19:38.772628200Z"
    }
   },
   "id": "1b15bf6074eb672"
  },
  {
   "cell_type": "code",
   "execution_count": 14,
   "outputs": [],
   "source": [
    "data.to_csv(\"hla_pep.csv\",index=False)"
   ],
   "metadata": {
    "collapsed": false,
    "ExecuteTime": {
     "end_time": "2023-10-04T13:12:19.260512300Z",
     "start_time": "2023-10-04T13:12:17.573023900Z"
    }
   },
   "id": "f4c1b8bd4878df33"
  },
  {
   "cell_type": "code",
   "execution_count": 45,
   "outputs": [
    {
     "data": {
      "text/plain": "Counter({1: 357472, 0: 357472})"
     },
     "execution_count": 45,
     "metadata": {},
     "output_type": "execute_result"
    }
   ],
   "source": [
    "Counter(data['label'])"
   ],
   "metadata": {
    "collapsed": false,
    "ExecuteTime": {
     "end_time": "2023-10-04T13:21:25.651046500Z",
     "start_time": "2023-10-04T13:21:25.537037400Z"
    }
   },
   "id": "ec3daaae48e69ad2"
  },
  {
   "cell_type": "code",
   "execution_count": 50,
   "outputs": [],
   "source": [
    "data.sample(frac=1,random_state=125533).to_csv(\"hla_pep.csv\",index=False)"
   ],
   "metadata": {
    "collapsed": false,
    "ExecuteTime": {
     "end_time": "2023-10-04T13:22:15.160483900Z",
     "start_time": "2023-10-04T13:22:13.828322700Z"
    }
   },
   "id": "1c50562d1a8e1f3a"
  },
  {
   "cell_type": "code",
   "execution_count": 18,
   "outputs": [
    {
     "data": {
      "text/plain": "                                        hla     peptide  label\n62050    YHTKYREISTNTYESNLYLRYNYYSLAVLAYEWY    GEIHAVPF      1\n483980   YHTEYREICAKTDEDTLYLNYHDYTWAVLAYEWY  IPNSELLPFL      0\n217539   YYTKYREISTNTYENTAYIRYDDYTWAVLAYLSY  AESAFSFKKL      1\n1050066  YFAMYQENMAHTDANTLYIIYRDYTWVARVYRGY   PLDDQVALL      0\n675477   YYAGYREKYRQTDVSNLYLWYDSYTWAAQAYTWY   QNKFDLRPL      0\n...                                     ...         ...    ...\n836489   YYATYRNIFTNTYESNLYIRYDSYTWAVLAYLWY   VVNLGVWVL      0\n491263   YYAMYRNNVAHTDANTLYIRYQDYTWAEWAYRWY  CELCRPFFYR      0\n470924   YFAMYGEKVAHTHVDTLYVRYHYYTWAVLAYTWY   WLSALTFKT      0\n491755   YSAMYEEKVAHTDENIAYLMFHYYTWAVQAYTGY   LLDKTRHLI      0\n128037   YYAMYGENMASTYENIAYIVYDSYTWAVLAYLWY   VNFTVDQIR      1\n\n[1072416 rows x 3 columns]",
      "text/html": "<div>\n<style scoped>\n    .dataframe tbody tr th:only-of-type {\n        vertical-align: middle;\n    }\n\n    .dataframe tbody tr th {\n        vertical-align: top;\n    }\n\n    .dataframe thead th {\n        text-align: right;\n    }\n</style>\n<table border=\"1\" class=\"dataframe\">\n  <thead>\n    <tr style=\"text-align: right;\">\n      <th></th>\n      <th>hla</th>\n      <th>peptide</th>\n      <th>label</th>\n    </tr>\n  </thead>\n  <tbody>\n    <tr>\n      <th>62050</th>\n      <td>YHTKYREISTNTYESNLYLRYNYYSLAVLAYEWY</td>\n      <td>GEIHAVPF</td>\n      <td>1</td>\n    </tr>\n    <tr>\n      <th>483980</th>\n      <td>YHTEYREICAKTDEDTLYLNYHDYTWAVLAYEWY</td>\n      <td>IPNSELLPFL</td>\n      <td>0</td>\n    </tr>\n    <tr>\n      <th>217539</th>\n      <td>YYTKYREISTNTYENTAYIRYDDYTWAVLAYLSY</td>\n      <td>AESAFSFKKL</td>\n      <td>1</td>\n    </tr>\n    <tr>\n      <th>1050066</th>\n      <td>YFAMYQENMAHTDANTLYIIYRDYTWVARVYRGY</td>\n      <td>PLDDQVALL</td>\n      <td>0</td>\n    </tr>\n    <tr>\n      <th>675477</th>\n      <td>YYAGYREKYRQTDVSNLYLWYDSYTWAAQAYTWY</td>\n      <td>QNKFDLRPL</td>\n      <td>0</td>\n    </tr>\n    <tr>\n      <th>...</th>\n      <td>...</td>\n      <td>...</td>\n      <td>...</td>\n    </tr>\n    <tr>\n      <th>836489</th>\n      <td>YYATYRNIFTNTYESNLYIRYDSYTWAVLAYLWY</td>\n      <td>VVNLGVWVL</td>\n      <td>0</td>\n    </tr>\n    <tr>\n      <th>491263</th>\n      <td>YYAMYRNNVAHTDANTLYIRYQDYTWAEWAYRWY</td>\n      <td>CELCRPFFYR</td>\n      <td>0</td>\n    </tr>\n    <tr>\n      <th>470924</th>\n      <td>YFAMYGEKVAHTHVDTLYVRYHYYTWAVLAYTWY</td>\n      <td>WLSALTFKT</td>\n      <td>0</td>\n    </tr>\n    <tr>\n      <th>491755</th>\n      <td>YSAMYEEKVAHTDENIAYLMFHYYTWAVQAYTGY</td>\n      <td>LLDKTRHLI</td>\n      <td>0</td>\n    </tr>\n    <tr>\n      <th>128037</th>\n      <td>YYAMYGENMASTYENIAYIVYDSYTWAVLAYLWY</td>\n      <td>VNFTVDQIR</td>\n      <td>1</td>\n    </tr>\n  </tbody>\n</table>\n<p>1072416 rows × 3 columns</p>\n</div>"
     },
     "execution_count": 18,
     "metadata": {},
     "output_type": "execute_result"
    }
   ],
   "source": [
    "data"
   ],
   "metadata": {
    "collapsed": false,
    "ExecuteTime": {
     "end_time": "2023-10-04T13:13:57.181501100Z",
     "start_time": "2023-10-04T13:13:57.150241900Z"
    }
   },
   "id": "69cd991fcd0b47f0"
  },
  {
   "cell_type": "code",
   "execution_count": 51,
   "outputs": [],
   "source": [
    "data = pd.read_csv(\"D:\\ProjectsSTC\\pytorchProject\\data\\hla_pep_dataset.csv\")"
   ],
   "metadata": {
    "collapsed": false,
    "ExecuteTime": {
     "end_time": "2023-10-04T13:27:09.584141700Z",
     "start_time": "2023-10-04T13:27:09.117711700Z"
    }
   },
   "id": "23eabfd0741ec37c"
  },
  {
   "cell_type": "code",
   "execution_count": 53,
   "outputs": [
    {
     "data": {
      "text/plain": "                                       hla     peptide  label\n0       YHTEYREICAKTDEDTLYLNYHDYTWAVLAYEWY   LEQKLGISL      1\n1       YDSEYRNIFTNTDESNLYLSYNYYTWAVDAYTWY   QLRSVGLNL      1\n2       YTAMYLQNVAQTDANTLYIMYRDYTWAVLAYTWY   ESWSPDACL      0\n3       YYAGYREKYRQTDVNKLYLRYDSYTWAEWAYEWY   KTFFSRENY      1\n4       YYSEYRNICTNTDESNLYLWYNFYTWAELAYTWH  KMEYKGSSWH      0\n...                                    ...         ...    ...\n714939  YSAMYQENVAHTDENTLYIIYEHYTWARLAYTWY   HWFSRENSY      1\n714940  YDSGYREKYRQADVNKLYLWYDSYTWAEWAYTWY   LRERLHRWQ      0\n714941  YYTKYREISTNTYENTAYIRYDDYTWAVDAYLSY   SENEQRRMF      1\n714942  YHTEYREICAKTDESTLYLNYHDYTWAELAYEWY   VIEDDRIDD      0\n714943  YFAMYGEKVAHTHVDTLYVRYHYYTWAVLAYTWY   AATPLLQSE      0\n\n[714944 rows x 3 columns]",
      "text/html": "<div>\n<style scoped>\n    .dataframe tbody tr th:only-of-type {\n        vertical-align: middle;\n    }\n\n    .dataframe tbody tr th {\n        vertical-align: top;\n    }\n\n    .dataframe thead th {\n        text-align: right;\n    }\n</style>\n<table border=\"1\" class=\"dataframe\">\n  <thead>\n    <tr style=\"text-align: right;\">\n      <th></th>\n      <th>hla</th>\n      <th>peptide</th>\n      <th>label</th>\n    </tr>\n  </thead>\n  <tbody>\n    <tr>\n      <th>0</th>\n      <td>YHTEYREICAKTDEDTLYLNYHDYTWAVLAYEWY</td>\n      <td>LEQKLGISL</td>\n      <td>1</td>\n    </tr>\n    <tr>\n      <th>1</th>\n      <td>YDSEYRNIFTNTDESNLYLSYNYYTWAVDAYTWY</td>\n      <td>QLRSVGLNL</td>\n      <td>1</td>\n    </tr>\n    <tr>\n      <th>2</th>\n      <td>YTAMYLQNVAQTDANTLYIMYRDYTWAVLAYTWY</td>\n      <td>ESWSPDACL</td>\n      <td>0</td>\n    </tr>\n    <tr>\n      <th>3</th>\n      <td>YYAGYREKYRQTDVNKLYLRYDSYTWAEWAYEWY</td>\n      <td>KTFFSRENY</td>\n      <td>1</td>\n    </tr>\n    <tr>\n      <th>4</th>\n      <td>YYSEYRNICTNTDESNLYLWYNFYTWAELAYTWH</td>\n      <td>KMEYKGSSWH</td>\n      <td>0</td>\n    </tr>\n    <tr>\n      <th>...</th>\n      <td>...</td>\n      <td>...</td>\n      <td>...</td>\n    </tr>\n    <tr>\n      <th>714939</th>\n      <td>YSAMYQENVAHTDENTLYIIYEHYTWARLAYTWY</td>\n      <td>HWFSRENSY</td>\n      <td>1</td>\n    </tr>\n    <tr>\n      <th>714940</th>\n      <td>YDSGYREKYRQADVNKLYLWYDSYTWAEWAYTWY</td>\n      <td>LRERLHRWQ</td>\n      <td>0</td>\n    </tr>\n    <tr>\n      <th>714941</th>\n      <td>YYTKYREISTNTYENTAYIRYDDYTWAVDAYLSY</td>\n      <td>SENEQRRMF</td>\n      <td>1</td>\n    </tr>\n    <tr>\n      <th>714942</th>\n      <td>YHTEYREICAKTDESTLYLNYHDYTWAELAYEWY</td>\n      <td>VIEDDRIDD</td>\n      <td>0</td>\n    </tr>\n    <tr>\n      <th>714943</th>\n      <td>YFAMYGEKVAHTHVDTLYVRYHYYTWAVLAYTWY</td>\n      <td>AATPLLQSE</td>\n      <td>0</td>\n    </tr>\n  </tbody>\n</table>\n<p>714944 rows × 3 columns</p>\n</div>"
     },
     "execution_count": 53,
     "metadata": {},
     "output_type": "execute_result"
    }
   ],
   "source": [
    "data \n"
   ],
   "metadata": {
    "collapsed": false,
    "ExecuteTime": {
     "end_time": "2023-10-04T13:27:28.923979Z",
     "start_time": "2023-10-04T13:27:28.889842100Z"
    }
   },
   "id": "8162ef2a668ca8f8"
  },
  {
   "cell_type": "code",
   "execution_count": 55,
   "outputs": [],
   "source": [
    "data = data.dropna()"
   ],
   "metadata": {
    "collapsed": false,
    "ExecuteTime": {
     "end_time": "2023-10-04T13:27:38.738619100Z",
     "start_time": "2023-10-04T13:27:38.673729700Z"
    }
   },
   "id": "a02d85170bb40f36"
  },
  {
   "cell_type": "code",
   "execution_count": 57,
   "outputs": [],
   "source": [
    "data = data.drop_duplicates()"
   ],
   "metadata": {
    "collapsed": false,
    "ExecuteTime": {
     "end_time": "2023-10-04T13:27:53.890597800Z",
     "start_time": "2023-10-04T13:27:53.680831300Z"
    }
   },
   "id": "e55e03bde944962f"
  },
  {
   "cell_type": "code",
   "execution_count": 58,
   "outputs": [
    {
     "data": {
      "text/plain": "                                       hla     peptide  label\n0       YHTEYREICAKTDEDTLYLNYHDYTWAVLAYEWY   LEQKLGISL      1\n1       YDSEYRNIFTNTDESNLYLSYNYYTWAVDAYTWY   QLRSVGLNL      1\n2       YTAMYLQNVAQTDANTLYIMYRDYTWAVLAYTWY   ESWSPDACL      0\n3       YYAGYREKYRQTDVNKLYLRYDSYTWAEWAYEWY   KTFFSRENY      1\n4       YYSEYRNICTNTDESNLYLWYNFYTWAELAYTWH  KMEYKGSSWH      0\n...                                    ...         ...    ...\n714939  YSAMYQENVAHTDENTLYIIYEHYTWARLAYTWY   HWFSRENSY      1\n714940  YDSGYREKYRQADVNKLYLWYDSYTWAEWAYTWY   LRERLHRWQ      0\n714941  YYTKYREISTNTYENTAYIRYDDYTWAVDAYLSY   SENEQRRMF      1\n714942  YHTEYREICAKTDESTLYLNYHDYTWAELAYEWY   VIEDDRIDD      0\n714943  YFAMYGEKVAHTHVDTLYVRYHYYTWAVLAYTWY   AATPLLQSE      0\n\n[714944 rows x 3 columns]",
      "text/html": "<div>\n<style scoped>\n    .dataframe tbody tr th:only-of-type {\n        vertical-align: middle;\n    }\n\n    .dataframe tbody tr th {\n        vertical-align: top;\n    }\n\n    .dataframe thead th {\n        text-align: right;\n    }\n</style>\n<table border=\"1\" class=\"dataframe\">\n  <thead>\n    <tr style=\"text-align: right;\">\n      <th></th>\n      <th>hla</th>\n      <th>peptide</th>\n      <th>label</th>\n    </tr>\n  </thead>\n  <tbody>\n    <tr>\n      <th>0</th>\n      <td>YHTEYREICAKTDEDTLYLNYHDYTWAVLAYEWY</td>\n      <td>LEQKLGISL</td>\n      <td>1</td>\n    </tr>\n    <tr>\n      <th>1</th>\n      <td>YDSEYRNIFTNTDESNLYLSYNYYTWAVDAYTWY</td>\n      <td>QLRSVGLNL</td>\n      <td>1</td>\n    </tr>\n    <tr>\n      <th>2</th>\n      <td>YTAMYLQNVAQTDANTLYIMYRDYTWAVLAYTWY</td>\n      <td>ESWSPDACL</td>\n      <td>0</td>\n    </tr>\n    <tr>\n      <th>3</th>\n      <td>YYAGYREKYRQTDVNKLYLRYDSYTWAEWAYEWY</td>\n      <td>KTFFSRENY</td>\n      <td>1</td>\n    </tr>\n    <tr>\n      <th>4</th>\n      <td>YYSEYRNICTNTDESNLYLWYNFYTWAELAYTWH</td>\n      <td>KMEYKGSSWH</td>\n      <td>0</td>\n    </tr>\n    <tr>\n      <th>...</th>\n      <td>...</td>\n      <td>...</td>\n      <td>...</td>\n    </tr>\n    <tr>\n      <th>714939</th>\n      <td>YSAMYQENVAHTDENTLYIIYEHYTWARLAYTWY</td>\n      <td>HWFSRENSY</td>\n      <td>1</td>\n    </tr>\n    <tr>\n      <th>714940</th>\n      <td>YDSGYREKYRQADVNKLYLWYDSYTWAEWAYTWY</td>\n      <td>LRERLHRWQ</td>\n      <td>0</td>\n    </tr>\n    <tr>\n      <th>714941</th>\n      <td>YYTKYREISTNTYENTAYIRYDDYTWAVDAYLSY</td>\n      <td>SENEQRRMF</td>\n      <td>1</td>\n    </tr>\n    <tr>\n      <th>714942</th>\n      <td>YHTEYREICAKTDESTLYLNYHDYTWAELAYEWY</td>\n      <td>VIEDDRIDD</td>\n      <td>0</td>\n    </tr>\n    <tr>\n      <th>714943</th>\n      <td>YFAMYGEKVAHTHVDTLYVRYHYYTWAVLAYTWY</td>\n      <td>AATPLLQSE</td>\n      <td>0</td>\n    </tr>\n  </tbody>\n</table>\n<p>714944 rows × 3 columns</p>\n</div>"
     },
     "execution_count": 58,
     "metadata": {},
     "output_type": "execute_result"
    }
   ],
   "source": [
    "data"
   ],
   "metadata": {
    "collapsed": false,
    "ExecuteTime": {
     "end_time": "2023-10-04T13:27:56.738152800Z",
     "start_time": "2023-10-04T13:27:56.706899Z"
    }
   },
   "id": "4cf63de131f85048"
  },
  {
   "cell_type": "code",
   "execution_count": null,
   "outputs": [],
   "source": [],
   "metadata": {
    "collapsed": false
   },
   "id": "89d56be9b69e3da2"
  }
 ],
 "metadata": {
  "kernelspec": {
   "display_name": "Python 3",
   "language": "python",
   "name": "python3"
  },
  "language_info": {
   "codemirror_mode": {
    "name": "ipython",
    "version": 2
   },
   "file_extension": ".py",
   "mimetype": "text/x-python",
   "name": "python",
   "nbconvert_exporter": "python",
   "pygments_lexer": "ipython2",
   "version": "2.7.6"
  }
 },
 "nbformat": 4,
 "nbformat_minor": 5
}
