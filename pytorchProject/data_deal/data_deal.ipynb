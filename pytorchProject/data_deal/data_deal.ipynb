{
 "cells": [
  {
   "cell_type": "code",
   "execution_count": 1,
   "id": "initial_id",
   "metadata": {
    "collapsed": true,
    "ExecuteTime": {
     "end_time": "2023-09-30T17:08:15.535498500Z",
     "start_time": "2023-09-30T17:08:15.202775300Z"
    }
   },
   "outputs": [],
   "source": [
    "import pandas as pd\n",
    "from collections import Counter"
   ]
  },
  {
   "cell_type": "code",
   "execution_count": null,
   "outputs": [],
   "source": [
    "data = pd.read_csv(\"D:\\ProjectsSTC\\pytorchProject\\data\\pep_tcr_dataset.csv\")"
   ],
   "metadata": {
    "collapsed": false
   },
   "id": "54f668cf48c610e"
  },
  {
   "cell_type": "code",
   "execution_count": null,
   "outputs": [],
   "source": [
    "data"
   ],
   "metadata": {
    "collapsed": false
   },
   "id": "a9e1f24b7aedab4"
  },
  {
   "cell_type": "code",
   "execution_count": null,
   "outputs": [],
   "source": [
    "Counter(data['label'])"
   ],
   "metadata": {
    "collapsed": false
   },
   "id": "3f80acd28fdd89b0"
  },
  {
   "cell_type": "code",
   "execution_count": null,
   "outputs": [],
   "source": [
    "original_data = data[['peptide','tcr']] "
   ],
   "metadata": {
    "collapsed": false
   },
   "id": "3673d9ee2e80b964"
  },
  {
   "cell_type": "code",
   "execution_count": null,
   "outputs": [],
   "source": [
    "original_data"
   ],
   "metadata": {
    "collapsed": false
   },
   "id": "57aae8c9819082fe"
  },
  {
   "cell_type": "code",
   "execution_count": null,
   "outputs": [],
   "source": [
    "import numpy as np\n",
    "rand_index = np.random.permutation(len(data))\n",
    "data1 = data[['peptide']]\n",
    "data2 = data['tcr'].iloc[rand_index]"
   ],
   "metadata": {
    "collapsed": false
   },
   "id": "2904b4635ac8e683"
  },
  {
   "cell_type": "code",
   "execution_count": null,
   "outputs": [],
   "source": [
    "data1"
   ],
   "metadata": {
    "collapsed": false
   },
   "id": "8931758255f4940e"
  },
  {
   "cell_type": "code",
   "execution_count": null,
   "outputs": [],
   "source": [
    "data2 = data2.reset_index()\n",
    "data2 "
   ],
   "metadata": {
    "collapsed": false
   },
   "id": "a2e3d468ece69e4e"
  },
  {
   "cell_type": "code",
   "execution_count": null,
   "outputs": [],
   "source": [
    "data2 = data2['tcr']"
   ],
   "metadata": {
    "collapsed": false
   },
   "id": "4a8ac71248e9b946"
  },
  {
   "cell_type": "code",
   "execution_count": null,
   "outputs": [],
   "source": [
    "data2"
   ],
   "metadata": {
    "collapsed": false
   },
   "id": "c0ac9083b70daa6e"
  },
  {
   "cell_type": "code",
   "execution_count": null,
   "outputs": [],
   "source": [
    "new_data = pd.concat((data1,data2),axis=1)"
   ],
   "metadata": {
    "collapsed": false
   },
   "id": "b5c92571ce4c0934"
  },
  {
   "cell_type": "code",
   "execution_count": null,
   "outputs": [],
   "source": [
    "common_rows = pd.merge(original_data,new_data,how='inner')"
   ],
   "metadata": {
    "collapsed": false
   },
   "id": "871afba113d85d6c"
  },
  {
   "cell_type": "code",
   "execution_count": null,
   "outputs": [],
   "source": [
    "common_rows"
   ],
   "metadata": {
    "collapsed": false
   },
   "id": "f03cf354b6199765"
  },
  {
   "cell_type": "code",
   "execution_count": null,
   "outputs": [],
   "source": [
    "new_data = new_data[~new_data.isin(common_rows.to_dict(orient='list')).all(axis=1)]"
   ],
   "metadata": {
    "collapsed": false
   },
   "id": "6992042c1bb9aa3a"
  },
  {
   "cell_type": "code",
   "execution_count": null,
   "outputs": [],
   "source": [
    "new_data"
   ],
   "metadata": {
    "collapsed": false
   },
   "id": "82acd188d3c8843c"
  },
  {
   "cell_type": "code",
   "execution_count": null,
   "outputs": [],
   "source": [
    "new_data = new_data.dropna()\n",
    "new_data = new_data.drop_duplicates()"
   ],
   "metadata": {
    "collapsed": false
   },
   "id": "683ad4f4bd6b2ef3"
  },
  {
   "cell_type": "code",
   "execution_count": null,
   "outputs": [],
   "source": [
    "new_data"
   ],
   "metadata": {
    "collapsed": false
   },
   "id": "dad2e993d978eb31"
  },
  {
   "cell_type": "code",
   "execution_count": null,
   "outputs": [],
   "source": [
    "new_data.to_csv(\"test3.csv\",index=False)"
   ],
   "metadata": {
    "collapsed": false
   },
   "id": "7c740712318a5ee2"
  },
  {
   "cell_type": "code",
   "execution_count": null,
   "outputs": [],
   "source": [
    "data = pd.read_csv(\"D:\\ProjectsSTC\\pytorchProject\\data\\pep_tcr_dataset.csv\")"
   ],
   "metadata": {
    "collapsed": false
   },
   "id": "a67d18e695247ee"
  },
  {
   "cell_type": "code",
   "execution_count": null,
   "outputs": [],
   "source": [
    "Counter(data['label'])"
   ],
   "metadata": {
    "collapsed": false
   },
   "id": "780bd8e769b05aab"
  },
  {
   "cell_type": "code",
   "execution_count": null,
   "outputs": [],
   "source": [
    "data = data.dropna()\n",
    "data = data.drop_duplicates()"
   ],
   "metadata": {
    "collapsed": false
   },
   "id": "2bc73e12dcb7eacb"
  },
  {
   "cell_type": "code",
   "execution_count": null,
   "outputs": [],
   "source": [
    "data"
   ],
   "metadata": {
    "collapsed": false
   },
   "id": "a33602750eb90d47"
  },
  {
   "cell_type": "code",
   "execution_count": null,
   "outputs": [],
   "source": [
    "for index,value in data['tcr'].items():\n",
    "    if ';' in value:\n",
    "        print('yes')"
   ],
   "metadata": {
    "collapsed": false
   },
   "id": "182be6983f356cae"
  },
  {
   "cell_type": "code",
   "execution_count": null,
   "outputs": [],
   "source": [
    "data = pd.read_csv(\"D:\\ProjectsSTC\\pytorchProject\\data\\\\test.csv\")"
   ],
   "metadata": {
    "collapsed": false
   },
   "id": "6c71f4034da44b2c"
  },
  {
   "cell_type": "code",
   "execution_count": null,
   "outputs": [],
   "source": [
    "data"
   ],
   "metadata": {
    "collapsed": false
   },
   "id": "87e35e16331fa43"
  },
  {
   "cell_type": "code",
   "execution_count": null,
   "outputs": [],
   "source": [
    "data['label'] = 0"
   ],
   "metadata": {
    "collapsed": false
   },
   "id": "e6adb7bf32115b46"
  },
  {
   "cell_type": "code",
   "execution_count": null,
   "outputs": [],
   "source": [
    "data"
   ],
   "metadata": {
    "collapsed": false
   },
   "id": "b6a39a6fbaadebc8"
  },
  {
   "cell_type": "code",
   "execution_count": null,
   "outputs": [],
   "source": [
    "data1 = pd.read_csv(\"D:\\ProjectsSTC\\pytorchProject\\data\\\\test.csv\")"
   ],
   "metadata": {
    "collapsed": false
   },
   "id": "da32b0281934fdeb"
  },
  {
   "cell_type": "code",
   "execution_count": null,
   "outputs": [],
   "source": [
    "data1"
   ],
   "metadata": {
    "collapsed": false
   },
   "id": "843f349b8d358937"
  },
  {
   "cell_type": "code",
   "execution_count": null,
   "outputs": [],
   "source": [
    "data2 = pd.read_csv(\"D:\\ProjectsSTC\\pytorchProject\\data\\\\test2.csv\")"
   ],
   "metadata": {
    "collapsed": false
   },
   "id": "eb52d411bd98c459"
  },
  {
   "cell_type": "code",
   "execution_count": null,
   "outputs": [],
   "source": [
    "data2"
   ],
   "metadata": {
    "collapsed": false
   },
   "id": "fe11075250e30184"
  },
  {
   "cell_type": "code",
   "execution_count": null,
   "outputs": [],
   "source": [
    "data3 = pd.read_csv(\"D:\\ProjectsSTC\\pytorchProject\\data\\\\test3.csv\")"
   ],
   "metadata": {
    "collapsed": false
   },
   "id": "890c6ef9cf2805f4"
  },
  {
   "cell_type": "code",
   "execution_count": null,
   "outputs": [],
   "source": [
    "data = pd.concat((data1,data2,data3),axis=0)"
   ],
   "metadata": {
    "collapsed": false
   },
   "id": "2dc2d91d4dba11a9"
  },
  {
   "cell_type": "code",
   "execution_count": null,
   "outputs": [],
   "source": [
    "data = data.dropna()\n",
    "data = data.drop_duplicates()"
   ],
   "metadata": {
    "collapsed": false
   },
   "id": "6647b6ba854fc21e"
  },
  {
   "cell_type": "code",
   "execution_count": null,
   "outputs": [],
   "source": [
    "data.to_csv(\"n.csv\",index=False)"
   ],
   "metadata": {
    "collapsed": false
   },
   "id": "b839a32e7ea2f690"
  },
  {
   "cell_type": "code",
   "execution_count": 2,
   "outputs": [],
   "source": [
    "true_data = pd.read_csv(\"D:\\ProjectsSTC\\pytorchProject\\data\\pep_tcr_dataset.csv\")"
   ],
   "metadata": {
    "collapsed": false,
    "ExecuteTime": {
     "end_time": "2023-09-30T17:08:20.589434400Z",
     "start_time": "2023-09-30T17:08:20.545521600Z"
    }
   },
   "id": "de1b184570d4c5ea"
  },
  {
   "cell_type": "code",
   "execution_count": 4,
   "outputs": [
    {
     "data": {
      "text/plain": "           peptide                   tcr  label\n0        KLGGALQAK      CASSKGLAGGPYEQYV      1\n1       LPRRSGAAGA          CSVWSGSTEAFF      1\n2        KLGGALQAK       CASSPDWSSHNEQFF      1\n3        KLGGALQAK         CASTLPRDTEAFF      1\n4        KLGGALQAK         CATPNRGFDGYTF      1\n...            ...                   ...    ...\n39091  ASFRPELAEFW  CASTGSYGYTFGSGTRLTVT      1\n39092    NLAPMVATV      CASSLAPGTTNEKLFF      1\n39093    ALGGLLTMV          ASSYVSQNNEQF      1\n39094  LAITPEIAPYF  CASTGSYGYTFGSGTRLTVT      1\n39095            1                     1      1\n\n[39096 rows x 3 columns]",
      "text/html": "<div>\n<style scoped>\n    .dataframe tbody tr th:only-of-type {\n        vertical-align: middle;\n    }\n\n    .dataframe tbody tr th {\n        vertical-align: top;\n    }\n\n    .dataframe thead th {\n        text-align: right;\n    }\n</style>\n<table border=\"1\" class=\"dataframe\">\n  <thead>\n    <tr style=\"text-align: right;\">\n      <th></th>\n      <th>peptide</th>\n      <th>tcr</th>\n      <th>label</th>\n    </tr>\n  </thead>\n  <tbody>\n    <tr>\n      <th>0</th>\n      <td>KLGGALQAK</td>\n      <td>CASSKGLAGGPYEQYV</td>\n      <td>1</td>\n    </tr>\n    <tr>\n      <th>1</th>\n      <td>LPRRSGAAGA</td>\n      <td>CSVWSGSTEAFF</td>\n      <td>1</td>\n    </tr>\n    <tr>\n      <th>2</th>\n      <td>KLGGALQAK</td>\n      <td>CASSPDWSSHNEQFF</td>\n      <td>1</td>\n    </tr>\n    <tr>\n      <th>3</th>\n      <td>KLGGALQAK</td>\n      <td>CASTLPRDTEAFF</td>\n      <td>1</td>\n    </tr>\n    <tr>\n      <th>4</th>\n      <td>KLGGALQAK</td>\n      <td>CATPNRGFDGYTF</td>\n      <td>1</td>\n    </tr>\n    <tr>\n      <th>...</th>\n      <td>...</td>\n      <td>...</td>\n      <td>...</td>\n    </tr>\n    <tr>\n      <th>39091</th>\n      <td>ASFRPELAEFW</td>\n      <td>CASTGSYGYTFGSGTRLTVT</td>\n      <td>1</td>\n    </tr>\n    <tr>\n      <th>39092</th>\n      <td>NLAPMVATV</td>\n      <td>CASSLAPGTTNEKLFF</td>\n      <td>1</td>\n    </tr>\n    <tr>\n      <th>39093</th>\n      <td>ALGGLLTMV</td>\n      <td>ASSYVSQNNEQF</td>\n      <td>1</td>\n    </tr>\n    <tr>\n      <th>39094</th>\n      <td>LAITPEIAPYF</td>\n      <td>CASTGSYGYTFGSGTRLTVT</td>\n      <td>1</td>\n    </tr>\n    <tr>\n      <th>39095</th>\n      <td>1</td>\n      <td>1</td>\n      <td>1</td>\n    </tr>\n  </tbody>\n</table>\n<p>39096 rows × 3 columns</p>\n</div>"
     },
     "execution_count": 4,
     "metadata": {},
     "output_type": "execute_result"
    }
   ],
   "source": [
    "true_data"
   ],
   "metadata": {
    "collapsed": false,
    "ExecuteTime": {
     "end_time": "2023-09-30T17:08:24.284524100Z",
     "start_time": "2023-09-30T17:08:24.251350700Z"
    }
   },
   "id": "151feebe2c08c302"
  },
  {
   "cell_type": "code",
   "execution_count": null,
   "outputs": [],
   "source": [
    "true_data = true_data[['peptide','tcr']]"
   ],
   "metadata": {
    "collapsed": false
   },
   "id": "cd91fc35a99b1193"
  },
  {
   "cell_type": "code",
   "execution_count": null,
   "outputs": [],
   "source": [
    "common_rows = pd.merge(data,true_data,how='inner')"
   ],
   "metadata": {
    "collapsed": false
   },
   "id": "59cfa94fa8d87e1"
  },
  {
   "cell_type": "code",
   "execution_count": null,
   "outputs": [],
   "source": [
    "common_rows"
   ],
   "metadata": {
    "collapsed": false
   },
   "id": "742f54e14f72c9a2"
  },
  {
   "cell_type": "code",
   "execution_count": 5,
   "outputs": [],
   "source": [
    "data = pd.read_csv(\"n.csv\")"
   ],
   "metadata": {
    "collapsed": false,
    "ExecuteTime": {
     "end_time": "2023-09-30T17:08:38.814735300Z",
     "start_time": "2023-09-30T17:08:38.756714700Z"
    }
   },
   "id": "ec38638255f3c1a8"
  },
  {
   "cell_type": "code",
   "execution_count": 6,
   "outputs": [],
   "source": [
    "data = data.sample(frac=0.5)"
   ],
   "metadata": {
    "collapsed": false,
    "ExecuteTime": {
     "end_time": "2023-09-30T17:08:39.190942100Z",
     "start_time": "2023-09-30T17:08:39.169936900Z"
    }
   },
   "id": "1f0ce942c3af4cd6"
  },
  {
   "cell_type": "code",
   "execution_count": 7,
   "outputs": [],
   "source": [
    "data['label']=0"
   ],
   "metadata": {
    "collapsed": false,
    "ExecuteTime": {
     "end_time": "2023-09-30T17:08:40.316783200Z",
     "start_time": "2023-09-30T17:08:40.286729200Z"
    }
   },
   "id": "659a9cac1eb95afe"
  },
  {
   "cell_type": "code",
   "execution_count": 8,
   "outputs": [
    {
     "data": {
      "text/plain": "          peptide                tcr  label\n31519   IPSINVHHY   CASSQEGAGGIHEQYF      0\n61662   CRVLCCYVL  CASSQDPRASHRGAQYF      0\n54265   NLVPMVATV      CSARVPRGPGYTF      0\n21553   CRVLCCYVL     CASSIYPGTDTQYF      0\n44291   GILGFVFTL    CASSYSSGKTDTQYF      0\n...           ...                ...    ...\n20253  AVFDRKSDAK     CASAGPGRNQPQHF      0\n21123   KLGGALQAK     CASSDGGLGQPQHF      0\n254      RAKFKQLL     CASSLDGGNTGELF      0\n56707    NEGVKAAW   CSARDSSGGAKNIQYF      0\n72359   LLWNGPMAV     CASSHPGGANVLTF      0\n\n[41310 rows x 3 columns]",
      "text/html": "<div>\n<style scoped>\n    .dataframe tbody tr th:only-of-type {\n        vertical-align: middle;\n    }\n\n    .dataframe tbody tr th {\n        vertical-align: top;\n    }\n\n    .dataframe thead th {\n        text-align: right;\n    }\n</style>\n<table border=\"1\" class=\"dataframe\">\n  <thead>\n    <tr style=\"text-align: right;\">\n      <th></th>\n      <th>peptide</th>\n      <th>tcr</th>\n      <th>label</th>\n    </tr>\n  </thead>\n  <tbody>\n    <tr>\n      <th>31519</th>\n      <td>IPSINVHHY</td>\n      <td>CASSQEGAGGIHEQYF</td>\n      <td>0</td>\n    </tr>\n    <tr>\n      <th>61662</th>\n      <td>CRVLCCYVL</td>\n      <td>CASSQDPRASHRGAQYF</td>\n      <td>0</td>\n    </tr>\n    <tr>\n      <th>54265</th>\n      <td>NLVPMVATV</td>\n      <td>CSARVPRGPGYTF</td>\n      <td>0</td>\n    </tr>\n    <tr>\n      <th>21553</th>\n      <td>CRVLCCYVL</td>\n      <td>CASSIYPGTDTQYF</td>\n      <td>0</td>\n    </tr>\n    <tr>\n      <th>44291</th>\n      <td>GILGFVFTL</td>\n      <td>CASSYSSGKTDTQYF</td>\n      <td>0</td>\n    </tr>\n    <tr>\n      <th>...</th>\n      <td>...</td>\n      <td>...</td>\n      <td>...</td>\n    </tr>\n    <tr>\n      <th>20253</th>\n      <td>AVFDRKSDAK</td>\n      <td>CASAGPGRNQPQHF</td>\n      <td>0</td>\n    </tr>\n    <tr>\n      <th>21123</th>\n      <td>KLGGALQAK</td>\n      <td>CASSDGGLGQPQHF</td>\n      <td>0</td>\n    </tr>\n    <tr>\n      <th>254</th>\n      <td>RAKFKQLL</td>\n      <td>CASSLDGGNTGELF</td>\n      <td>0</td>\n    </tr>\n    <tr>\n      <th>56707</th>\n      <td>NEGVKAAW</td>\n      <td>CSARDSSGGAKNIQYF</td>\n      <td>0</td>\n    </tr>\n    <tr>\n      <th>72359</th>\n      <td>LLWNGPMAV</td>\n      <td>CASSHPGGANVLTF</td>\n      <td>0</td>\n    </tr>\n  </tbody>\n</table>\n<p>41310 rows × 3 columns</p>\n</div>"
     },
     "execution_count": 8,
     "metadata": {},
     "output_type": "execute_result"
    }
   ],
   "source": [
    "data"
   ],
   "metadata": {
    "collapsed": false,
    "ExecuteTime": {
     "end_time": "2023-09-30T17:08:40.912311400Z",
     "start_time": "2023-09-30T17:08:40.894307900Z"
    }
   },
   "id": "40b181f549402b8f"
  },
  {
   "cell_type": "code",
   "execution_count": 10,
   "outputs": [
    {
     "data": {
      "text/plain": "       index     peptide                tcr  label\n0      31519   IPSINVHHY   CASSQEGAGGIHEQYF      0\n1      61662   CRVLCCYVL  CASSQDPRASHRGAQYF      0\n2      54265   NLVPMVATV      CSARVPRGPGYTF      0\n3      21553   CRVLCCYVL     CASSIYPGTDTQYF      0\n4      44291   GILGFVFTL    CASSYSSGKTDTQYF      0\n...      ...         ...                ...    ...\n41305  20253  AVFDRKSDAK     CASAGPGRNQPQHF      0\n41306  21123   KLGGALQAK     CASSDGGLGQPQHF      0\n41307    254    RAKFKQLL     CASSLDGGNTGELF      0\n41308  56707    NEGVKAAW   CSARDSSGGAKNIQYF      0\n41309  72359   LLWNGPMAV     CASSHPGGANVLTF      0\n\n[41310 rows x 4 columns]",
      "text/html": "<div>\n<style scoped>\n    .dataframe tbody tr th:only-of-type {\n        vertical-align: middle;\n    }\n\n    .dataframe tbody tr th {\n        vertical-align: top;\n    }\n\n    .dataframe thead th {\n        text-align: right;\n    }\n</style>\n<table border=\"1\" class=\"dataframe\">\n  <thead>\n    <tr style=\"text-align: right;\">\n      <th></th>\n      <th>index</th>\n      <th>peptide</th>\n      <th>tcr</th>\n      <th>label</th>\n    </tr>\n  </thead>\n  <tbody>\n    <tr>\n      <th>0</th>\n      <td>31519</td>\n      <td>IPSINVHHY</td>\n      <td>CASSQEGAGGIHEQYF</td>\n      <td>0</td>\n    </tr>\n    <tr>\n      <th>1</th>\n      <td>61662</td>\n      <td>CRVLCCYVL</td>\n      <td>CASSQDPRASHRGAQYF</td>\n      <td>0</td>\n    </tr>\n    <tr>\n      <th>2</th>\n      <td>54265</td>\n      <td>NLVPMVATV</td>\n      <td>CSARVPRGPGYTF</td>\n      <td>0</td>\n    </tr>\n    <tr>\n      <th>3</th>\n      <td>21553</td>\n      <td>CRVLCCYVL</td>\n      <td>CASSIYPGTDTQYF</td>\n      <td>0</td>\n    </tr>\n    <tr>\n      <th>4</th>\n      <td>44291</td>\n      <td>GILGFVFTL</td>\n      <td>CASSYSSGKTDTQYF</td>\n      <td>0</td>\n    </tr>\n    <tr>\n      <th>...</th>\n      <td>...</td>\n      <td>...</td>\n      <td>...</td>\n      <td>...</td>\n    </tr>\n    <tr>\n      <th>41305</th>\n      <td>20253</td>\n      <td>AVFDRKSDAK</td>\n      <td>CASAGPGRNQPQHF</td>\n      <td>0</td>\n    </tr>\n    <tr>\n      <th>41306</th>\n      <td>21123</td>\n      <td>KLGGALQAK</td>\n      <td>CASSDGGLGQPQHF</td>\n      <td>0</td>\n    </tr>\n    <tr>\n      <th>41307</th>\n      <td>254</td>\n      <td>RAKFKQLL</td>\n      <td>CASSLDGGNTGELF</td>\n      <td>0</td>\n    </tr>\n    <tr>\n      <th>41308</th>\n      <td>56707</td>\n      <td>NEGVKAAW</td>\n      <td>CSARDSSGGAKNIQYF</td>\n      <td>0</td>\n    </tr>\n    <tr>\n      <th>41309</th>\n      <td>72359</td>\n      <td>LLWNGPMAV</td>\n      <td>CASSHPGGANVLTF</td>\n      <td>0</td>\n    </tr>\n  </tbody>\n</table>\n<p>41310 rows × 4 columns</p>\n</div>"
     },
     "execution_count": 10,
     "metadata": {},
     "output_type": "execute_result"
    }
   ],
   "source": [
    "data = data.reset_index()\n",
    "data "
   ],
   "metadata": {
    "collapsed": false,
    "ExecuteTime": {
     "end_time": "2023-09-30T17:09:11.130950100Z",
     "start_time": "2023-09-30T17:09:11.105816Z"
    }
   },
   "id": "8ea914af18edd3c1"
  },
  {
   "cell_type": "code",
   "execution_count": 11,
   "outputs": [],
   "source": [
    "data = data[['peptide','tcr','label']]"
   ],
   "metadata": {
    "collapsed": false,
    "ExecuteTime": {
     "end_time": "2023-09-30T17:09:35.251191900Z",
     "start_time": "2023-09-30T17:09:35.234889300Z"
    }
   },
   "id": "703cf205c4e44315"
  },
  {
   "cell_type": "code",
   "execution_count": 12,
   "outputs": [],
   "source": [
    "data = pd.concat((true_data,data),axis=0)"
   ],
   "metadata": {
    "collapsed": false,
    "ExecuteTime": {
     "end_time": "2023-09-30T17:09:37.055456300Z",
     "start_time": "2023-09-30T17:09:37.042396100Z"
    }
   },
   "id": "b893973b6951099c"
  },
  {
   "cell_type": "code",
   "execution_count": 14,
   "outputs": [],
   "source": [
    "data.to_csv(\"pep_tcr_dataset.csv\",index=False)"
   ],
   "metadata": {
    "collapsed": false,
    "ExecuteTime": {
     "end_time": "2023-09-30T17:10:31.968559600Z",
     "start_time": "2023-09-30T17:10:31.861540200Z"
    }
   },
   "id": "becba8f712c08452"
  },
  {
   "cell_type": "code",
   "execution_count": 15,
   "outputs": [
    {
     "data": {
      "text/plain": "Counter({1: 39096, 0: 41310})"
     },
     "execution_count": 15,
     "metadata": {},
     "output_type": "execute_result"
    }
   ],
   "source": [
    "Counter(data['label'])"
   ],
   "metadata": {
    "collapsed": false,
    "ExecuteTime": {
     "end_time": "2023-09-30T17:10:39.575362Z",
     "start_time": "2023-09-30T17:10:39.525305600Z"
    }
   },
   "id": "299bc65992e4c7c1"
  },
  {
   "cell_type": "code",
   "execution_count": null,
   "outputs": [],
   "source": [],
   "metadata": {
    "collapsed": false
   },
   "id": "4e1ae26afbe5e39"
  }
 ],
 "metadata": {
  "kernelspec": {
   "display_name": "Python 3",
   "language": "python",
   "name": "python3"
  },
  "language_info": {
   "codemirror_mode": {
    "name": "ipython",
    "version": 2
   },
   "file_extension": ".py",
   "mimetype": "text/x-python",
   "name": "python",
   "nbconvert_exporter": "python",
   "pygments_lexer": "ipython2",
   "version": "2.7.6"
  }
 },
 "nbformat": 4,
 "nbformat_minor": 5
}
