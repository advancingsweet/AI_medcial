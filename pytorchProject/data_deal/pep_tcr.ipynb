{
 "cells": [
  {
   "cell_type": "code",
   "execution_count": 1,
   "id": "initial_id",
   "metadata": {
    "collapsed": true,
    "ExecuteTime": {
     "end_time": "2023-09-30T11:33:11.506881500Z",
     "start_time": "2023-09-30T11:33:11.159270100Z"
    }
   },
   "outputs": [],
   "source": [
    "import pandas as pd\n",
    "from collections import Counter"
   ]
  },
  {
   "cell_type": "code",
   "execution_count": null,
   "outputs": [],
   "source": [
    "data1 = pd.read_csv(\"D:\\ProjectsSTC\\pytorchProject\\data_deal\\data\\\\trainset_all.csv\")"
   ],
   "metadata": {
    "collapsed": false
   },
   "id": "24b7cbfe203a79b7"
  },
  {
   "cell_type": "code",
   "execution_count": null,
   "outputs": [],
   "source": [
    "data1"
   ],
   "metadata": {
    "collapsed": false
   },
   "id": "40036717ee3d4be3"
  },
  {
   "cell_type": "code",
   "execution_count": null,
   "outputs": [],
   "source": [
    "data1 = data1[['Antigen','CDR3','label_cdr']]"
   ],
   "metadata": {
    "collapsed": false
   },
   "id": "c5dc9347bb8597a6"
  },
  {
   "cell_type": "code",
   "execution_count": null,
   "outputs": [],
   "source": [
    "data1"
   ],
   "metadata": {
    "collapsed": false
   },
   "id": "43c0d3a7650645fd"
  },
  {
   "cell_type": "code",
   "execution_count": null,
   "outputs": [],
   "source": [
    "colum_map = {\n",
    "    \"Antigen\":'peptide',\n",
    "    \"CDR3\":\"tcr\",\n",
    "    \"label_cdr\":\"label\"\n",
    "}"
   ],
   "metadata": {
    "collapsed": false
   },
   "id": "43ac8e89e2e8dcae"
  },
  {
   "cell_type": "code",
   "execution_count": null,
   "outputs": [],
   "source": [
    "data1=data1.rename(columns=colum_map)"
   ],
   "metadata": {
    "collapsed": false
   },
   "id": "e19376591f4857ae"
  },
  {
   "cell_type": "code",
   "execution_count": null,
   "outputs": [],
   "source": [
    "data1"
   ],
   "metadata": {
    "collapsed": false
   },
   "id": "99b39ecc473f760d"
  },
  {
   "cell_type": "code",
   "execution_count": null,
   "outputs": [],
   "source": [
    "data1 = data1.dropna()\n",
    "data1 = data1.drop_duplicates()"
   ],
   "metadata": {
    "collapsed": false
   },
   "id": "4852a3c6cf0d5626"
  },
  {
   "cell_type": "code",
   "execution_count": null,
   "outputs": [],
   "source": [
    "Counter(data1['label'])"
   ],
   "metadata": {
    "collapsed": false
   },
   "id": "916f0dcceaef36e"
  },
  {
   "cell_type": "code",
   "execution_count": null,
   "outputs": [],
   "source": [
    "data1 = data1[data1['label']==1]"
   ],
   "metadata": {
    "collapsed": false
   },
   "id": "acce31a3f2e207a3"
  },
  {
   "cell_type": "code",
   "execution_count": null,
   "outputs": [],
   "source": [
    "data1 = data1.dropna()\n",
    "data1 = data1.drop_duplicates()"
   ],
   "metadata": {
    "collapsed": false
   },
   "id": "5d7cc0c1c38f9a2e"
  },
  {
   "cell_type": "code",
   "execution_count": null,
   "outputs": [],
   "source": [
    "data1.to_csv(\"data1.csv\",index=False)"
   ],
   "metadata": {
    "collapsed": false
   },
   "id": "1b257ebeac10326d"
  },
  {
   "cell_type": "code",
   "execution_count": null,
   "outputs": [],
   "source": [
    "Counter(data1['label'])"
   ],
   "metadata": {
    "collapsed": false
   },
   "id": "3f9c267e82684464"
  },
  {
   "cell_type": "code",
   "execution_count": null,
   "outputs": [],
   "source": [
    "data2 = pd.read_csv(\"./data/majority_training_dataset.csv\")"
   ],
   "metadata": {
    "collapsed": false
   },
   "id": "575f49c6cd114c20"
  },
  {
   "cell_type": "code",
   "execution_count": null,
   "outputs": [],
   "source": [
    "data3 = pd.read_csv(\"./data/majority_testing_dataset.csv\")"
   ],
   "metadata": {
    "collapsed": false
   },
   "id": "ec99f0b6b3a12ddc"
  },
  {
   "cell_type": "code",
   "execution_count": null,
   "outputs": [],
   "source": [
    "data4 = pd.read_csv(\"./data/Example_majority.csv\")"
   ],
   "metadata": {
    "collapsed": false
   },
   "id": "f63227db74eaad4f"
  },
  {
   "cell_type": "code",
   "execution_count": null,
   "outputs": [],
   "source": [
    "data5 = pd.read_csv(\"./data/meta_dataset.csv\")"
   ],
   "metadata": {
    "collapsed": false
   },
   "id": "eb0db2e55d1f79e8"
  },
  {
   "cell_type": "code",
   "execution_count": null,
   "outputs": [],
   "source": [
    "data6 = pd.read_csv(\"./data/base_dataset.csv\")"
   ],
   "metadata": {
    "collapsed": false
   },
   "id": "4da96e75988be19b"
  },
  {
   "cell_type": "code",
   "execution_count": null,
   "outputs": [],
   "source": [
    "data7 = pd.read_csv(\"./data/Example_few-shot.csv\")"
   ],
   "metadata": {
    "collapsed": false
   },
   "id": "a6c3d561a0f38c64"
  },
  {
   "cell_type": "code",
   "execution_count": null,
   "outputs": [],
   "source": [
    "colum_map = {\n",
    "    \"Peptide\":\"peptide\",\n",
    "    \"binding_TCR\":\"tcr\",\n",
    "    \"label\":\"label\",\n",
    "    \"CDR3\":\"tcr\",\n",
    "    \"Label\":\"label\"\n",
    "}"
   ],
   "metadata": {
    "collapsed": false
   },
   "id": "45ee70dc4019296"
  },
  {
   "cell_type": "code",
   "execution_count": null,
   "outputs": [],
   "source": [
    "data2 = data2.rename(columns=colum_map)\n",
    "data2"
   ],
   "metadata": {
    "collapsed": false
   },
   "id": "33c6d9b3ba8e74be"
  },
  {
   "cell_type": "code",
   "execution_count": null,
   "outputs": [],
   "source": [
    "data3 = data3.rename(columns=colum_map)\n",
    "data3"
   ],
   "metadata": {
    "collapsed": false
   },
   "id": "8d566e66071abf5d"
  },
  {
   "cell_type": "code",
   "execution_count": null,
   "outputs": [],
   "source": [
    "data4 = data4.rename(columns=colum_map)\n",
    "data4"
   ],
   "metadata": {
    "collapsed": false
   },
   "id": "b6a5a2126c940de6"
  },
  {
   "cell_type": "code",
   "execution_count": null,
   "outputs": [],
   "source": [
    "data5 = data5.rename(columns=colum_map)\n",
    "data5"
   ],
   "metadata": {
    "collapsed": false
   },
   "id": "8dec4e3729cefe86"
  },
  {
   "cell_type": "code",
   "execution_count": null,
   "outputs": [],
   "source": [
    "data6 = data6.rename(columns=colum_map)\n",
    "data6"
   ],
   "metadata": {
    "collapsed": false
   },
   "id": "9842f169ca987450"
  },
  {
   "cell_type": "code",
   "execution_count": null,
   "outputs": [],
   "source": [
    "data7 = data7.rename(columns=colum_map)\n",
    "data7"
   ],
   "metadata": {
    "collapsed": false
   },
   "id": "7e9dc27055223ae"
  },
  {
   "cell_type": "code",
   "execution_count": null,
   "outputs": [],
   "source": [
    "data = pd.concat((data2,data3,data4,data5,data6,data7),axis=0)"
   ],
   "metadata": {
    "collapsed": false
   },
   "id": "ee40db942d8d32b5"
  },
  {
   "cell_type": "code",
   "execution_count": null,
   "outputs": [],
   "source": [
    "data.shape[0] == data2.shape[0] + data3.shape[0]+ data4.shape[0]+ data5.shape[0]+ data6.shape[0]+data7.shape[0]"
   ],
   "metadata": {
    "collapsed": false
   },
   "id": "e87d6d515e26e56c"
  },
  {
   "cell_type": "code",
   "execution_count": null,
   "outputs": [],
   "source": [
    "data"
   ],
   "metadata": {
    "collapsed": false
   },
   "id": "4d06085c5bc78e0d"
  },
  {
   "cell_type": "code",
   "execution_count": null,
   "outputs": [],
   "source": [
    "data = data.dropna()\n",
    "data = data.drop_duplicates()"
   ],
   "metadata": {
    "collapsed": false
   },
   "id": "7c71d38bc004ee27"
  },
  {
   "cell_type": "code",
   "execution_count": null,
   "outputs": [],
   "source": [
    "data"
   ],
   "metadata": {
    "collapsed": false
   },
   "id": "b4d65739bef8e3d7"
  },
  {
   "cell_type": "code",
   "execution_count": null,
   "outputs": [],
   "source": [
    "Counter(data['label'])"
   ],
   "metadata": {
    "collapsed": false
   },
   "id": "d98dda4df7f3c78"
  },
  {
   "cell_type": "code",
   "execution_count": null,
   "outputs": [],
   "source": [
    "num =0\n",
    "for index,value in data['label'].items():\n",
    "    if value == '0':\n",
    "        num +=1"
   ],
   "metadata": {
    "collapsed": false
   },
   "id": "23cba5dcc44c2944"
  },
  {
   "cell_type": "code",
   "execution_count": null,
   "outputs": [],
   "source": [
    "num"
   ],
   "metadata": {
    "collapsed": false
   },
   "id": "2f4b8cf7fbfcb4f4"
  },
  {
   "cell_type": "code",
   "execution_count": null,
   "outputs": [],
   "source": [
    "Counter(data['label'])"
   ],
   "metadata": {
    "collapsed": false
   },
   "id": "6ab1042d125207b6"
  },
  {
   "cell_type": "code",
   "execution_count": null,
   "outputs": [],
   "source": [
    "34232+ 11410"
   ],
   "metadata": {
    "collapsed": false
   },
   "id": "78daf702f2e7f1c4"
  },
  {
   "cell_type": "code",
   "execution_count": null,
   "outputs": [],
   "source": [
    "data = pd.concat((data[data['label']==1],data[data['label']=='1']),axis=0)"
   ],
   "metadata": {
    "collapsed": false
   },
   "id": "e78608f676b23aff"
  },
  {
   "cell_type": "code",
   "execution_count": null,
   "outputs": [],
   "source": [],
   "metadata": {
    "collapsed": false
   },
   "id": "9041f951175ce754"
  },
  {
   "cell_type": "code",
   "execution_count": null,
   "outputs": [],
   "source": [
    "Counter(data['label'])"
   ],
   "metadata": {
    "collapsed": false
   },
   "id": "2a748e4ad4f3901b"
  },
  {
   "cell_type": "code",
   "execution_count": null,
   "outputs": [],
   "source": [
    "data[data['label']=='1']=1"
   ],
   "metadata": {
    "collapsed": false
   },
   "id": "111da9aa55d8b541"
  },
  {
   "cell_type": "code",
   "execution_count": null,
   "outputs": [],
   "source": [
    "Counter(data['label'])"
   ],
   "metadata": {
    "collapsed": false
   },
   "id": "b014350774a8a8d9"
  },
  {
   "cell_type": "code",
   "execution_count": null,
   "outputs": [],
   "source": [
    "34232+11654"
   ],
   "metadata": {
    "collapsed": false
   },
   "id": "6f6145143e8aa6f9"
  },
  {
   "cell_type": "code",
   "execution_count": null,
   "outputs": [],
   "source": [
    "Counter(data['label'])"
   ],
   "metadata": {
    "collapsed": false
   },
   "id": "52b0056a5369057c"
  },
  {
   "cell_type": "code",
   "execution_count": null,
   "outputs": [],
   "source": [
    "data.to_csv(\"data2.csv\",index=False)"
   ],
   "metadata": {
    "collapsed": false
   },
   "id": "6a2ec1bfe0651f74"
  },
  {
   "cell_type": "code",
   "execution_count": 2,
   "outputs": [],
   "source": [
    "data1 = pd.read_csv(\"data1.csv\")"
   ],
   "metadata": {
    "collapsed": false,
    "ExecuteTime": {
     "end_time": "2023-09-30T11:33:16.540282100Z",
     "start_time": "2023-09-30T11:33:16.512276Z"
    }
   },
   "id": "c2e6fc6a45971b59"
  },
  {
   "cell_type": "code",
   "execution_count": 4,
   "outputs": [
    {
     "data": {
      "text/plain": "          peptide                tcr  label\n0       KLGGALQAK  CASSKGLAGGPYEQYV;      1\n1      LPRRSGAAGA       CSVWSGSTEAFF      1\n2       KLGGALQAK    CASSPDWSSHNEQFF      1\n3       KLGGALQAK      CASTLPRDTEAFF      1\n4       KLGGALQAK      CATPNRGFDGYTF      1\n...           ...                ...    ...\n30763   KLGGALQAK    CASSQDWGANTEAFF      1\n30764   KLGGALQAK        CSSGGTYGYTF      1\n30765   GLCTLVAML   CASSQQLRVINTEAFF      1\n30766   KLGGALQAK    CASSLRSLYNSPLHF      1\n30767   GILGFVFTL     CASSLLSGSYEQYF      1\n\n[30768 rows x 3 columns]",
      "text/html": "<div>\n<style scoped>\n    .dataframe tbody tr th:only-of-type {\n        vertical-align: middle;\n    }\n\n    .dataframe tbody tr th {\n        vertical-align: top;\n    }\n\n    .dataframe thead th {\n        text-align: right;\n    }\n</style>\n<table border=\"1\" class=\"dataframe\">\n  <thead>\n    <tr style=\"text-align: right;\">\n      <th></th>\n      <th>peptide</th>\n      <th>tcr</th>\n      <th>label</th>\n    </tr>\n  </thead>\n  <tbody>\n    <tr>\n      <th>0</th>\n      <td>KLGGALQAK</td>\n      <td>CASSKGLAGGPYEQYV;</td>\n      <td>1</td>\n    </tr>\n    <tr>\n      <th>1</th>\n      <td>LPRRSGAAGA</td>\n      <td>CSVWSGSTEAFF</td>\n      <td>1</td>\n    </tr>\n    <tr>\n      <th>2</th>\n      <td>KLGGALQAK</td>\n      <td>CASSPDWSSHNEQFF</td>\n      <td>1</td>\n    </tr>\n    <tr>\n      <th>3</th>\n      <td>KLGGALQAK</td>\n      <td>CASTLPRDTEAFF</td>\n      <td>1</td>\n    </tr>\n    <tr>\n      <th>4</th>\n      <td>KLGGALQAK</td>\n      <td>CATPNRGFDGYTF</td>\n      <td>1</td>\n    </tr>\n    <tr>\n      <th>...</th>\n      <td>...</td>\n      <td>...</td>\n      <td>...</td>\n    </tr>\n    <tr>\n      <th>30763</th>\n      <td>KLGGALQAK</td>\n      <td>CASSQDWGANTEAFF</td>\n      <td>1</td>\n    </tr>\n    <tr>\n      <th>30764</th>\n      <td>KLGGALQAK</td>\n      <td>CSSGGTYGYTF</td>\n      <td>1</td>\n    </tr>\n    <tr>\n      <th>30765</th>\n      <td>GLCTLVAML</td>\n      <td>CASSQQLRVINTEAFF</td>\n      <td>1</td>\n    </tr>\n    <tr>\n      <th>30766</th>\n      <td>KLGGALQAK</td>\n      <td>CASSLRSLYNSPLHF</td>\n      <td>1</td>\n    </tr>\n    <tr>\n      <th>30767</th>\n      <td>GILGFVFTL</td>\n      <td>CASSLLSGSYEQYF</td>\n      <td>1</td>\n    </tr>\n  </tbody>\n</table>\n<p>30768 rows × 3 columns</p>\n</div>"
     },
     "execution_count": 4,
     "metadata": {},
     "output_type": "execute_result"
    }
   ],
   "source": [
    "data1"
   ],
   "metadata": {
    "collapsed": false,
    "ExecuteTime": {
     "end_time": "2023-09-30T11:33:26.462362900Z",
     "start_time": "2023-09-30T11:33:26.433802700Z"
    }
   },
   "id": "824975d5775d2d29"
  },
  {
   "cell_type": "code",
   "execution_count": 3,
   "outputs": [],
   "source": [
    "data2 = pd.read_csv(\"data2.csv\")"
   ],
   "metadata": {
    "collapsed": false,
    "ExecuteTime": {
     "end_time": "2023-09-30T11:33:17.030724400Z",
     "start_time": "2023-09-30T11:33:16.980713300Z"
    }
   },
   "id": "38046ba6cf9b1e7b"
  },
  {
   "cell_type": "code",
   "execution_count": 5,
   "outputs": [
    {
     "data": {
      "text/plain": "         peptide              tcr  label\n0      ATDALMTGY   CAISESQGNTEAFF      1\n1      ATDALMTGY   CAISEDRALVSYTF      1\n2      ATDALMTGY   CAISEDRALNEQFF      1\n3      ATDALMTGY   CAVQPGQGMQPQHF      1\n4      ATDALMTGY  CAISEGAMGNQPQHF      1\n...          ...              ...    ...\n45881          1                1      1\n45882          1                1      1\n45883          1                1      1\n45884          1                1      1\n45885          1                1      1\n\n[45886 rows x 3 columns]",
      "text/html": "<div>\n<style scoped>\n    .dataframe tbody tr th:only-of-type {\n        vertical-align: middle;\n    }\n\n    .dataframe tbody tr th {\n        vertical-align: top;\n    }\n\n    .dataframe thead th {\n        text-align: right;\n    }\n</style>\n<table border=\"1\" class=\"dataframe\">\n  <thead>\n    <tr style=\"text-align: right;\">\n      <th></th>\n      <th>peptide</th>\n      <th>tcr</th>\n      <th>label</th>\n    </tr>\n  </thead>\n  <tbody>\n    <tr>\n      <th>0</th>\n      <td>ATDALMTGY</td>\n      <td>CAISESQGNTEAFF</td>\n      <td>1</td>\n    </tr>\n    <tr>\n      <th>1</th>\n      <td>ATDALMTGY</td>\n      <td>CAISEDRALVSYTF</td>\n      <td>1</td>\n    </tr>\n    <tr>\n      <th>2</th>\n      <td>ATDALMTGY</td>\n      <td>CAISEDRALNEQFF</td>\n      <td>1</td>\n    </tr>\n    <tr>\n      <th>3</th>\n      <td>ATDALMTGY</td>\n      <td>CAVQPGQGMQPQHF</td>\n      <td>1</td>\n    </tr>\n    <tr>\n      <th>4</th>\n      <td>ATDALMTGY</td>\n      <td>CAISEGAMGNQPQHF</td>\n      <td>1</td>\n    </tr>\n    <tr>\n      <th>...</th>\n      <td>...</td>\n      <td>...</td>\n      <td>...</td>\n    </tr>\n    <tr>\n      <th>45881</th>\n      <td>1</td>\n      <td>1</td>\n      <td>1</td>\n    </tr>\n    <tr>\n      <th>45882</th>\n      <td>1</td>\n      <td>1</td>\n      <td>1</td>\n    </tr>\n    <tr>\n      <th>45883</th>\n      <td>1</td>\n      <td>1</td>\n      <td>1</td>\n    </tr>\n    <tr>\n      <th>45884</th>\n      <td>1</td>\n      <td>1</td>\n      <td>1</td>\n    </tr>\n    <tr>\n      <th>45885</th>\n      <td>1</td>\n      <td>1</td>\n      <td>1</td>\n    </tr>\n  </tbody>\n</table>\n<p>45886 rows × 3 columns</p>\n</div>"
     },
     "execution_count": 5,
     "metadata": {},
     "output_type": "execute_result"
    }
   ],
   "source": [
    "data2"
   ],
   "metadata": {
    "collapsed": false,
    "ExecuteTime": {
     "end_time": "2023-09-30T11:33:31.490585Z",
     "start_time": "2023-09-30T11:33:31.460036300Z"
    }
   },
   "id": "ba30c28ec061ee29"
  },
  {
   "cell_type": "code",
   "execution_count": 6,
   "outputs": [
    {
     "data": {
      "text/plain": "          peptide                tcr  label\n0       KLGGALQAK  CASSKGLAGGPYEQYV;      1\n1      LPRRSGAAGA       CSVWSGSTEAFF      1\n2       KLGGALQAK    CASSPDWSSHNEQFF      1\n3       KLGGALQAK      CASTLPRDTEAFF      1\n4       KLGGALQAK      CATPNRGFDGYTF      1\n...           ...                ...    ...\n30763   KLGGALQAK    CASSQDWGANTEAFF      1\n30764   KLGGALQAK        CSSGGTYGYTF      1\n30765   GLCTLVAML   CASSQQLRVINTEAFF      1\n30766   KLGGALQAK    CASSLRSLYNSPLHF      1\n30767   GILGFVFTL     CASSLLSGSYEQYF      1\n\n[30768 rows x 3 columns]",
      "text/html": "<div>\n<style scoped>\n    .dataframe tbody tr th:only-of-type {\n        vertical-align: middle;\n    }\n\n    .dataframe tbody tr th {\n        vertical-align: top;\n    }\n\n    .dataframe thead th {\n        text-align: right;\n    }\n</style>\n<table border=\"1\" class=\"dataframe\">\n  <thead>\n    <tr style=\"text-align: right;\">\n      <th></th>\n      <th>peptide</th>\n      <th>tcr</th>\n      <th>label</th>\n    </tr>\n  </thead>\n  <tbody>\n    <tr>\n      <th>0</th>\n      <td>KLGGALQAK</td>\n      <td>CASSKGLAGGPYEQYV;</td>\n      <td>1</td>\n    </tr>\n    <tr>\n      <th>1</th>\n      <td>LPRRSGAAGA</td>\n      <td>CSVWSGSTEAFF</td>\n      <td>1</td>\n    </tr>\n    <tr>\n      <th>2</th>\n      <td>KLGGALQAK</td>\n      <td>CASSPDWSSHNEQFF</td>\n      <td>1</td>\n    </tr>\n    <tr>\n      <th>3</th>\n      <td>KLGGALQAK</td>\n      <td>CASTLPRDTEAFF</td>\n      <td>1</td>\n    </tr>\n    <tr>\n      <th>4</th>\n      <td>KLGGALQAK</td>\n      <td>CATPNRGFDGYTF</td>\n      <td>1</td>\n    </tr>\n    <tr>\n      <th>...</th>\n      <td>...</td>\n      <td>...</td>\n      <td>...</td>\n    </tr>\n    <tr>\n      <th>30763</th>\n      <td>KLGGALQAK</td>\n      <td>CASSQDWGANTEAFF</td>\n      <td>1</td>\n    </tr>\n    <tr>\n      <th>30764</th>\n      <td>KLGGALQAK</td>\n      <td>CSSGGTYGYTF</td>\n      <td>1</td>\n    </tr>\n    <tr>\n      <th>30765</th>\n      <td>GLCTLVAML</td>\n      <td>CASSQQLRVINTEAFF</td>\n      <td>1</td>\n    </tr>\n    <tr>\n      <th>30766</th>\n      <td>KLGGALQAK</td>\n      <td>CASSLRSLYNSPLHF</td>\n      <td>1</td>\n    </tr>\n    <tr>\n      <th>30767</th>\n      <td>GILGFVFTL</td>\n      <td>CASSLLSGSYEQYF</td>\n      <td>1</td>\n    </tr>\n  </tbody>\n</table>\n<p>30768 rows × 3 columns</p>\n</div>"
     },
     "execution_count": 6,
     "metadata": {},
     "output_type": "execute_result"
    }
   ],
   "source": [
    "data1.drop_duplicates()"
   ],
   "metadata": {
    "collapsed": false,
    "ExecuteTime": {
     "end_time": "2023-09-30T11:33:38.552280700Z",
     "start_time": "2023-09-30T11:33:38.534275800Z"
    }
   },
   "id": "b4dcf8359d625749"
  },
  {
   "cell_type": "code",
   "execution_count": 7,
   "outputs": [
    {
     "data": {
      "text/plain": "           peptide                   tcr  label\n0        ATDALMTGY        CAISESQGNTEAFF      1\n1        ATDALMTGY        CAISEDRALVSYTF      1\n2        ATDALMTGY        CAISEDRALNEQFF      1\n3        ATDALMTGY        CAVQPGQGMQPQHF      1\n4        ATDALMTGY       CAISEGAMGNQPQHF      1\n...            ...                   ...    ...\n34228  ASFRPELAEFW  CASTGSYGYTFGSGTRLTVT      1\n34229    NLAPMVATV      CASSLAPGTTNEKLFF      1\n34230    ALGGLLTMV          ASSYVSQNNEQF      1\n34231  LAITPEIAPYF  CASTGSYGYTFGSGTRLTVT      1\n34232            1                     1      1\n\n[34233 rows x 3 columns]",
      "text/html": "<div>\n<style scoped>\n    .dataframe tbody tr th:only-of-type {\n        vertical-align: middle;\n    }\n\n    .dataframe tbody tr th {\n        vertical-align: top;\n    }\n\n    .dataframe thead th {\n        text-align: right;\n    }\n</style>\n<table border=\"1\" class=\"dataframe\">\n  <thead>\n    <tr style=\"text-align: right;\">\n      <th></th>\n      <th>peptide</th>\n      <th>tcr</th>\n      <th>label</th>\n    </tr>\n  </thead>\n  <tbody>\n    <tr>\n      <th>0</th>\n      <td>ATDALMTGY</td>\n      <td>CAISESQGNTEAFF</td>\n      <td>1</td>\n    </tr>\n    <tr>\n      <th>1</th>\n      <td>ATDALMTGY</td>\n      <td>CAISEDRALVSYTF</td>\n      <td>1</td>\n    </tr>\n    <tr>\n      <th>2</th>\n      <td>ATDALMTGY</td>\n      <td>CAISEDRALNEQFF</td>\n      <td>1</td>\n    </tr>\n    <tr>\n      <th>3</th>\n      <td>ATDALMTGY</td>\n      <td>CAVQPGQGMQPQHF</td>\n      <td>1</td>\n    </tr>\n    <tr>\n      <th>4</th>\n      <td>ATDALMTGY</td>\n      <td>CAISEGAMGNQPQHF</td>\n      <td>1</td>\n    </tr>\n    <tr>\n      <th>...</th>\n      <td>...</td>\n      <td>...</td>\n      <td>...</td>\n    </tr>\n    <tr>\n      <th>34228</th>\n      <td>ASFRPELAEFW</td>\n      <td>CASTGSYGYTFGSGTRLTVT</td>\n      <td>1</td>\n    </tr>\n    <tr>\n      <th>34229</th>\n      <td>NLAPMVATV</td>\n      <td>CASSLAPGTTNEKLFF</td>\n      <td>1</td>\n    </tr>\n    <tr>\n      <th>34230</th>\n      <td>ALGGLLTMV</td>\n      <td>ASSYVSQNNEQF</td>\n      <td>1</td>\n    </tr>\n    <tr>\n      <th>34231</th>\n      <td>LAITPEIAPYF</td>\n      <td>CASTGSYGYTFGSGTRLTVT</td>\n      <td>1</td>\n    </tr>\n    <tr>\n      <th>34232</th>\n      <td>1</td>\n      <td>1</td>\n      <td>1</td>\n    </tr>\n  </tbody>\n</table>\n<p>34233 rows × 3 columns</p>\n</div>"
     },
     "execution_count": 7,
     "metadata": {},
     "output_type": "execute_result"
    }
   ],
   "source": [
    "data2.drop_duplicates()"
   ],
   "metadata": {
    "collapsed": false,
    "ExecuteTime": {
     "end_time": "2023-09-30T11:33:44.221009Z",
     "start_time": "2023-09-30T11:33:44.184001500Z"
    }
   },
   "id": "69c1700488b8090c"
  },
  {
   "cell_type": "code",
   "execution_count": 8,
   "outputs": [
    {
     "data": {
      "text/plain": "Counter({1: 30768})"
     },
     "execution_count": 8,
     "metadata": {},
     "output_type": "execute_result"
    }
   ],
   "source": [
    "Counter(data1['label'])"
   ],
   "metadata": {
    "collapsed": false,
    "ExecuteTime": {
     "end_time": "2023-09-30T11:33:51.575448700Z",
     "start_time": "2023-09-30T11:33:51.544043500Z"
    }
   },
   "id": "9affa44d40afb36c"
  },
  {
   "cell_type": "code",
   "execution_count": 9,
   "outputs": [
    {
     "data": {
      "text/plain": "Counter({1: 45886})"
     },
     "execution_count": 9,
     "metadata": {},
     "output_type": "execute_result"
    }
   ],
   "source": [
    "Counter(data2['label'])"
   ],
   "metadata": {
    "collapsed": false,
    "ExecuteTime": {
     "end_time": "2023-09-30T11:33:52.342750300Z",
     "start_time": "2023-09-30T11:33:52.305741800Z"
    }
   },
   "id": "90249e9defc42dc4"
  },
  {
   "cell_type": "code",
   "execution_count": 10,
   "outputs": [],
   "source": [
    "data = pd.concat((data1,data2),axis=0)"
   ],
   "metadata": {
    "collapsed": false,
    "ExecuteTime": {
     "end_time": "2023-09-30T11:34:00.759896200Z",
     "start_time": "2023-09-30T11:34:00.744893300Z"
    }
   },
   "id": "832051417c62c652"
  },
  {
   "cell_type": "code",
   "execution_count": 11,
   "outputs": [],
   "source": [
    "data = data.dropna()\n",
    "data = data.drop_duplicates()"
   ],
   "metadata": {
    "collapsed": false,
    "ExecuteTime": {
     "end_time": "2023-09-30T11:34:01.203996200Z",
     "start_time": "2023-09-30T11:34:01.163987500Z"
    }
   },
   "id": "fb1b781c53a93eee"
  },
  {
   "cell_type": "code",
   "execution_count": 14,
   "outputs": [],
   "source": [
    "data.to_csv(\"pep_tcr_dataset.csv\",index=False)"
   ],
   "metadata": {
    "collapsed": false,
    "ExecuteTime": {
     "end_time": "2023-09-30T11:34:42.266894400Z",
     "start_time": "2023-09-30T11:34:42.206880200Z"
    }
   },
   "id": "ddec5fecf48cf96e"
  },
  {
   "cell_type": "code",
   "execution_count": null,
   "outputs": [],
   "source": [],
   "metadata": {
    "collapsed": false
   },
   "id": "fc3bcf1752fcb87"
  }
 ],
 "metadata": {
  "kernelspec": {
   "display_name": "Python 3",
   "language": "python",
   "name": "python3"
  },
  "language_info": {
   "codemirror_mode": {
    "name": "ipython",
    "version": 2
   },
   "file_extension": ".py",
   "mimetype": "text/x-python",
   "name": "python",
   "nbconvert_exporter": "python",
   "pygments_lexer": "ipython2",
   "version": "2.7.6"
  }
 },
 "nbformat": 4,
 "nbformat_minor": 5
}
