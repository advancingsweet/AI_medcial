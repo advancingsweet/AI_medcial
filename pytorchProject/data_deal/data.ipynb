{
 "cells": [
  {
   "cell_type": "code",
   "execution_count": 1,
   "id": "initial_id",
   "metadata": {
    "collapsed": true,
    "ExecuteTime": {
     "end_time": "2023-09-30T17:42:04.388556700Z",
     "start_time": "2023-09-30T17:42:04.054988800Z"
    }
   },
   "outputs": [],
   "source": [
    "import pandas as pd"
   ]
  },
  {
   "cell_type": "code",
   "execution_count": 2,
   "outputs": [],
   "source": [
    "data = pd.read_csv(\"D:\\ProjectsSTC\\pytorchProject\\data\\pep_tcr_dataset.csv\")"
   ],
   "metadata": {
    "collapsed": false,
    "ExecuteTime": {
     "end_time": "2023-09-30T17:42:04.438504200Z",
     "start_time": "2023-09-30T17:42:04.390606200Z"
    }
   },
   "id": "406910c11e6658ab"
  },
  {
   "cell_type": "code",
   "execution_count": 3,
   "outputs": [
    {
     "data": {
      "text/plain": "          peptide               tcr  label\n0       KLGGALQAK  CASSKGLAGGPYEQYV      1\n1      LPRRSGAAGA      CSVWSGSTEAFF      1\n2       KLGGALQAK   CASSPDWSSHNEQFF      1\n3       KLGGALQAK     CASTLPRDTEAFF      1\n4       KLGGALQAK     CATPNRGFDGYTF      1\n...           ...               ...    ...\n80341  AVFDRKSDAK    CASAGPGRNQPQHF      0\n80342   KLGGALQAK    CASSDGGLGQPQHF      0\n80343    RAKFKQLL    CASSLDGGNTGELF      0\n80344    NEGVKAAW  CSARDSSGGAKNIQYF      0\n80345   LLWNGPMAV    CASSHPGGANVLTF      0\n\n[80346 rows x 3 columns]",
      "text/html": "<div>\n<style scoped>\n    .dataframe tbody tr th:only-of-type {\n        vertical-align: middle;\n    }\n\n    .dataframe tbody tr th {\n        vertical-align: top;\n    }\n\n    .dataframe thead th {\n        text-align: right;\n    }\n</style>\n<table border=\"1\" class=\"dataframe\">\n  <thead>\n    <tr style=\"text-align: right;\">\n      <th></th>\n      <th>peptide</th>\n      <th>tcr</th>\n      <th>label</th>\n    </tr>\n  </thead>\n  <tbody>\n    <tr>\n      <th>0</th>\n      <td>KLGGALQAK</td>\n      <td>CASSKGLAGGPYEQYV</td>\n      <td>1</td>\n    </tr>\n    <tr>\n      <th>1</th>\n      <td>LPRRSGAAGA</td>\n      <td>CSVWSGSTEAFF</td>\n      <td>1</td>\n    </tr>\n    <tr>\n      <th>2</th>\n      <td>KLGGALQAK</td>\n      <td>CASSPDWSSHNEQFF</td>\n      <td>1</td>\n    </tr>\n    <tr>\n      <th>3</th>\n      <td>KLGGALQAK</td>\n      <td>CASTLPRDTEAFF</td>\n      <td>1</td>\n    </tr>\n    <tr>\n      <th>4</th>\n      <td>KLGGALQAK</td>\n      <td>CATPNRGFDGYTF</td>\n      <td>1</td>\n    </tr>\n    <tr>\n      <th>...</th>\n      <td>...</td>\n      <td>...</td>\n      <td>...</td>\n    </tr>\n    <tr>\n      <th>80341</th>\n      <td>AVFDRKSDAK</td>\n      <td>CASAGPGRNQPQHF</td>\n      <td>0</td>\n    </tr>\n    <tr>\n      <th>80342</th>\n      <td>KLGGALQAK</td>\n      <td>CASSDGGLGQPQHF</td>\n      <td>0</td>\n    </tr>\n    <tr>\n      <th>80343</th>\n      <td>RAKFKQLL</td>\n      <td>CASSLDGGNTGELF</td>\n      <td>0</td>\n    </tr>\n    <tr>\n      <th>80344</th>\n      <td>NEGVKAAW</td>\n      <td>CSARDSSGGAKNIQYF</td>\n      <td>0</td>\n    </tr>\n    <tr>\n      <th>80345</th>\n      <td>LLWNGPMAV</td>\n      <td>CASSHPGGANVLTF</td>\n      <td>0</td>\n    </tr>\n  </tbody>\n</table>\n<p>80346 rows × 3 columns</p>\n</div>"
     },
     "execution_count": 3,
     "metadata": {},
     "output_type": "execute_result"
    }
   ],
   "source": [
    "data"
   ],
   "metadata": {
    "collapsed": false,
    "ExecuteTime": {
     "end_time": "2023-09-30T17:42:05.002125200Z",
     "start_time": "2023-09-30T17:42:04.970869800Z"
    }
   },
   "id": "eb7289221033f06"
  },
  {
   "cell_type": "code",
   "execution_count": 4,
   "outputs": [],
   "source": [
    "data = data.dropna()\n",
    "data = data.drop_duplicates()"
   ],
   "metadata": {
    "collapsed": false,
    "ExecuteTime": {
     "end_time": "2023-09-30T17:42:19.686871300Z",
     "start_time": "2023-09-30T17:42:19.655607300Z"
    }
   },
   "id": "1b5dddb9250b66f3"
  },
  {
   "cell_type": "code",
   "execution_count": 9,
   "outputs": [],
   "source": [
    "data.to_csv(\"pep_tcr_dataset.csv\",index=False)"
   ],
   "metadata": {
    "collapsed": false,
    "ExecuteTime": {
     "end_time": "2023-09-30T17:42:57.529308500Z",
     "start_time": "2023-09-30T17:42:57.419319200Z"
    }
   },
   "id": "a3fea9efd6cf32fb"
  },
  {
   "cell_type": "code",
   "execution_count": 6,
   "outputs": [
    {
     "data": {
      "text/plain": "Counter({1: 39073, 0: 41267})"
     },
     "execution_count": 6,
     "metadata": {},
     "output_type": "execute_result"
    }
   ],
   "source": [
    "from collections import Counter\n",
    "Counter(data['label'])"
   ],
   "metadata": {
    "collapsed": false,
    "ExecuteTime": {
     "end_time": "2023-09-30T17:42:29.541648400Z",
     "start_time": "2023-09-30T17:42:29.489588200Z"
    }
   },
   "id": "ca3dc4aec9c4c7ef"
  },
  {
   "cell_type": "code",
   "execution_count": 7,
   "outputs": [],
   "source": [
    "for index,value in data['tcr'].items():\n",
    "    if '1' in value:\n",
    "        print(\"yes\")"
   ],
   "metadata": {
    "collapsed": false,
    "ExecuteTime": {
     "end_time": "2023-09-30T17:42:31.630343700Z",
     "start_time": "2023-09-30T17:42:31.599087100Z"
    }
   },
   "id": "4d6ac0f626e9fd5e"
  },
  {
   "cell_type": "code",
   "execution_count": null,
   "outputs": [],
   "source": [
    "for index,value in data['tcr'].items():\n",
    "    if '1' in value:\n",
    "        data['tcr'].loc[index] = value.replace(\"1\",\"\")"
   ],
   "metadata": {
    "collapsed": false
   },
   "id": "41800b38a6504c11"
  },
  {
   "cell_type": "code",
   "execution_count": null,
   "outputs": [],
   "source": [
    "for index,value in data['peptide'].items():\n",
    "    if '1' in value:\n",
    "        data['peptide'].loc[index] = value.replace(\"1\",\"\")"
   ],
   "metadata": {
    "collapsed": false
   },
   "id": "19270f85aa711d0f"
  },
  {
   "cell_type": "code",
   "execution_count": 8,
   "outputs": [],
   "source": [
    "for index,value in data['peptide'].items():\n",
    "    if '1' in value:\n",
    "        print(\"yes\")"
   ],
   "metadata": {
    "collapsed": false,
    "ExecuteTime": {
     "end_time": "2023-09-30T17:42:37.396545700Z",
     "start_time": "2023-09-30T17:42:37.365290400Z"
    }
   },
   "id": "c8deedec6afe7fb1"
  },
  {
   "cell_type": "code",
   "execution_count": null,
   "outputs": [],
   "source": [
    "for index,value in data['tcr'].items():\n",
    "    if '1' in value:\n",
    "        print(\"yes\")"
   ],
   "metadata": {
    "collapsed": false
   },
   "id": "8b3f079070af272"
  },
  {
   "cell_type": "code",
   "execution_count": null,
   "outputs": [],
   "source": [
    "data.to_csv(\"pep_tcr_dataset.csv\",index=False)"
   ],
   "metadata": {
    "collapsed": false
   },
   "id": "b5bacce2b9a92089"
  },
  {
   "cell_type": "code",
   "execution_count": null,
   "outputs": [],
   "source": [
    "for index,value in data['tcr'].items():\n",
    "    if type(value)==float:\n",
    "        print(index)"
   ],
   "metadata": {
    "collapsed": false
   },
   "id": "a0c2fc792e77a777"
  },
  {
   "cell_type": "code",
   "execution_count": null,
   "outputs": [],
   "source": [
    "data.loc[39073]"
   ],
   "metadata": {
    "collapsed": false
   },
   "id": "5e61ac330668bb45"
  },
  {
   "cell_type": "code",
   "execution_count": null,
   "outputs": [],
   "source": [],
   "metadata": {
    "collapsed": false
   },
   "id": "d6274edde02b9066"
  }
 ],
 "metadata": {
  "kernelspec": {
   "display_name": "Python 3",
   "language": "python",
   "name": "python3"
  },
  "language_info": {
   "codemirror_mode": {
    "name": "ipython",
    "version": 2
   },
   "file_extension": ".py",
   "mimetype": "text/x-python",
   "name": "python",
   "nbconvert_exporter": "python",
   "pygments_lexer": "ipython2",
   "version": "2.7.6"
  }
 },
 "nbformat": 4,
 "nbformat_minor": 5
}
