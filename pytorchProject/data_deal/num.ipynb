{
 "cells": [
  {
   "cell_type": "code",
   "execution_count": 1,
   "id": "initial_id",
   "metadata": {
    "collapsed": true,
    "ExecuteTime": {
     "end_time": "2023-09-30T18:19:39.943242200Z",
     "start_time": "2023-09-30T18:19:39.602970400Z"
    }
   },
   "outputs": [],
   "source": [
    "import pandas as pd"
   ]
  },
  {
   "cell_type": "code",
   "execution_count": 2,
   "outputs": [],
   "source": [
    "data = pd.read_csv(\"D:\\ProjectsSTC\\pytorchProject\\data\\hla_pep_dataset.csv\")"
   ],
   "metadata": {
    "collapsed": false,
    "ExecuteTime": {
     "end_time": "2023-09-30T17:30:25.848968700Z",
     "start_time": "2023-09-30T17:30:25.261649100Z"
    }
   },
   "id": "7538e2a0dcdcb08"
  },
  {
   "cell_type": "code",
   "execution_count": 3,
   "outputs": [
    {
     "data": {
      "text/plain": "14"
     },
     "execution_count": 3,
     "metadata": {},
     "output_type": "execute_result"
    }
   ],
   "source": [
    "num=0\n",
    "for index,value in data['peptide'].items():\n",
    "    if len(value)>num:\n",
    "        num = len(value)\n",
    "num"
   ],
   "metadata": {
    "collapsed": false,
    "ExecuteTime": {
     "end_time": "2023-09-30T17:30:26.076464400Z",
     "start_time": "2023-09-30T17:30:25.849968300Z"
    }
   },
   "id": "95516e7f69f35adc"
  },
  {
   "cell_type": "code",
   "execution_count": 4,
   "outputs": [
    {
     "data": {
      "text/plain": "34"
     },
     "execution_count": 4,
     "metadata": {},
     "output_type": "execute_result"
    }
   ],
   "source": [
    "num=0\n",
    "for index,value in data['hla'].items():\n",
    "    if len(value)>num:\n",
    "        num = len(value)\n",
    "num"
   ],
   "metadata": {
    "collapsed": false,
    "ExecuteTime": {
     "end_time": "2023-09-30T17:30:26.284682Z",
     "start_time": "2023-09-30T17:30:26.070463500Z"
    }
   },
   "id": "dc071502105d5d1e"
  },
  {
   "cell_type": "code",
   "execution_count": 2,
   "outputs": [],
   "source": [
    "data = pd.read_csv(\"D:\\ProjectsSTC\\pytorchProject\\data\\pep_tcr_dataset.csv\")"
   ],
   "metadata": {
    "collapsed": false,
    "ExecuteTime": {
     "end_time": "2023-09-30T18:19:40.886898400Z",
     "start_time": "2023-09-30T18:19:40.540257400Z"
    }
   },
   "id": "5e28511274865a93"
  },
  {
   "cell_type": "code",
   "execution_count": 3,
   "outputs": [
    {
     "data": {
      "text/plain": "107"
     },
     "execution_count": 3,
     "metadata": {},
     "output_type": "execute_result"
    }
   ],
   "source": [
    "lst = []\n",
    "for index,value in data['peptide'].items():\n",
    "    if len(value) >15:\n",
    "       lst.append(index)\n",
    "len(lst)"
   ],
   "metadata": {
    "collapsed": false,
    "ExecuteTime": {
     "end_time": "2023-09-30T18:19:42.432592600Z",
     "start_time": "2023-09-30T18:19:42.257077100Z"
    }
   },
   "id": "b61fcf90f6f62695"
  },
  {
   "cell_type": "code",
   "execution_count": 4,
   "outputs": [],
   "source": [
    "data = data.drop(lst)"
   ],
   "metadata": {
    "collapsed": false,
    "ExecuteTime": {
     "end_time": "2023-09-30T18:19:51.463916100Z",
     "start_time": "2023-09-30T18:19:51.416493300Z"
    }
   },
   "id": "d5def7152bcb0046"
  },
  {
   "cell_type": "code",
   "execution_count": 5,
   "outputs": [
    {
     "data": {
      "text/plain": "15"
     },
     "execution_count": 5,
     "metadata": {},
     "output_type": "execute_result"
    }
   ],
   "source": [
    "num=0\n",
    "for index,value in data['peptide'].items():\n",
    "    if len(value)>num:\n",
    "        num = len(value)\n",
    "num"
   ],
   "metadata": {
    "collapsed": false,
    "ExecuteTime": {
     "end_time": "2023-09-30T18:19:54.011352300Z",
     "start_time": "2023-09-30T18:19:53.817351900Z"
    }
   },
   "id": "37c53363f7f7a7ae"
  },
  {
   "cell_type": "code",
   "execution_count": 6,
   "outputs": [
    {
     "data": {
      "text/plain": "34"
     },
     "execution_count": 6,
     "metadata": {},
     "output_type": "execute_result"
    }
   ],
   "source": [
    "num=0\n",
    "for index,value in data['tcr'].items():\n",
    "    if len(value)>num:\n",
    "        num = len(value)\n",
    "num"
   ],
   "metadata": {
    "collapsed": false,
    "ExecuteTime": {
     "end_time": "2023-09-30T18:20:00.816150600Z",
     "start_time": "2023-09-30T18:20:00.606007900Z"
    }
   },
   "id": "b5e1fc647d3d7a2c"
  },
  {
   "cell_type": "code",
   "execution_count": 7,
   "outputs": [],
   "source": [
    "data.to_csv(\"stc.csv\",index=False)"
   ],
   "metadata": {
    "collapsed": false,
    "ExecuteTime": {
     "end_time": "2023-09-30T18:20:12.984003700Z",
     "start_time": "2023-09-30T18:20:12.169590200Z"
    }
   },
   "id": "9eac12f0c2449361"
  },
  {
   "cell_type": "code",
   "execution_count": null,
   "outputs": [],
   "source": [],
   "metadata": {
    "collapsed": false
   },
   "id": "fb02fcebf9af5e7d"
  }
 ],
 "metadata": {
  "kernelspec": {
   "display_name": "Python 3",
   "language": "python",
   "name": "python3"
  },
  "language_info": {
   "codemirror_mode": {
    "name": "ipython",
    "version": 2
   },
   "file_extension": ".py",
   "mimetype": "text/x-python",
   "name": "python",
   "nbconvert_exporter": "python",
   "pygments_lexer": "ipython2",
   "version": "2.7.6"
  }
 },
 "nbformat": 4,
 "nbformat_minor": 5
}
