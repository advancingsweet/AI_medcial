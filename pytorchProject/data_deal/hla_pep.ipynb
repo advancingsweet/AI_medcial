{
 "cells": [
  {
   "cell_type": "code",
   "execution_count": 1,
   "id": "initial_id",
   "metadata": {
    "collapsed": true,
    "ExecuteTime": {
     "end_time": "2023-10-04T08:50:40.501885200Z",
     "start_time": "2023-10-04T08:50:40.178066400Z"
    }
   },
   "outputs": [],
   "source": [
    "import pandas as pd\n",
    "from collections import  Counter"
   ]
  },
  {
   "cell_type": "code",
   "execution_count": 3,
   "outputs": [],
   "source": [
    "data1 = pd.read_csv(\"D:\\ProjectsSTC\\pytorchProject\\data\\\\train_data_fold0.csv\")\n",
    "data1 = data1[['HLA_sequence','peptide','label']]\n",
    "data1 = data1.dropna()\n",
    "data1 = data1.drop_duplicates()\n",
    "data1.to_csv(\"data1.csv\",index=False)"
   ],
   "metadata": {
    "collapsed": false,
    "ExecuteTime": {
     "end_time": "2023-10-04T08:51:00.664195Z",
     "start_time": "2023-10-04T08:50:59.167073200Z"
    }
   },
   "id": "267a396b0a871399"
  },
  {
   "cell_type": "code",
   "execution_count": 4,
   "outputs": [
    {
     "data": {
      "text/plain": "                              HLA_sequence     peptide  label\n0       YSAMYEEKVAHTDENIAYLMFHYYTWAVQAYTGY   FLTGTFVTA      0\n1       YHTEYREICAKTDEDTLYLNYHDYTWAVLAYEWY   HRKVMSQNF      1\n2       YYTKYREISTNTYENTAYIRYDDYTWAVLAYLSY   VMDKYILDN      0\n3       YYAMYREISTNTYESNLYLRYDSYTWAEWAYLWY   MTFDGEVKT      0\n4       YFAMYQENVAQTDVDTLYIIYRDYTWAELAYTWY   CLLTPGVQG      0\n...                                    ...         ...    ...\n574653  YYATYRNIFTNTYESNLYIRYDSYTWAVLAYLWY  PREESNTRSR      0\n574654  YDSEYRNIFTNTDESNLYLSYNYYTWAVDAYTWY  IMDLEKRHVL      1\n574655  YYSEYRNICTNTDESNLYLSYNFYTWAVLTYTWY   QRLPRPSSL      1\n574656  YHTEYREICAKTDEDTLYLNYHDYTWAVLAYEWY   RYIEDPGFG      0\n574657  YYAMYGENMASTYENIAYIVYDSYTWAVLAYLWY   IPEGLQCSC      0\n\n[573576 rows x 3 columns]",
      "text/html": "<div>\n<style scoped>\n    .dataframe tbody tr th:only-of-type {\n        vertical-align: middle;\n    }\n\n    .dataframe tbody tr th {\n        vertical-align: top;\n    }\n\n    .dataframe thead th {\n        text-align: right;\n    }\n</style>\n<table border=\"1\" class=\"dataframe\">\n  <thead>\n    <tr style=\"text-align: right;\">\n      <th></th>\n      <th>HLA_sequence</th>\n      <th>peptide</th>\n      <th>label</th>\n    </tr>\n  </thead>\n  <tbody>\n    <tr>\n      <th>0</th>\n      <td>YSAMYEEKVAHTDENIAYLMFHYYTWAVQAYTGY</td>\n      <td>FLTGTFVTA</td>\n      <td>0</td>\n    </tr>\n    <tr>\n      <th>1</th>\n      <td>YHTEYREICAKTDEDTLYLNYHDYTWAVLAYEWY</td>\n      <td>HRKVMSQNF</td>\n      <td>1</td>\n    </tr>\n    <tr>\n      <th>2</th>\n      <td>YYTKYREISTNTYENTAYIRYDDYTWAVLAYLSY</td>\n      <td>VMDKYILDN</td>\n      <td>0</td>\n    </tr>\n    <tr>\n      <th>3</th>\n      <td>YYAMYREISTNTYESNLYLRYDSYTWAEWAYLWY</td>\n      <td>MTFDGEVKT</td>\n      <td>0</td>\n    </tr>\n    <tr>\n      <th>4</th>\n      <td>YFAMYQENVAQTDVDTLYIIYRDYTWAELAYTWY</td>\n      <td>CLLTPGVQG</td>\n      <td>0</td>\n    </tr>\n    <tr>\n      <th>...</th>\n      <td>...</td>\n      <td>...</td>\n      <td>...</td>\n    </tr>\n    <tr>\n      <th>574653</th>\n      <td>YYATYRNIFTNTYESNLYIRYDSYTWAVLAYLWY</td>\n      <td>PREESNTRSR</td>\n      <td>0</td>\n    </tr>\n    <tr>\n      <th>574654</th>\n      <td>YDSEYRNIFTNTDESNLYLSYNYYTWAVDAYTWY</td>\n      <td>IMDLEKRHVL</td>\n      <td>1</td>\n    </tr>\n    <tr>\n      <th>574655</th>\n      <td>YYSEYRNICTNTDESNLYLSYNFYTWAVLTYTWY</td>\n      <td>QRLPRPSSL</td>\n      <td>1</td>\n    </tr>\n    <tr>\n      <th>574656</th>\n      <td>YHTEYREICAKTDEDTLYLNYHDYTWAVLAYEWY</td>\n      <td>RYIEDPGFG</td>\n      <td>0</td>\n    </tr>\n    <tr>\n      <th>574657</th>\n      <td>YYAMYGENMASTYENIAYIVYDSYTWAVLAYLWY</td>\n      <td>IPEGLQCSC</td>\n      <td>0</td>\n    </tr>\n  </tbody>\n</table>\n<p>573576 rows × 3 columns</p>\n</div>"
     },
     "execution_count": 4,
     "metadata": {},
     "output_type": "execute_result"
    }
   ],
   "source": [
    "data1"
   ],
   "metadata": {
    "collapsed": false,
    "ExecuteTime": {
     "end_time": "2023-10-04T08:51:03.257121Z",
     "start_time": "2023-10-04T08:51:03.223066500Z"
    }
   },
   "id": "df52e7bd4549909f"
  },
  {
   "cell_type": "code",
   "execution_count": 5,
   "outputs": [
    {
     "data": {
      "text/plain": "Counter({0: 287326, 1: 286250})"
     },
     "execution_count": 5,
     "metadata": {},
     "output_type": "execute_result"
    }
   ],
   "source": [
    "Counter(data1['label'])"
   ],
   "metadata": {
    "collapsed": false,
    "ExecuteTime": {
     "end_time": "2023-10-04T08:52:17.662410200Z",
     "start_time": "2023-10-04T08:52:17.591335Z"
    }
   },
   "id": "898318fb3d8b4a8e"
  },
  {
   "cell_type": "code",
   "execution_count": 6,
   "outputs": [],
   "source": [
    "data2 = pd.read_csv(\"D:\\ProjectsSTC\\pytorchProject\\data\\\\val_data_fold0.csv\")\n",
    "data2 = data2[['HLA_sequence','peptide','label']]\n",
    "data2 = data2.dropna()\n",
    "data2 = data2.drop_duplicates()\n",
    "data2.to_csv(\"data2.csv\",index=False)"
   ],
   "metadata": {
    "collapsed": false,
    "ExecuteTime": {
     "end_time": "2023-10-04T08:52:32.462634500Z",
     "start_time": "2023-10-04T08:52:32.028032800Z"
    }
   },
   "id": "80abf8882c9732f6"
  },
  {
   "cell_type": "code",
   "execution_count": 7,
   "outputs": [
    {
     "data": {
      "text/plain": "                              HLA_sequence         peptide  label\n0       YYAMYRNNVAQTDVDTLYIRYHYYTWAVWAYTWY  LVGTEIEGEGLQTV      0\n1       YHTEYREICAKTDEDTLYLNYHDYTWAVLAYEWY       SRYPDQWIV      1\n2       YYAGYRENYRQTDVNKLYIRYDLYTWAELAYTWY       ASHLHVLVV      1\n3       YDSGYREKYRQADVSNLYFRYDFYTLAADAYTWY       SIVCLQDSV      0\n4       YSAGYREKYRQTDVSNLYLWFDSYTWAERAYTWY       SEVTRPMSV      0\n...                                    ...             ...    ...\n143669  YYAMYQENVAQTDVDTLYIIYRDYTWAAQAYRWY      KLKRNYAKAV      0\n143670  YTAMYLQNVAQTDANTLYIMYRDYTWAVLAYTWY      ETPHLMGWDY      1\n143671  YYAGYREKYRQTDVNKLYLRYNFYTWAERAYTWY       VGSRSEGEG      0\n143672  YFAMYGEKVAHTHVDTLYVRYHYYTWAVLAYTWY       LVDQFEWDM      0\n143673  YFAMYGEKVAHTHVDTLYVRYHYYTWAVLAYTWY       YMAWNIPQE      0\n\n[143619 rows x 3 columns]",
      "text/html": "<div>\n<style scoped>\n    .dataframe tbody tr th:only-of-type {\n        vertical-align: middle;\n    }\n\n    .dataframe tbody tr th {\n        vertical-align: top;\n    }\n\n    .dataframe thead th {\n        text-align: right;\n    }\n</style>\n<table border=\"1\" class=\"dataframe\">\n  <thead>\n    <tr style=\"text-align: right;\">\n      <th></th>\n      <th>HLA_sequence</th>\n      <th>peptide</th>\n      <th>label</th>\n    </tr>\n  </thead>\n  <tbody>\n    <tr>\n      <th>0</th>\n      <td>YYAMYRNNVAQTDVDTLYIRYHYYTWAVWAYTWY</td>\n      <td>LVGTEIEGEGLQTV</td>\n      <td>0</td>\n    </tr>\n    <tr>\n      <th>1</th>\n      <td>YHTEYREICAKTDEDTLYLNYHDYTWAVLAYEWY</td>\n      <td>SRYPDQWIV</td>\n      <td>1</td>\n    </tr>\n    <tr>\n      <th>2</th>\n      <td>YYAGYRENYRQTDVNKLYIRYDLYTWAELAYTWY</td>\n      <td>ASHLHVLVV</td>\n      <td>1</td>\n    </tr>\n    <tr>\n      <th>3</th>\n      <td>YDSGYREKYRQADVSNLYFRYDFYTLAADAYTWY</td>\n      <td>SIVCLQDSV</td>\n      <td>0</td>\n    </tr>\n    <tr>\n      <th>4</th>\n      <td>YSAGYREKYRQTDVSNLYLWFDSYTWAERAYTWY</td>\n      <td>SEVTRPMSV</td>\n      <td>0</td>\n    </tr>\n    <tr>\n      <th>...</th>\n      <td>...</td>\n      <td>...</td>\n      <td>...</td>\n    </tr>\n    <tr>\n      <th>143669</th>\n      <td>YYAMYQENVAQTDVDTLYIIYRDYTWAAQAYRWY</td>\n      <td>KLKRNYAKAV</td>\n      <td>0</td>\n    </tr>\n    <tr>\n      <th>143670</th>\n      <td>YTAMYLQNVAQTDANTLYIMYRDYTWAVLAYTWY</td>\n      <td>ETPHLMGWDY</td>\n      <td>1</td>\n    </tr>\n    <tr>\n      <th>143671</th>\n      <td>YYAGYREKYRQTDVNKLYLRYNFYTWAERAYTWY</td>\n      <td>VGSRSEGEG</td>\n      <td>0</td>\n    </tr>\n    <tr>\n      <th>143672</th>\n      <td>YFAMYGEKVAHTHVDTLYVRYHYYTWAVLAYTWY</td>\n      <td>LVDQFEWDM</td>\n      <td>0</td>\n    </tr>\n    <tr>\n      <th>143673</th>\n      <td>YFAMYGEKVAHTHVDTLYVRYHYYTWAVLAYTWY</td>\n      <td>YMAWNIPQE</td>\n      <td>0</td>\n    </tr>\n  </tbody>\n</table>\n<p>143619 rows × 3 columns</p>\n</div>"
     },
     "execution_count": 7,
     "metadata": {},
     "output_type": "execute_result"
    }
   ],
   "source": [
    "data2"
   ],
   "metadata": {
    "collapsed": false,
    "ExecuteTime": {
     "end_time": "2023-10-04T08:52:36.370848Z",
     "start_time": "2023-10-04T08:52:36.351844500Z"
    }
   },
   "id": "af399b1380ee284f"
  },
  {
   "cell_type": "code",
   "execution_count": null,
   "outputs": [],
   "source": [
    "data3 = pd.read_csv(\"D:\\ProjectsSTC\\pytorchProject\\data_deal\\data\\independent_set.csv\")\n",
    "data3 = data3[['HLA_sequence','peptide','label']]\n",
    "data3 = data3.dropna()\n",
    "data3 = data3.drop_duplicates()\n",
    "data3.to_csv(\"data3.csv\",index=False)"
   ],
   "metadata": {
    "collapsed": false
   },
   "id": "eb1e9b6bbef71a38"
  },
  {
   "cell_type": "code",
   "execution_count": 8,
   "outputs": [
    {
     "data": {
      "text/plain": "Counter({0: 71837, 1: 71782})"
     },
     "execution_count": 8,
     "metadata": {},
     "output_type": "execute_result"
    }
   ],
   "source": [
    "Counter(data2['label'])"
   ],
   "metadata": {
    "collapsed": false,
    "ExecuteTime": {
     "end_time": "2023-10-04T08:52:40.454655200Z",
     "start_time": "2023-10-04T08:52:40.397638200Z"
    }
   },
   "id": "ef083a25903a904e"
  },
  {
   "cell_type": "code",
   "execution_count": null,
   "outputs": [],
   "source": [
    "Counter(data3['label'])"
   ],
   "metadata": {
    "collapsed": false
   },
   "id": "570eb49a6ae3a987"
  },
  {
   "cell_type": "code",
   "execution_count": null,
   "outputs": [],
   "source": [
    "data1"
   ],
   "metadata": {
    "collapsed": false
   },
   "id": "ce703c9c920f7ad2"
  },
  {
   "cell_type": "code",
   "execution_count": null,
   "outputs": [],
   "source": [
    "data2"
   ],
   "metadata": {
    "collapsed": false
   },
   "id": "ba344cf9a6c1c910"
  },
  {
   "cell_type": "code",
   "execution_count": null,
   "outputs": [],
   "source": [
    "data3"
   ],
   "metadata": {
    "collapsed": false
   },
   "id": "3373af016a0b3780"
  },
  {
   "cell_type": "code",
   "execution_count": 9,
   "outputs": [],
   "source": [
    "data = pd.concat((data1,data2),axis=0)"
   ],
   "metadata": {
    "collapsed": false,
    "ExecuteTime": {
     "end_time": "2023-10-04T08:52:46.031520400Z",
     "start_time": "2023-10-04T08:52:46.008426700Z"
    }
   },
   "id": "b931ab215cf3e8aa"
  },
  {
   "cell_type": "code",
   "execution_count": 10,
   "outputs": [],
   "source": [
    "data = data.dropna()\n",
    "data = data.drop_duplicates()"
   ],
   "metadata": {
    "collapsed": false,
    "ExecuteTime": {
     "end_time": "2023-10-04T08:52:48.432228400Z",
     "start_time": "2023-10-04T08:52:48.160151600Z"
    }
   },
   "id": "e96fed7980fcb667"
  },
  {
   "cell_type": "code",
   "execution_count": 11,
   "outputs": [],
   "source": [
    "data.to_csv(\"hla_pep.csv\",index=False)"
   ],
   "metadata": {
    "collapsed": false,
    "ExecuteTime": {
     "end_time": "2023-10-04T08:52:51.455640800Z",
     "start_time": "2023-10-04T08:52:50.430715700Z"
    }
   },
   "id": "cae0254ce39e3207"
  },
  {
   "cell_type": "code",
   "execution_count": 13,
   "outputs": [],
   "source": [
    "data = pd.read_csv(\"D:\\ProjectsSTC\\pytorchProject\\data\\hla_pep_dataset.csv\")"
   ],
   "metadata": {
    "collapsed": false,
    "ExecuteTime": {
     "end_time": "2023-10-04T08:55:28.625282600Z",
     "start_time": "2023-10-04T08:55:28.105327900Z"
    }
   },
   "id": "663d9d622e06daf9"
  },
  {
   "cell_type": "code",
   "execution_count": null,
   "outputs": [],
   "source": [
    "data"
   ],
   "metadata": {
    "collapsed": false
   },
   "id": "508517543bb31569"
  },
  {
   "cell_type": "code",
   "execution_count": null,
   "outputs": [],
   "source": [
    "data.dropna()"
   ],
   "metadata": {
    "collapsed": false
   },
   "id": "2bf8d3ee3a884bc2"
  },
  {
   "cell_type": "code",
   "execution_count": null,
   "outputs": [],
   "source": [
    "data.drop_duplicates()"
   ],
   "metadata": {
    "collapsed": false
   },
   "id": "d5f59e16ecdb1f82"
  },
  {
   "cell_type": "code",
   "execution_count": null,
   "outputs": [],
   "source": [
    "Counter(data['label'])"
   ],
   "metadata": {
    "collapsed": false
   },
   "id": "5e8b2fcd13cb663a"
  },
  {
   "cell_type": "code",
   "execution_count": null,
   "outputs": [],
   "source": [
    "data = pd.read_csv(\"D:\\ProjectsSTC\\pytorchProject\\data_deal\\hla_pep.csv\")"
   ],
   "metadata": {
    "collapsed": false
   },
   "id": "e07efba73f85111"
  },
  {
   "cell_type": "code",
   "execution_count": null,
   "outputs": [],
   "source": [
    "data.drop_duplicates()"
   ],
   "metadata": {
    "collapsed": false
   },
   "id": "de37603baebc03d5"
  },
  {
   "cell_type": "code",
   "execution_count": 14,
   "outputs": [],
   "source": [
    "column_mapping = {\n",
    "    \"HLA_sequence\": \"hla\",\n",
    "}"
   ],
   "metadata": {
    "collapsed": false,
    "ExecuteTime": {
     "end_time": "2023-10-04T08:55:31.396003900Z",
     "start_time": "2023-10-04T08:55:31.372310Z"
    }
   },
   "id": "f89e4b945888aabe"
  },
  {
   "cell_type": "code",
   "execution_count": 15,
   "outputs": [],
   "source": [
    "data = data.rename(columns=column_mapping)"
   ],
   "metadata": {
    "collapsed": false,
    "ExecuteTime": {
     "end_time": "2023-10-04T08:55:31.701390Z",
     "start_time": "2023-10-04T08:55:31.677385100Z"
    }
   },
   "id": "e4009381ecf1f79b"
  },
  {
   "cell_type": "code",
   "execution_count": null,
   "outputs": [],
   "source": [
    "data"
   ],
   "metadata": {
    "collapsed": false
   },
   "id": "2b79691d894830f0"
  },
  {
   "cell_type": "code",
   "execution_count": 16,
   "outputs": [],
   "source": [
    "data.to_csv(\"D:\\ProjectsSTC\\pytorchProject\\data\\hla_pep_set.csv\",index=False)"
   ],
   "metadata": {
    "collapsed": false,
    "ExecuteTime": {
     "end_time": "2023-10-04T08:55:50.316769700Z",
     "start_time": "2023-10-04T08:55:49.259258500Z"
    }
   },
   "id": "fddedbb784fd4d90"
  },
  {
   "cell_type": "code",
   "execution_count": null,
   "outputs": [],
   "source": [
    "data = pd.read_csv(\"D:\\ProjectsSTC\\pytorchProject\\data\\hla_pep_dataset.csv\")"
   ],
   "metadata": {
    "collapsed": false
   },
   "id": "dd88928227b498e5"
  },
  {
   "cell_type": "code",
   "execution_count": null,
   "outputs": [],
   "source": [
    "data"
   ],
   "metadata": {
    "collapsed": false
   },
   "id": "584632b25dde2699"
  },
  {
   "cell_type": "code",
   "execution_count": null,
   "outputs": [],
   "source": [
    "data.dropna()"
   ],
   "metadata": {
    "collapsed": false
   },
   "id": "b338bca56de9dc3f"
  },
  {
   "cell_type": "code",
   "execution_count": null,
   "outputs": [],
   "source": [
    "Counter(data['label'])"
   ],
   "metadata": {
    "collapsed": false
   },
   "id": "f9acabff83feb2d6"
  },
  {
   "cell_type": "code",
   "execution_count": null,
   "outputs": [],
   "source": [
    "import pandas as pd"
   ],
   "metadata": {
    "collapsed": false
   },
   "id": "9f5f5ddfade4ba5e"
  },
  {
   "cell_type": "code",
   "execution_count": null,
   "outputs": [],
   "source": [
    "data = pd.read_csv(\"D:\\ProjectsSTC\\pytorchProject\\data\\hla_pep_dataset.csv\")"
   ],
   "metadata": {
    "collapsed": false
   },
   "id": "86426ffa03167eff"
  },
  {
   "cell_type": "code",
   "execution_count": null,
   "outputs": [],
   "source": [
    "data = data.dropna()\n",
    "data = data.drop_duplicates()"
   ],
   "metadata": {
    "collapsed": false
   },
   "id": "4dea25fb6e7f7bef"
  },
  {
   "cell_type": "code",
   "execution_count": null,
   "outputs": [],
   "source": [
    "data"
   ],
   "metadata": {
    "collapsed": false
   },
   "id": "f8a60b716d73e1ff"
  },
  {
   "cell_type": "code",
   "execution_count": null,
   "outputs": [],
   "source": [],
   "metadata": {
    "collapsed": false
   },
   "id": "ac7f5e07f5da6b13"
  }
 ],
 "metadata": {
  "kernelspec": {
   "display_name": "Python 3",
   "language": "python",
   "name": "python3"
  },
  "language_info": {
   "codemirror_mode": {
    "name": "ipython",
    "version": 2
   },
   "file_extension": ".py",
   "mimetype": "text/x-python",
   "name": "python",
   "nbconvert_exporter": "python",
   "pygments_lexer": "ipython2",
   "version": "2.7.6"
  }
 },
 "nbformat": 4,
 "nbformat_minor": 5
}
