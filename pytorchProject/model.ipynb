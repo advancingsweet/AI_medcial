{
 "cells": [
  {
   "cell_type": "code",
   "execution_count": null,
   "outputs": [],
   "source": [
    "import os\n",
    "import torch.nn as nn\n",
    "import torch.optim as optim\n",
    "from myconfig.Config import *\n",
    "from trans1utils.DataGenerater import *\n",
    "from transformer.Transformer import Transformer"
   ],
   "metadata": {
    "collapsed": false
   },
   "id": "5845477501e647f9"
  },
  {
   "cell_type": "code",
   "execution_count": null,
   "outputs": [],
   "source": [
    "vocab,vocab_size = vocab_config()\n",
    "hla_max_len,pep_max_len,tcr_max_len,hla_pep_concat_len,pep_tcr_concat_len = data_config()\n",
    "d_model, d_ff, d_k, d_v, n_layers,n_heads,epochs, batch_size, threshold, dropout_rate, max_len,device = model_config()\n",
    "seed = run_config()\n",
    "\n",
    "train_hla_pep_loader,val_hla_pep_loader = hla_pep_data_loader('hla_pep_dataset',vocab,hla_max_len,pep_max_len,batch_size,0.8)\n",
    "train_pep_tcr_loader,val_pep_tcr_loader = pep_tcr_data_loader('pep_tcr_dataset',vocab,pep_max_len,tcr_max_len,batch_size,0.8)"
   ],
   "metadata": {
    "collapsed": false
   },
   "id": "1f428ebd34ed1ed2"
  },
  {
   "cell_type": "code",
   "execution_count": null,
   "outputs": [],
   "source": [
    "print('--------------构建模型--------------')\n",
    "model = Transformer(vocab_size,hla_pep_concat_len=hla_pep_concat_len,pep_tcr_concat_len=pep_tcr_concat_len).to(device)\n",
    "criterion = nn.CrossEntropyLoss()\n",
    "optimizer = optim.Adam(model.parameters(), lr = 1e-3)"
   ],
   "metadata": {
    "collapsed": false
   },
   "id": "a27c9a36edf953d"
  },
  {
   "cell_type": "code",
   "execution_count": null,
   "outputs": [],
   "source": [
    "train_metrics_list, val_metrics_list = [], []\n",
    "\n",
    "print('------------训练和验证模型------------')\n",
    "dir_saver = './model/'\n",
    "path_saver = './model/model_layer{}_head{}.pkl'.format(n_layers, n_heads)\n",
    "print('dir_saver: ', dir_saver)\n",
    "print('path_saver: ', path_saver)\n",
    "metric_best, ep_best,time_train = 0, -1, 0\n",
    "for epoch in range(1, 5):\n",
    "    \n",
    "    ys_train,loss_train_list,metrics_train = model.train_per_epoch(train_hla_pep_loader,epoch,epochs,criterion,optimizer,num_group=1,threshold=threshold,metrics_print_=True)\n",
    "    \n",
    "    ys_val, loss_val_list, metrics_val = model.eval_per_epoch(val_hla_pep_loader, epoch, epochs,criterion,num_group=1,threshold=threshold,metrics_print_=True)\n",
    "\n",
    "    metrics_ep_avg = sum(metrics_val[:4])/4\n",
    "    print(\"------------保存指标: \" , metrics_ep_avg)\n",
    "\n",
    "    if metrics_ep_avg > metric_best:\n",
    "        metric_best, ep_best = metrics_ep_avg, epoch\n",
    "        if not os.path.exists(dir_saver):\n",
    "            os.makedirs(dir_saver)\n",
    "        print('Best epoch = {} | Metric_best_avg = {:.4f}--------'.format(ep_best, metric_best))\n",
    "        print('Saving model Path saver: {} --------'.format(path_saver))\n",
    "        torch.save(model.eval().state_dict(), path_saver)"
   ],
   "metadata": {
    "collapsed": false
   },
   "id": "ad880e6b113ff1f7"
  },
  {
   "cell_type": "code",
   "execution_count": null,
   "outputs": [],
   "source": [
    "train_metrics_list, val_metrics_list = [], []\n",
    "\n",
    "print('--------------构建模型--------------')\n",
    "\n",
    "\n",
    "print('------------训练和验证模型------------')\n",
    "dir_saver = './model/'\n",
    "path_saver = './model/model_layer{}_head{}.pkl'.format(n_layers, n_heads)\n",
    "print('dir_saver: ', dir_saver)\n",
    "print('path_saver: ', path_saver)\n",
    "metric_best, ep_best,time_train = 0, -1, 0\n",
    "for epoch in range(1, 5):\n",
    "    \n",
    "    ys_train,loss_train_list,metrics_train = model.train_per_epoch(train_pep_tcr_loader,epoch,epochs,criterion,optimizer,num_group=2,threshold=threshold,metrics_print_=True)\n",
    "    \n",
    "    ys_val, loss_val_list, metrics_val = model.eval_per_epoch(val_pep_tcr_loader, epoch, epochs,criterion,num_group=2,threshold=threshold,metrics_print_=True)\n",
    "\n",
    "    metrics_ep_avg = sum(metrics_val[:4])/4\n",
    "    print(\"------------保存指标: \" , metrics_ep_avg)\n",
    "\n",
    "    if metrics_ep_avg > metric_best:\n",
    "        metric_best, ep_best = metrics_ep_avg, epoch\n",
    "        if not os.path.exists(dir_saver):\n",
    "            os.makedirs(dir_saver)\n",
    "        print('Best epoch = {} | Metric_best_avg = {:.4f}--------'.format(ep_best, metric_best))\n",
    "        print('Saving model Path saver: {} --------'.format(path_saver))\n",
    "        torch.save(model.eval().state_dict(), path_saver)"
   ],
   "metadata": {
    "collapsed": false
   },
   "id": "f93c3306dcfdcda"
  },
  {
   "cell_type": "code",
   "execution_count": null,
   "outputs": [],
   "source": [],
   "metadata": {
    "collapsed": false
   },
   "id": "1afadef456af961"
  }
 ],
 "metadata": {
  "kernelspec": {
   "display_name": "Python 3",
   "language": "python",
   "name": "python3"
  },
  "language_info": {
   "codemirror_mode": {
    "name": "ipython",
    "version": 2
   },
   "file_extension": ".py",
   "mimetype": "text/x-python",
   "name": "python",
   "nbconvert_exporter": "python",
   "pygments_lexer": "ipython2",
   "version": "2.7.6"
  }
 },
 "nbformat": 4,
 "nbformat_minor": 5
}
