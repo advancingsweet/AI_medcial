{
 "cells": [
  {
   "cell_type": "code",
   "execution_count": 1,
   "id": "initial_id",
   "metadata": {
    "collapsed": true,
    "ExecuteTime": {
     "end_time": "2023-09-29T13:46:44.069652200Z",
     "start_time": "2023-09-29T13:46:43.734670600Z"
    }
   },
   "outputs": [],
   "source": [
    "import pandas as pd"
   ]
  },
  {
   "cell_type": "code",
   "execution_count": 2,
   "outputs": [],
   "source": [
    "data = pd.read_csv(\"D:/ProjectsSTC/pytorchProject/data/train_data.csv\")"
   ],
   "metadata": {
    "collapsed": false,
    "ExecuteTime": {
     "end_time": "2023-09-29T13:47:12.924845300Z",
     "start_time": "2023-09-29T13:47:12.476518400Z"
    }
   },
   "id": "6539b1a98e9cfec2"
  },
  {
   "cell_type": "code",
   "execution_count": 5,
   "outputs": [
    {
     "data": {
      "text/plain": "        Unnamed: 0     peptide  length          HLA  label  \\\n0                0   FLTGTFVTA       9  HLA-A*24:02      0   \n1                1   HRKVMSQNF       9  HLA-B*27:05      1   \n2                2   VMDKYILDN       9  HLA-B*44:03      0   \n3                3   MTFDGEVKT       9  HLA-B*15:01      0   \n4                4   CLLTPGVQG       9  HLA-A*03:01      0   \n...            ...         ...     ...          ...    ...   \n574653      574653  PREESNTRSR      10  HLA-B*35:01      0   \n574654      574654  IMDLEKRHVL      10  HLA-B*08:01      1   \n574655      574655   QRLPRPSSL       9  HLA-B*39:24      1   \n574656      574656   RYIEDPGFG       9  HLA-B*27:05      0   \n574657      574657   IPEGLQCSC       9  HLA-B*57:01      0   \n\n                              HLA_sequence  \n0       YSAMYEEKVAHTDENIAYLMFHYYTWAVQAYTGY  \n1       YHTEYREICAKTDEDTLYLNYHDYTWAVLAYEWY  \n2       YYTKYREISTNTYENTAYIRYDDYTWAVLAYLSY  \n3       YYAMYREISTNTYESNLYLRYDSYTWAEWAYLWY  \n4       YFAMYQENVAQTDVDTLYIIYRDYTWAELAYTWY  \n...                                    ...  \n574653  YYATYRNIFTNTYESNLYIRYDSYTWAVLAYLWY  \n574654  YDSEYRNIFTNTDESNLYLSYNYYTWAVDAYTWY  \n574655  YYSEYRNICTNTDESNLYLSYNFYTWAVLTYTWY  \n574656  YHTEYREICAKTDEDTLYLNYHDYTWAVLAYEWY  \n574657  YYAMYGENMASTYENIAYIVYDSYTWAVLAYLWY  \n\n[574658 rows x 6 columns]",
      "text/html": "<div>\n<style scoped>\n    .dataframe tbody tr th:only-of-type {\n        vertical-align: middle;\n    }\n\n    .dataframe tbody tr th {\n        vertical-align: top;\n    }\n\n    .dataframe thead th {\n        text-align: right;\n    }\n</style>\n<table border=\"1\" class=\"dataframe\">\n  <thead>\n    <tr style=\"text-align: right;\">\n      <th></th>\n      <th>Unnamed: 0</th>\n      <th>peptide</th>\n      <th>length</th>\n      <th>HLA</th>\n      <th>label</th>\n      <th>HLA_sequence</th>\n    </tr>\n  </thead>\n  <tbody>\n    <tr>\n      <th>0</th>\n      <td>0</td>\n      <td>FLTGTFVTA</td>\n      <td>9</td>\n      <td>HLA-A*24:02</td>\n      <td>0</td>\n      <td>YSAMYEEKVAHTDENIAYLMFHYYTWAVQAYTGY</td>\n    </tr>\n    <tr>\n      <th>1</th>\n      <td>1</td>\n      <td>HRKVMSQNF</td>\n      <td>9</td>\n      <td>HLA-B*27:05</td>\n      <td>1</td>\n      <td>YHTEYREICAKTDEDTLYLNYHDYTWAVLAYEWY</td>\n    </tr>\n    <tr>\n      <th>2</th>\n      <td>2</td>\n      <td>VMDKYILDN</td>\n      <td>9</td>\n      <td>HLA-B*44:03</td>\n      <td>0</td>\n      <td>YYTKYREISTNTYENTAYIRYDDYTWAVLAYLSY</td>\n    </tr>\n    <tr>\n      <th>3</th>\n      <td>3</td>\n      <td>MTFDGEVKT</td>\n      <td>9</td>\n      <td>HLA-B*15:01</td>\n      <td>0</td>\n      <td>YYAMYREISTNTYESNLYLRYDSYTWAEWAYLWY</td>\n    </tr>\n    <tr>\n      <th>4</th>\n      <td>4</td>\n      <td>CLLTPGVQG</td>\n      <td>9</td>\n      <td>HLA-A*03:01</td>\n      <td>0</td>\n      <td>YFAMYQENVAQTDVDTLYIIYRDYTWAELAYTWY</td>\n    </tr>\n    <tr>\n      <th>...</th>\n      <td>...</td>\n      <td>...</td>\n      <td>...</td>\n      <td>...</td>\n      <td>...</td>\n      <td>...</td>\n    </tr>\n    <tr>\n      <th>574653</th>\n      <td>574653</td>\n      <td>PREESNTRSR</td>\n      <td>10</td>\n      <td>HLA-B*35:01</td>\n      <td>0</td>\n      <td>YYATYRNIFTNTYESNLYIRYDSYTWAVLAYLWY</td>\n    </tr>\n    <tr>\n      <th>574654</th>\n      <td>574654</td>\n      <td>IMDLEKRHVL</td>\n      <td>10</td>\n      <td>HLA-B*08:01</td>\n      <td>1</td>\n      <td>YDSEYRNIFTNTDESNLYLSYNYYTWAVDAYTWY</td>\n    </tr>\n    <tr>\n      <th>574655</th>\n      <td>574655</td>\n      <td>QRLPRPSSL</td>\n      <td>9</td>\n      <td>HLA-B*39:24</td>\n      <td>1</td>\n      <td>YYSEYRNICTNTDESNLYLSYNFYTWAVLTYTWY</td>\n    </tr>\n    <tr>\n      <th>574656</th>\n      <td>574656</td>\n      <td>RYIEDPGFG</td>\n      <td>9</td>\n      <td>HLA-B*27:05</td>\n      <td>0</td>\n      <td>YHTEYREICAKTDEDTLYLNYHDYTWAVLAYEWY</td>\n    </tr>\n    <tr>\n      <th>574657</th>\n      <td>574657</td>\n      <td>IPEGLQCSC</td>\n      <td>9</td>\n      <td>HLA-B*57:01</td>\n      <td>0</td>\n      <td>YYAMYGENMASTYENIAYIVYDSYTWAVLAYLWY</td>\n    </tr>\n  </tbody>\n</table>\n<p>574658 rows × 6 columns</p>\n</div>"
     },
     "execution_count": 5,
     "metadata": {},
     "output_type": "execute_result"
    }
   ],
   "source": [
    "data"
   ],
   "metadata": {
    "collapsed": false,
    "ExecuteTime": {
     "end_time": "2023-09-29T13:47:25.286670100Z",
     "start_time": "2023-09-29T13:47:25.268547400Z"
    }
   },
   "id": "9983f15ecb086102"
  },
  {
   "cell_type": "code",
   "execution_count": 6,
   "outputs": [],
   "source": [
    "data[['peptide','HLA_sequence','label']].to_csv(\"hla_pep_set.csv\",index=False)"
   ],
   "metadata": {
    "collapsed": false,
    "ExecuteTime": {
     "end_time": "2023-09-29T13:48:03.678688100Z",
     "start_time": "2023-09-29T13:48:02.847285Z"
    }
   },
   "id": "e3ea2522164ab799"
  },
  {
   "cell_type": "code",
   "execution_count": 7,
   "outputs": [],
   "source": [
    "data = pd.read_csv(\"D:/ProjectsSTC/pytorchProject/data/hla_pep_set.csv\")"
   ],
   "metadata": {
    "collapsed": false,
    "ExecuteTime": {
     "end_time": "2023-09-29T13:49:28.687402600Z",
     "start_time": "2023-09-29T13:49:28.308502800Z"
    }
   },
   "id": "ad1a2552233f1e5b"
  },
  {
   "cell_type": "code",
   "execution_count": 9,
   "outputs": [
    {
     "data": {
      "text/plain": "           peptide                        HLA_sequence  label\n0        FLTGTFVTA  YSAMYEEKVAHTDENIAYLMFHYYTWAVQAYTGY      0\n1        HRKVMSQNF  YHTEYREICAKTDEDTLYLNYHDYTWAVLAYEWY      1\n2        VMDKYILDN  YYTKYREISTNTYENTAYIRYDDYTWAVLAYLSY      0\n3        MTFDGEVKT  YYAMYREISTNTYESNLYLRYDSYTWAEWAYLWY      0\n4        CLLTPGVQG  YFAMYQENVAQTDVDTLYIIYRDYTWAELAYTWY      0\n...            ...                                 ...    ...\n574653  PREESNTRSR  YYATYRNIFTNTYESNLYIRYDSYTWAVLAYLWY      0\n574654  IMDLEKRHVL  YDSEYRNIFTNTDESNLYLSYNYYTWAVDAYTWY      1\n574655   QRLPRPSSL  YYSEYRNICTNTDESNLYLSYNFYTWAVLTYTWY      1\n574656   RYIEDPGFG  YHTEYREICAKTDEDTLYLNYHDYTWAVLAYEWY      0\n574657   IPEGLQCSC  YYAMYGENMASTYENIAYIVYDSYTWAVLAYLWY      0\n\n[574658 rows x 3 columns]",
      "text/html": "<div>\n<style scoped>\n    .dataframe tbody tr th:only-of-type {\n        vertical-align: middle;\n    }\n\n    .dataframe tbody tr th {\n        vertical-align: top;\n    }\n\n    .dataframe thead th {\n        text-align: right;\n    }\n</style>\n<table border=\"1\" class=\"dataframe\">\n  <thead>\n    <tr style=\"text-align: right;\">\n      <th></th>\n      <th>peptide</th>\n      <th>HLA_sequence</th>\n      <th>label</th>\n    </tr>\n  </thead>\n  <tbody>\n    <tr>\n      <th>0</th>\n      <td>FLTGTFVTA</td>\n      <td>YSAMYEEKVAHTDENIAYLMFHYYTWAVQAYTGY</td>\n      <td>0</td>\n    </tr>\n    <tr>\n      <th>1</th>\n      <td>HRKVMSQNF</td>\n      <td>YHTEYREICAKTDEDTLYLNYHDYTWAVLAYEWY</td>\n      <td>1</td>\n    </tr>\n    <tr>\n      <th>2</th>\n      <td>VMDKYILDN</td>\n      <td>YYTKYREISTNTYENTAYIRYDDYTWAVLAYLSY</td>\n      <td>0</td>\n    </tr>\n    <tr>\n      <th>3</th>\n      <td>MTFDGEVKT</td>\n      <td>YYAMYREISTNTYESNLYLRYDSYTWAEWAYLWY</td>\n      <td>0</td>\n    </tr>\n    <tr>\n      <th>4</th>\n      <td>CLLTPGVQG</td>\n      <td>YFAMYQENVAQTDVDTLYIIYRDYTWAELAYTWY</td>\n      <td>0</td>\n    </tr>\n    <tr>\n      <th>...</th>\n      <td>...</td>\n      <td>...</td>\n      <td>...</td>\n    </tr>\n    <tr>\n      <th>574653</th>\n      <td>PREESNTRSR</td>\n      <td>YYATYRNIFTNTYESNLYIRYDSYTWAVLAYLWY</td>\n      <td>0</td>\n    </tr>\n    <tr>\n      <th>574654</th>\n      <td>IMDLEKRHVL</td>\n      <td>YDSEYRNIFTNTDESNLYLSYNYYTWAVDAYTWY</td>\n      <td>1</td>\n    </tr>\n    <tr>\n      <th>574655</th>\n      <td>QRLPRPSSL</td>\n      <td>YYSEYRNICTNTDESNLYLSYNFYTWAVLTYTWY</td>\n      <td>1</td>\n    </tr>\n    <tr>\n      <th>574656</th>\n      <td>RYIEDPGFG</td>\n      <td>YHTEYREICAKTDEDTLYLNYHDYTWAVLAYEWY</td>\n      <td>0</td>\n    </tr>\n    <tr>\n      <th>574657</th>\n      <td>IPEGLQCSC</td>\n      <td>YYAMYGENMASTYENIAYIVYDSYTWAVLAYLWY</td>\n      <td>0</td>\n    </tr>\n  </tbody>\n</table>\n<p>574658 rows × 3 columns</p>\n</div>"
     },
     "execution_count": 9,
     "metadata": {},
     "output_type": "execute_result"
    }
   ],
   "source": [
    "data"
   ],
   "metadata": {
    "collapsed": false,
    "ExecuteTime": {
     "end_time": "2023-09-29T13:51:10.483172700Z",
     "start_time": "2023-09-29T13:51:10.455625800Z"
    }
   },
   "id": "d4901355718d030f"
  },
  {
   "cell_type": "code",
   "execution_count": 13,
   "outputs": [],
   "source": [
    "column_mapping = {\n",
    "    \"peptide\": \"peptide\",\n",
    "    \"HLA_sequence\": \"hla\",\n",
    "    'label':'label'\n",
    "}"
   ],
   "metadata": {
    "collapsed": false,
    "ExecuteTime": {
     "end_time": "2023-09-29T13:52:04.336452700Z",
     "start_time": "2023-09-29T13:52:04.321778100Z"
    }
   },
   "id": "6a72faf6878af17d"
  },
  {
   "cell_type": "code",
   "execution_count": 14,
   "outputs": [],
   "source": [
    "data = data.rename(columns=column_mapping)"
   ],
   "metadata": {
    "collapsed": false,
    "ExecuteTime": {
     "end_time": "2023-09-29T13:52:04.930279Z",
     "start_time": "2023-09-29T13:52:04.889294500Z"
    }
   },
   "id": "2cea9144c6ae73c7"
  },
  {
   "cell_type": "code",
   "execution_count": 16,
   "outputs": [],
   "source": [
    "data.to_csv(\"hla_pep_set.csv\",index=False)"
   ],
   "metadata": {
    "collapsed": false,
    "ExecuteTime": {
     "end_time": "2023-09-29T13:52:25.808229500Z",
     "start_time": "2023-09-29T13:52:24.994508200Z"
    }
   },
   "id": "feb6a73a8eb25544"
  },
  {
   "cell_type": "code",
   "execution_count": null,
   "outputs": [],
   "source": [],
   "metadata": {
    "collapsed": false
   },
   "id": "3b5a8f752b1f896c"
  }
 ],
 "metadata": {
  "kernelspec": {
   "display_name": "Python 3",
   "language": "python",
   "name": "python3"
  },
  "language_info": {
   "codemirror_mode": {
    "name": "ipython",
    "version": 2
   },
   "file_extension": ".py",
   "mimetype": "text/x-python",
   "name": "python",
   "nbconvert_exporter": "python",
   "pygments_lexer": "ipython2",
   "version": "2.7.6"
  }
 },
 "nbformat": 4,
 "nbformat_minor": 5
}
