{
 "cells": [
  {
   "cell_type": "code",
   "execution_count": 1,
   "id": "initial_id",
   "metadata": {
    "collapsed": true,
    "ExecuteTime": {
     "end_time": "2023-09-30T07:45:05.864854600Z",
     "start_time": "2023-09-30T07:45:05.508791Z"
    }
   },
   "outputs": [],
   "source": [
    "import pandas as pd\n",
    "from collections import Counter"
   ]
  },
  {
   "cell_type": "code",
   "execution_count": 2,
   "outputs": [],
   "source": [
    "new_data = pd.read_csv(\"D:\\ProjectsSTC\\pytorchProject\\data\\\\new.csv\")"
   ],
   "metadata": {
    "collapsed": false,
    "ExecuteTime": {
     "end_time": "2023-09-30T07:45:06.467034Z",
     "start_time": "2023-09-30T07:45:06.088317500Z"
    }
   },
   "id": "6ca42ac3819bbd14"
  },
  {
   "cell_type": "code",
   "execution_count": 3,
   "outputs": [
    {
     "data": {
      "text/plain": "                     tcr     peptide  label\n0           CASSQVGHEQFF   ELLTTELIY      0\n1        CASSLTGTGQETQYF   PILLHQVEA      0\n2            CASSATYEQYF   FSSPHGKDL      0\n3          CASSPYRTYGYTF   LSVKRLWQY      0\n4       CASSNSGGAGTGELFF  IVFHNEAWST      0\n...                  ...         ...    ...\n636393    CASSARGGTDTQYF   AADKGHYKF      0\n636394    CASSSTDEATEAFF   RWLWGFLSR      0\n636395  CASSAGGLAGPGELFF  GRIKAIQLEY      0\n636396    CASSQLPLDTELFF  YRLTQGVVKR      0\n636397  CASSTYHRTHYNEQFF  FRISGAPEKY      0\n\n[636398 rows x 3 columns]",
      "text/html": "<div>\n<style scoped>\n    .dataframe tbody tr th:only-of-type {\n        vertical-align: middle;\n    }\n\n    .dataframe tbody tr th {\n        vertical-align: top;\n    }\n\n    .dataframe thead th {\n        text-align: right;\n    }\n</style>\n<table border=\"1\" class=\"dataframe\">\n  <thead>\n    <tr style=\"text-align: right;\">\n      <th></th>\n      <th>tcr</th>\n      <th>peptide</th>\n      <th>label</th>\n    </tr>\n  </thead>\n  <tbody>\n    <tr>\n      <th>0</th>\n      <td>CASSQVGHEQFF</td>\n      <td>ELLTTELIY</td>\n      <td>0</td>\n    </tr>\n    <tr>\n      <th>1</th>\n      <td>CASSLTGTGQETQYF</td>\n      <td>PILLHQVEA</td>\n      <td>0</td>\n    </tr>\n    <tr>\n      <th>2</th>\n      <td>CASSATYEQYF</td>\n      <td>FSSPHGKDL</td>\n      <td>0</td>\n    </tr>\n    <tr>\n      <th>3</th>\n      <td>CASSPYRTYGYTF</td>\n      <td>LSVKRLWQY</td>\n      <td>0</td>\n    </tr>\n    <tr>\n      <th>4</th>\n      <td>CASSNSGGAGTGELFF</td>\n      <td>IVFHNEAWST</td>\n      <td>0</td>\n    </tr>\n    <tr>\n      <th>...</th>\n      <td>...</td>\n      <td>...</td>\n      <td>...</td>\n    </tr>\n    <tr>\n      <th>636393</th>\n      <td>CASSARGGTDTQYF</td>\n      <td>AADKGHYKF</td>\n      <td>0</td>\n    </tr>\n    <tr>\n      <th>636394</th>\n      <td>CASSSTDEATEAFF</td>\n      <td>RWLWGFLSR</td>\n      <td>0</td>\n    </tr>\n    <tr>\n      <th>636395</th>\n      <td>CASSAGGLAGPGELFF</td>\n      <td>GRIKAIQLEY</td>\n      <td>0</td>\n    </tr>\n    <tr>\n      <th>636396</th>\n      <td>CASSQLPLDTELFF</td>\n      <td>YRLTQGVVKR</td>\n      <td>0</td>\n    </tr>\n    <tr>\n      <th>636397</th>\n      <td>CASSTYHRTHYNEQFF</td>\n      <td>FRISGAPEKY</td>\n      <td>0</td>\n    </tr>\n  </tbody>\n</table>\n<p>636398 rows × 3 columns</p>\n</div>"
     },
     "execution_count": 3,
     "metadata": {},
     "output_type": "execute_result"
    }
   ],
   "source": [
    "new_data"
   ],
   "metadata": {
    "collapsed": false,
    "ExecuteTime": {
     "end_time": "2023-09-30T07:45:07.026113100Z",
     "start_time": "2023-09-30T07:45:06.994858800Z"
    }
   },
   "id": "a87c6f2af4a9503f"
  },
  {
   "cell_type": "code",
   "execution_count": 4,
   "outputs": [],
   "source": [
    "new_data = new_data.drop_duplicates()"
   ],
   "metadata": {
    "collapsed": false,
    "ExecuteTime": {
     "end_time": "2023-09-30T07:45:09.663150Z",
     "start_time": "2023-09-30T07:45:09.462878900Z"
    }
   },
   "id": "986aee04857d93a0"
  },
  {
   "cell_type": "code",
   "execution_count": 14,
   "outputs": [
    {
     "data": {
      "text/plain": "                     tcr     peptide  label\n0           CASSQVGHEQFF   ELLTTELIY      0\n1        CASSLTGTGQETQYF   PILLHQVEA      0\n2            CASSATYEQYF   FSSPHGKDL      0\n3          CASSPYRTYGYTF   LSVKRLWQY      0\n4       CASSNSGGAGTGELFF  IVFHNEAWST      0\n...                  ...         ...    ...\n636393    CASSARGGTDTQYF   AADKGHYKF      0\n636394    CASSSTDEATEAFF   RWLWGFLSR      0\n636395  CASSAGGLAGPGELFF  GRIKAIQLEY      0\n636396    CASSQLPLDTELFF  YRLTQGVVKR      0\n636397  CASSTYHRTHYNEQFF  FRISGAPEKY      0\n\n[635642 rows x 3 columns]",
      "text/html": "<div>\n<style scoped>\n    .dataframe tbody tr th:only-of-type {\n        vertical-align: middle;\n    }\n\n    .dataframe tbody tr th {\n        vertical-align: top;\n    }\n\n    .dataframe thead th {\n        text-align: right;\n    }\n</style>\n<table border=\"1\" class=\"dataframe\">\n  <thead>\n    <tr style=\"text-align: right;\">\n      <th></th>\n      <th>tcr</th>\n      <th>peptide</th>\n      <th>label</th>\n    </tr>\n  </thead>\n  <tbody>\n    <tr>\n      <th>0</th>\n      <td>CASSQVGHEQFF</td>\n      <td>ELLTTELIY</td>\n      <td>0</td>\n    </tr>\n    <tr>\n      <th>1</th>\n      <td>CASSLTGTGQETQYF</td>\n      <td>PILLHQVEA</td>\n      <td>0</td>\n    </tr>\n    <tr>\n      <th>2</th>\n      <td>CASSATYEQYF</td>\n      <td>FSSPHGKDL</td>\n      <td>0</td>\n    </tr>\n    <tr>\n      <th>3</th>\n      <td>CASSPYRTYGYTF</td>\n      <td>LSVKRLWQY</td>\n      <td>0</td>\n    </tr>\n    <tr>\n      <th>4</th>\n      <td>CASSNSGGAGTGELFF</td>\n      <td>IVFHNEAWST</td>\n      <td>0</td>\n    </tr>\n    <tr>\n      <th>...</th>\n      <td>...</td>\n      <td>...</td>\n      <td>...</td>\n    </tr>\n    <tr>\n      <th>636393</th>\n      <td>CASSARGGTDTQYF</td>\n      <td>AADKGHYKF</td>\n      <td>0</td>\n    </tr>\n    <tr>\n      <th>636394</th>\n      <td>CASSSTDEATEAFF</td>\n      <td>RWLWGFLSR</td>\n      <td>0</td>\n    </tr>\n    <tr>\n      <th>636395</th>\n      <td>CASSAGGLAGPGELFF</td>\n      <td>GRIKAIQLEY</td>\n      <td>0</td>\n    </tr>\n    <tr>\n      <th>636396</th>\n      <td>CASSQLPLDTELFF</td>\n      <td>YRLTQGVVKR</td>\n      <td>0</td>\n    </tr>\n    <tr>\n      <th>636397</th>\n      <td>CASSTYHRTHYNEQFF</td>\n      <td>FRISGAPEKY</td>\n      <td>0</td>\n    </tr>\n  </tbody>\n</table>\n<p>635642 rows × 3 columns</p>\n</div>"
     },
     "execution_count": 14,
     "metadata": {},
     "output_type": "execute_result"
    }
   ],
   "source": [
    "new_data"
   ],
   "metadata": {
    "collapsed": false,
    "ExecuteTime": {
     "end_time": "2023-09-30T07:47:00.622959900Z",
     "start_time": "2023-09-30T07:47:00.591698400Z"
    }
   },
   "id": "5f84275206218906"
  },
  {
   "cell_type": "code",
   "execution_count": 6,
   "outputs": [
    {
     "data": {
      "text/plain": "Counter({0: 605452, 1: 30190})"
     },
     "execution_count": 6,
     "metadata": {},
     "output_type": "execute_result"
    }
   ],
   "source": [
    "Counter(new_data['label'])"
   ],
   "metadata": {
    "collapsed": false,
    "ExecuteTime": {
     "end_time": "2023-09-30T07:45:20.938644500Z",
     "start_time": "2023-09-30T07:45:20.876140600Z"
    }
   },
   "id": "8af221f4b40dc7c1"
  },
  {
   "cell_type": "code",
   "execution_count": 15,
   "outputs": [],
   "source": [
    "new_data = new_data[new_data['label'] == 1]"
   ],
   "metadata": {
    "collapsed": false,
    "ExecuteTime": {
     "end_time": "2023-09-30T07:48:34.428500800Z",
     "start_time": "2023-09-30T07:48:34.397245500Z"
    }
   },
   "id": "5b2216e8628e7732"
  },
  {
   "cell_type": "code",
   "execution_count": 16,
   "outputs": [],
   "source": [
    "new_data = new_data.drop_duplicates()"
   ],
   "metadata": {
    "collapsed": false,
    "ExecuteTime": {
     "end_time": "2023-09-30T07:48:48.102188500Z",
     "start_time": "2023-09-30T07:48:48.070935100Z"
    }
   },
   "id": "c92ea83b3943bca2"
  },
  {
   "cell_type": "code",
   "execution_count": 17,
   "outputs": [
    {
     "data": {
      "text/plain": "Counter({1: 30190})"
     },
     "execution_count": 17,
     "metadata": {},
     "output_type": "execute_result"
    }
   ],
   "source": [
    "Counter(new_data['label'])"
   ],
   "metadata": {
    "collapsed": false,
    "ExecuteTime": {
     "end_time": "2023-09-30T07:48:58.761060600Z",
     "start_time": "2023-09-30T07:48:58.729805100Z"
    }
   },
   "id": "89227bb9179b107f"
  },
  {
   "cell_type": "code",
   "execution_count": 18,
   "outputs": [],
   "source": [
    "new_data.to_csv(\"true.csv\",index=False)"
   ],
   "metadata": {
    "collapsed": false,
    "ExecuteTime": {
     "end_time": "2023-09-30T07:49:26.775801900Z",
     "start_time": "2023-09-30T07:49:26.728921100Z"
    }
   },
   "id": "174865cdadec9e95"
  },
  {
   "cell_type": "code",
   "execution_count": 7,
   "outputs": [],
   "source": [
    "base_data = pd.read_csv(\"D:\\ProjectsSTC\\pytorchProject\\data\\\\base_dataset.csv\")"
   ],
   "metadata": {
    "collapsed": false,
    "ExecuteTime": {
     "end_time": "2023-09-30T07:45:35.778128100Z",
     "start_time": "2023-09-30T07:45:35.743168700Z"
    }
   },
   "id": "3e561ed4dfde9e7"
  },
  {
   "cell_type": "code",
   "execution_count": 9,
   "outputs": [
    {
     "data": {
      "text/plain": "Counter({1: 32080})"
     },
     "execution_count": 9,
     "metadata": {},
     "output_type": "execute_result"
    }
   ],
   "source": [
    "Counter(base_data['label'])"
   ],
   "metadata": {
    "collapsed": false,
    "ExecuteTime": {
     "end_time": "2023-09-30T07:45:41.030513700Z",
     "start_time": "2023-09-30T07:45:40.999257300Z"
    }
   },
   "id": "8ff2f9e1cf9a7efb"
  },
  {
   "cell_type": "code",
   "execution_count": 10,
   "outputs": [],
   "source": [
    "base_data = base_data.drop_duplicates()"
   ],
   "metadata": {
    "collapsed": false,
    "ExecuteTime": {
     "end_time": "2023-09-30T07:45:48.209965200Z",
     "start_time": "2023-09-30T07:45:48.194340300Z"
    }
   },
   "id": "f5a52e0808048b4e"
  },
  {
   "cell_type": "code",
   "execution_count": 11,
   "outputs": [],
   "source": [
    "column_mapping = {\n",
    "    \"binding_TCR\": \"tcr\",\n",
    "}"
   ],
   "metadata": {
    "collapsed": false,
    "ExecuteTime": {
     "end_time": "2023-09-30T07:45:49.771817800Z",
     "start_time": "2023-09-30T07:45:49.756191800Z"
    }
   },
   "id": "8d7f3b60ed9b9410"
  },
  {
   "cell_type": "code",
   "execution_count": 12,
   "outputs": [],
   "source": [
    "base_data = base_data.rename(columns=column_mapping)"
   ],
   "metadata": {
    "collapsed": false,
    "ExecuteTime": {
     "end_time": "2023-09-30T07:45:54.177111400Z",
     "start_time": "2023-09-30T07:45:54.145856400Z"
    }
   },
   "id": "8533ca0d5c99837c"
  },
  {
   "cell_type": "code",
   "execution_count": 13,
   "outputs": [
    {
     "data": {
      "text/plain": "           peptide                   tcr  label\n0        KLGGALQAK       CASSPAEATNEKLFF      1\n1        KLGGALQAK        CASSFGSYNSPLHF      1\n2        KLGGALQAK     CSARDLLAGGYTGELFF      1\n3        KLGGALQAK       CASSLGLAGTYEQYF      1\n4        KLGGALQAK       CASSFGTGSRNEQFF      1\n...            ...                   ...    ...\n32075    CLAGLLTMV          ASSYVSQNNEQF      1\n32076  ASFRPELAEFW  CASTGSYGYTFGSGTRLTVT      1\n32077    NLAPMVATV      CASSLAPGTTNEKLFF      1\n32078    ALGGLLTMV          ASSYVSQNNEQF      1\n32079  LAITPEIAPYF  CASTGSYGYTFGSGTRLTVT      1\n\n[32080 rows x 3 columns]",
      "text/html": "<div>\n<style scoped>\n    .dataframe tbody tr th:only-of-type {\n        vertical-align: middle;\n    }\n\n    .dataframe tbody tr th {\n        vertical-align: top;\n    }\n\n    .dataframe thead th {\n        text-align: right;\n    }\n</style>\n<table border=\"1\" class=\"dataframe\">\n  <thead>\n    <tr style=\"text-align: right;\">\n      <th></th>\n      <th>peptide</th>\n      <th>tcr</th>\n      <th>label</th>\n    </tr>\n  </thead>\n  <tbody>\n    <tr>\n      <th>0</th>\n      <td>KLGGALQAK</td>\n      <td>CASSPAEATNEKLFF</td>\n      <td>1</td>\n    </tr>\n    <tr>\n      <th>1</th>\n      <td>KLGGALQAK</td>\n      <td>CASSFGSYNSPLHF</td>\n      <td>1</td>\n    </tr>\n    <tr>\n      <th>2</th>\n      <td>KLGGALQAK</td>\n      <td>CSARDLLAGGYTGELFF</td>\n      <td>1</td>\n    </tr>\n    <tr>\n      <th>3</th>\n      <td>KLGGALQAK</td>\n      <td>CASSLGLAGTYEQYF</td>\n      <td>1</td>\n    </tr>\n    <tr>\n      <th>4</th>\n      <td>KLGGALQAK</td>\n      <td>CASSFGTGSRNEQFF</td>\n      <td>1</td>\n    </tr>\n    <tr>\n      <th>...</th>\n      <td>...</td>\n      <td>...</td>\n      <td>...</td>\n    </tr>\n    <tr>\n      <th>32075</th>\n      <td>CLAGLLTMV</td>\n      <td>ASSYVSQNNEQF</td>\n      <td>1</td>\n    </tr>\n    <tr>\n      <th>32076</th>\n      <td>ASFRPELAEFW</td>\n      <td>CASTGSYGYTFGSGTRLTVT</td>\n      <td>1</td>\n    </tr>\n    <tr>\n      <th>32077</th>\n      <td>NLAPMVATV</td>\n      <td>CASSLAPGTTNEKLFF</td>\n      <td>1</td>\n    </tr>\n    <tr>\n      <th>32078</th>\n      <td>ALGGLLTMV</td>\n      <td>ASSYVSQNNEQF</td>\n      <td>1</td>\n    </tr>\n    <tr>\n      <th>32079</th>\n      <td>LAITPEIAPYF</td>\n      <td>CASTGSYGYTFGSGTRLTVT</td>\n      <td>1</td>\n    </tr>\n  </tbody>\n</table>\n<p>32080 rows × 3 columns</p>\n</div>"
     },
     "execution_count": 13,
     "metadata": {},
     "output_type": "execute_result"
    }
   ],
   "source": [
    "base_data"
   ],
   "metadata": {
    "collapsed": false,
    "ExecuteTime": {
     "end_time": "2023-09-30T07:45:57.212151900Z",
     "start_time": "2023-09-30T07:45:57.180896300Z"
    }
   },
   "id": "1bf4f161cb6e2342"
  },
  {
   "cell_type": "code",
   "execution_count": 19,
   "outputs": [],
   "source": [
    "base_data = base_data.drop_duplicates()"
   ],
   "metadata": {
    "collapsed": false,
    "ExecuteTime": {
     "end_time": "2023-09-30T07:49:58.948755200Z",
     "start_time": "2023-09-30T07:49:58.933127100Z"
    }
   },
   "id": "ff7f9296c5fb0a72"
  },
  {
   "cell_type": "code",
   "execution_count": 23,
   "outputs": [],
   "source": [
    "new_data = new_data[['peptide','tcr','label']]"
   ],
   "metadata": {
    "collapsed": false,
    "ExecuteTime": {
     "end_time": "2023-09-30T07:51:55.803289100Z",
     "start_time": "2023-09-30T07:51:55.772036900Z"
    }
   },
   "id": "840c80f7dc325098"
  },
  {
   "cell_type": "code",
   "execution_count": 22,
   "outputs": [
    {
     "data": {
      "text/plain": "           peptide                   tcr  label\n0        KLGGALQAK       CASSPAEATNEKLFF      1\n1        KLGGALQAK        CASSFGSYNSPLHF      1\n2        KLGGALQAK     CSARDLLAGGYTGELFF      1\n3        KLGGALQAK       CASSLGLAGTYEQYF      1\n4        KLGGALQAK       CASSFGTGSRNEQFF      1\n...            ...                   ...    ...\n32075    CLAGLLTMV          ASSYVSQNNEQF      1\n32076  ASFRPELAEFW  CASTGSYGYTFGSGTRLTVT      1\n32077    NLAPMVATV      CASSLAPGTTNEKLFF      1\n32078    ALGGLLTMV          ASSYVSQNNEQF      1\n32079  LAITPEIAPYF  CASTGSYGYTFGSGTRLTVT      1\n\n[32080 rows x 3 columns]",
      "text/html": "<div>\n<style scoped>\n    .dataframe tbody tr th:only-of-type {\n        vertical-align: middle;\n    }\n\n    .dataframe tbody tr th {\n        vertical-align: top;\n    }\n\n    .dataframe thead th {\n        text-align: right;\n    }\n</style>\n<table border=\"1\" class=\"dataframe\">\n  <thead>\n    <tr style=\"text-align: right;\">\n      <th></th>\n      <th>peptide</th>\n      <th>tcr</th>\n      <th>label</th>\n    </tr>\n  </thead>\n  <tbody>\n    <tr>\n      <th>0</th>\n      <td>KLGGALQAK</td>\n      <td>CASSPAEATNEKLFF</td>\n      <td>1</td>\n    </tr>\n    <tr>\n      <th>1</th>\n      <td>KLGGALQAK</td>\n      <td>CASSFGSYNSPLHF</td>\n      <td>1</td>\n    </tr>\n    <tr>\n      <th>2</th>\n      <td>KLGGALQAK</td>\n      <td>CSARDLLAGGYTGELFF</td>\n      <td>1</td>\n    </tr>\n    <tr>\n      <th>3</th>\n      <td>KLGGALQAK</td>\n      <td>CASSLGLAGTYEQYF</td>\n      <td>1</td>\n    </tr>\n    <tr>\n      <th>4</th>\n      <td>KLGGALQAK</td>\n      <td>CASSFGTGSRNEQFF</td>\n      <td>1</td>\n    </tr>\n    <tr>\n      <th>...</th>\n      <td>...</td>\n      <td>...</td>\n      <td>...</td>\n    </tr>\n    <tr>\n      <th>32075</th>\n      <td>CLAGLLTMV</td>\n      <td>ASSYVSQNNEQF</td>\n      <td>1</td>\n    </tr>\n    <tr>\n      <th>32076</th>\n      <td>ASFRPELAEFW</td>\n      <td>CASTGSYGYTFGSGTRLTVT</td>\n      <td>1</td>\n    </tr>\n    <tr>\n      <th>32077</th>\n      <td>NLAPMVATV</td>\n      <td>CASSLAPGTTNEKLFF</td>\n      <td>1</td>\n    </tr>\n    <tr>\n      <th>32078</th>\n      <td>ALGGLLTMV</td>\n      <td>ASSYVSQNNEQF</td>\n      <td>1</td>\n    </tr>\n    <tr>\n      <th>32079</th>\n      <td>LAITPEIAPYF</td>\n      <td>CASTGSYGYTFGSGTRLTVT</td>\n      <td>1</td>\n    </tr>\n  </tbody>\n</table>\n<p>32080 rows × 3 columns</p>\n</div>"
     },
     "execution_count": 22,
     "metadata": {},
     "output_type": "execute_result"
    }
   ],
   "source": [
    "base_data"
   ],
   "metadata": {
    "collapsed": false,
    "ExecuteTime": {
     "end_time": "2023-09-30T07:51:34.138848400Z",
     "start_time": "2023-09-30T07:51:34.107592400Z"
    }
   },
   "id": "83a0289bb987a1b8"
  },
  {
   "cell_type": "code",
   "execution_count": 24,
   "outputs": [
    {
     "data": {
      "text/plain": "           peptide               tcr  label\n12       KLGGALQAK  CASSKGLAGGPYEQYV      1\n36      LPRRSGAAGA      CSVWSGSTEAFF      1\n54       KLGGALQAK   CASSPDWSSHNEQFF      1\n56       KLGGALQAK     CASTLPRDTEAFF      1\n77       KLGGALQAK     CATPNRGFDGYTF      1\n...            ...               ...    ...\n636295   KLGGALQAK   CASSQDWGANTEAFF      1\n636310   KLGGALQAK       CSSGGTYGYTF      1\n636326   GLCTLVAML  CASSQQLRVINTEAFF      1\n636342   KLGGALQAK   CASSLRSLYNSPLHF      1\n636381   GILGFVFTL    CASSLLSGSYEQYF      1\n\n[30190 rows x 3 columns]",
      "text/html": "<div>\n<style scoped>\n    .dataframe tbody tr th:only-of-type {\n        vertical-align: middle;\n    }\n\n    .dataframe tbody tr th {\n        vertical-align: top;\n    }\n\n    .dataframe thead th {\n        text-align: right;\n    }\n</style>\n<table border=\"1\" class=\"dataframe\">\n  <thead>\n    <tr style=\"text-align: right;\">\n      <th></th>\n      <th>peptide</th>\n      <th>tcr</th>\n      <th>label</th>\n    </tr>\n  </thead>\n  <tbody>\n    <tr>\n      <th>12</th>\n      <td>KLGGALQAK</td>\n      <td>CASSKGLAGGPYEQYV</td>\n      <td>1</td>\n    </tr>\n    <tr>\n      <th>36</th>\n      <td>LPRRSGAAGA</td>\n      <td>CSVWSGSTEAFF</td>\n      <td>1</td>\n    </tr>\n    <tr>\n      <th>54</th>\n      <td>KLGGALQAK</td>\n      <td>CASSPDWSSHNEQFF</td>\n      <td>1</td>\n    </tr>\n    <tr>\n      <th>56</th>\n      <td>KLGGALQAK</td>\n      <td>CASTLPRDTEAFF</td>\n      <td>1</td>\n    </tr>\n    <tr>\n      <th>77</th>\n      <td>KLGGALQAK</td>\n      <td>CATPNRGFDGYTF</td>\n      <td>1</td>\n    </tr>\n    <tr>\n      <th>...</th>\n      <td>...</td>\n      <td>...</td>\n      <td>...</td>\n    </tr>\n    <tr>\n      <th>636295</th>\n      <td>KLGGALQAK</td>\n      <td>CASSQDWGANTEAFF</td>\n      <td>1</td>\n    </tr>\n    <tr>\n      <th>636310</th>\n      <td>KLGGALQAK</td>\n      <td>CSSGGTYGYTF</td>\n      <td>1</td>\n    </tr>\n    <tr>\n      <th>636326</th>\n      <td>GLCTLVAML</td>\n      <td>CASSQQLRVINTEAFF</td>\n      <td>1</td>\n    </tr>\n    <tr>\n      <th>636342</th>\n      <td>KLGGALQAK</td>\n      <td>CASSLRSLYNSPLHF</td>\n      <td>1</td>\n    </tr>\n    <tr>\n      <th>636381</th>\n      <td>GILGFVFTL</td>\n      <td>CASSLLSGSYEQYF</td>\n      <td>1</td>\n    </tr>\n  </tbody>\n</table>\n<p>30190 rows × 3 columns</p>\n</div>"
     },
     "execution_count": 24,
     "metadata": {},
     "output_type": "execute_result"
    }
   ],
   "source": [
    "new_data"
   ],
   "metadata": {
    "collapsed": false,
    "ExecuteTime": {
     "end_time": "2023-09-30T07:52:04.416530700Z",
     "start_time": "2023-09-30T07:52:04.385275200Z"
    }
   },
   "id": "e9a592fb4148b021"
  },
  {
   "cell_type": "code",
   "execution_count": 20,
   "outputs": [
    {
     "data": {
      "text/plain": "Counter({1: 32080})"
     },
     "execution_count": 20,
     "metadata": {},
     "output_type": "execute_result"
    }
   ],
   "source": [
    "Counter(base_data['label'])"
   ],
   "metadata": {
    "collapsed": false,
    "ExecuteTime": {
     "end_time": "2023-09-30T07:50:04.047275800Z",
     "start_time": "2023-09-30T07:50:04.016020200Z"
    }
   },
   "id": "a63eecff4cd372ce"
  },
  {
   "cell_type": "code",
   "execution_count": 25,
   "outputs": [],
   "source": [
    "data = pd.concat((new_data,base_data),axis=0)"
   ],
   "metadata": {
    "collapsed": false,
    "ExecuteTime": {
     "end_time": "2023-09-30T07:52:17.759250600Z",
     "start_time": "2023-09-30T07:52:17.727997900Z"
    }
   },
   "id": "6bbcab4dfe31beab"
  },
  {
   "cell_type": "code",
   "execution_count": 30,
   "outputs": [],
   "source": [
    "data = data.drop_duplicates()"
   ],
   "metadata": {
    "collapsed": false,
    "ExecuteTime": {
     "end_time": "2023-09-30T07:53:24.908475700Z",
     "start_time": "2023-09-30T07:53:24.878238100Z"
    }
   },
   "id": "84b7f513d270691d"
  },
  {
   "cell_type": "code",
   "execution_count": 34,
   "outputs": [
    {
     "data": {
      "text/plain": "           peptide                   tcr  label\n12       KLGGALQAK      CASSKGLAGGPYEQYV      1\n36      LPRRSGAAGA          CSVWSGSTEAFF      1\n54       KLGGALQAK       CASSPDWSSHNEQFF      1\n56       KLGGALQAK         CASTLPRDTEAFF      1\n77       KLGGALQAK         CATPNRGFDGYTF      1\n...            ...                   ...    ...\n32075    CLAGLLTMV          ASSYVSQNNEQF      1\n32076  ASFRPELAEFW  CASTGSYGYTFGSGTRLTVT      1\n32077    NLAPMVATV      CASSLAPGTTNEKLFF      1\n32078    ALGGLLTMV          ASSYVSQNNEQF      1\n32079  LAITPEIAPYF  CASTGSYGYTFGSGTRLTVT      1\n\n[37884 rows x 3 columns]",
      "text/html": "<div>\n<style scoped>\n    .dataframe tbody tr th:only-of-type {\n        vertical-align: middle;\n    }\n\n    .dataframe tbody tr th {\n        vertical-align: top;\n    }\n\n    .dataframe thead th {\n        text-align: right;\n    }\n</style>\n<table border=\"1\" class=\"dataframe\">\n  <thead>\n    <tr style=\"text-align: right;\">\n      <th></th>\n      <th>peptide</th>\n      <th>tcr</th>\n      <th>label</th>\n    </tr>\n  </thead>\n  <tbody>\n    <tr>\n      <th>12</th>\n      <td>KLGGALQAK</td>\n      <td>CASSKGLAGGPYEQYV</td>\n      <td>1</td>\n    </tr>\n    <tr>\n      <th>36</th>\n      <td>LPRRSGAAGA</td>\n      <td>CSVWSGSTEAFF</td>\n      <td>1</td>\n    </tr>\n    <tr>\n      <th>54</th>\n      <td>KLGGALQAK</td>\n      <td>CASSPDWSSHNEQFF</td>\n      <td>1</td>\n    </tr>\n    <tr>\n      <th>56</th>\n      <td>KLGGALQAK</td>\n      <td>CASTLPRDTEAFF</td>\n      <td>1</td>\n    </tr>\n    <tr>\n      <th>77</th>\n      <td>KLGGALQAK</td>\n      <td>CATPNRGFDGYTF</td>\n      <td>1</td>\n    </tr>\n    <tr>\n      <th>...</th>\n      <td>...</td>\n      <td>...</td>\n      <td>...</td>\n    </tr>\n    <tr>\n      <th>32075</th>\n      <td>CLAGLLTMV</td>\n      <td>ASSYVSQNNEQF</td>\n      <td>1</td>\n    </tr>\n    <tr>\n      <th>32076</th>\n      <td>ASFRPELAEFW</td>\n      <td>CASTGSYGYTFGSGTRLTVT</td>\n      <td>1</td>\n    </tr>\n    <tr>\n      <th>32077</th>\n      <td>NLAPMVATV</td>\n      <td>CASSLAPGTTNEKLFF</td>\n      <td>1</td>\n    </tr>\n    <tr>\n      <th>32078</th>\n      <td>ALGGLLTMV</td>\n      <td>ASSYVSQNNEQF</td>\n      <td>1</td>\n    </tr>\n    <tr>\n      <th>32079</th>\n      <td>LAITPEIAPYF</td>\n      <td>CASTGSYGYTFGSGTRLTVT</td>\n      <td>1</td>\n    </tr>\n  </tbody>\n</table>\n<p>37884 rows × 3 columns</p>\n</div>"
     },
     "execution_count": 34,
     "metadata": {},
     "output_type": "execute_result"
    }
   ],
   "source": [
    "data"
   ],
   "metadata": {
    "collapsed": false,
    "ExecuteTime": {
     "end_time": "2023-09-30T07:53:49.560596800Z",
     "start_time": "2023-09-30T07:53:49.529342200Z"
    }
   },
   "id": "d6bb8a69452f0813"
  },
  {
   "cell_type": "code",
   "execution_count": 32,
   "outputs": [
    {
     "data": {
      "text/plain": "Counter({1: 37884})"
     },
     "execution_count": 32,
     "metadata": {},
     "output_type": "execute_result"
    }
   ],
   "source": [
    "Counter(data['label'])"
   ],
   "metadata": {
    "collapsed": false,
    "ExecuteTime": {
     "end_time": "2023-09-30T07:53:38.434869400Z",
     "start_time": "2023-09-30T07:53:38.419240800Z"
    }
   },
   "id": "5ab120bc6f911f40"
  },
  {
   "cell_type": "code",
   "execution_count": null,
   "outputs": [],
   "source": [],
   "metadata": {
    "collapsed": false
   },
   "id": "f66b1f7cbfded383"
  },
  {
   "cell_type": "code",
   "execution_count": null,
   "outputs": [],
   "source": [],
   "metadata": {
    "collapsed": false
   },
   "id": "d217c83a4d7ea56e"
  },
  {
   "cell_type": "code",
   "execution_count": 35,
   "outputs": [],
   "source": [
    "data.to_csv(\"true_all.csv\",index=False)"
   ],
   "metadata": {
    "collapsed": false,
    "ExecuteTime": {
     "end_time": "2023-09-30T07:56:45.936029500Z",
     "start_time": "2023-09-30T07:56:45.884969600Z"
    }
   },
   "id": "6b62fbec8eda4e8"
  },
  {
   "cell_type": "code",
   "execution_count": 50,
   "outputs": [
    {
     "data": {
      "text/plain": "           peptide                   tcr  label\n12       KLGGALQAK      CASSKGLAGGPYEQYV      1\n36      LPRRSGAAGA          CSVWSGSTEAFF      1\n54       KLGGALQAK       CASSPDWSSHNEQFF      1\n56       KLGGALQAK         CASTLPRDTEAFF      1\n77       KLGGALQAK         CATPNRGFDGYTF      1\n...            ...                   ...    ...\n32075    CLAGLLTMV          ASSYVSQNNEQF      1\n32076  ASFRPELAEFW  CASTGSYGYTFGSGTRLTVT      1\n32077    NLAPMVATV      CASSLAPGTTNEKLFF      1\n32078    ALGGLLTMV          ASSYVSQNNEQF      1\n32079  LAITPEIAPYF  CASTGSYGYTFGSGTRLTVT      1\n\n[37884 rows x 3 columns]",
      "text/html": "<div>\n<style scoped>\n    .dataframe tbody tr th:only-of-type {\n        vertical-align: middle;\n    }\n\n    .dataframe tbody tr th {\n        vertical-align: top;\n    }\n\n    .dataframe thead th {\n        text-align: right;\n    }\n</style>\n<table border=\"1\" class=\"dataframe\">\n  <thead>\n    <tr style=\"text-align: right;\">\n      <th></th>\n      <th>peptide</th>\n      <th>tcr</th>\n      <th>label</th>\n    </tr>\n  </thead>\n  <tbody>\n    <tr>\n      <th>12</th>\n      <td>KLGGALQAK</td>\n      <td>CASSKGLAGGPYEQYV</td>\n      <td>1</td>\n    </tr>\n    <tr>\n      <th>36</th>\n      <td>LPRRSGAAGA</td>\n      <td>CSVWSGSTEAFF</td>\n      <td>1</td>\n    </tr>\n    <tr>\n      <th>54</th>\n      <td>KLGGALQAK</td>\n      <td>CASSPDWSSHNEQFF</td>\n      <td>1</td>\n    </tr>\n    <tr>\n      <th>56</th>\n      <td>KLGGALQAK</td>\n      <td>CASTLPRDTEAFF</td>\n      <td>1</td>\n    </tr>\n    <tr>\n      <th>77</th>\n      <td>KLGGALQAK</td>\n      <td>CATPNRGFDGYTF</td>\n      <td>1</td>\n    </tr>\n    <tr>\n      <th>...</th>\n      <td>...</td>\n      <td>...</td>\n      <td>...</td>\n    </tr>\n    <tr>\n      <th>32075</th>\n      <td>CLAGLLTMV</td>\n      <td>ASSYVSQNNEQF</td>\n      <td>1</td>\n    </tr>\n    <tr>\n      <th>32076</th>\n      <td>ASFRPELAEFW</td>\n      <td>CASTGSYGYTFGSGTRLTVT</td>\n      <td>1</td>\n    </tr>\n    <tr>\n      <th>32077</th>\n      <td>NLAPMVATV</td>\n      <td>CASSLAPGTTNEKLFF</td>\n      <td>1</td>\n    </tr>\n    <tr>\n      <th>32078</th>\n      <td>ALGGLLTMV</td>\n      <td>ASSYVSQNNEQF</td>\n      <td>1</td>\n    </tr>\n    <tr>\n      <th>32079</th>\n      <td>LAITPEIAPYF</td>\n      <td>CASTGSYGYTFGSGTRLTVT</td>\n      <td>1</td>\n    </tr>\n  </tbody>\n</table>\n<p>37884 rows × 3 columns</p>\n</div>"
     },
     "execution_count": 50,
     "metadata": {},
     "output_type": "execute_result"
    }
   ],
   "source": [
    "data"
   ],
   "metadata": {
    "collapsed": false,
    "ExecuteTime": {
     "end_time": "2023-09-30T08:00:47.822051Z",
     "start_time": "2023-09-30T08:00:47.806546100Z"
    }
   },
   "id": "92ed6b9c9b317476"
  },
  {
   "cell_type": "code",
   "execution_count": 36,
   "outputs": [],
   "source": [
    "data_m1 = pd.read_csv(\"D:\\ProjectsSTC\\pytorchProject\\data\\majority_testing_dataset (1).csv\")"
   ],
   "metadata": {
    "collapsed": false,
    "ExecuteTime": {
     "end_time": "2023-09-30T07:57:38.263358200Z",
     "start_time": "2023-09-30T07:57:38.247729200Z"
    }
   },
   "id": "50b7b9711191de90"
  },
  {
   "cell_type": "code",
   "execution_count": 38,
   "outputs": [
    {
     "data": {
      "text/plain": "        peptide        binding_TCR  label\n0     ATDALMTGY    CAISDGTVNNQPQHF      1\n1     ATDALMTGY    CAISEEGIGNQPQHF      1\n2     ATDALMTGY    CAAADEEIGNQPQHF      1\n3     ATDALMTGY    CAIGDDRAGNQPQHF      1\n4     ATDALMTGY    CAISESTVGNQPQHF      1\n...         ...                ...    ...\n5225  NLVPMVATV   CASSLDLVTATYGYTF      0\n5226  NLVPMVATV     CSARDKEGLNEQFF      0\n5227  NLVPMVATV    CAISSGGDPAEKLFF      0\n5228  NLVPMVATV  CASSPTPGGPLQNTIYF      0\n5229  NLVPMVATV     CASLKGARTDTQYF      0\n\n[5230 rows x 3 columns]",
      "text/html": "<div>\n<style scoped>\n    .dataframe tbody tr th:only-of-type {\n        vertical-align: middle;\n    }\n\n    .dataframe tbody tr th {\n        vertical-align: top;\n    }\n\n    .dataframe thead th {\n        text-align: right;\n    }\n</style>\n<table border=\"1\" class=\"dataframe\">\n  <thead>\n    <tr style=\"text-align: right;\">\n      <th></th>\n      <th>peptide</th>\n      <th>binding_TCR</th>\n      <th>label</th>\n    </tr>\n  </thead>\n  <tbody>\n    <tr>\n      <th>0</th>\n      <td>ATDALMTGY</td>\n      <td>CAISDGTVNNQPQHF</td>\n      <td>1</td>\n    </tr>\n    <tr>\n      <th>1</th>\n      <td>ATDALMTGY</td>\n      <td>CAISEEGIGNQPQHF</td>\n      <td>1</td>\n    </tr>\n    <tr>\n      <th>2</th>\n      <td>ATDALMTGY</td>\n      <td>CAAADEEIGNQPQHF</td>\n      <td>1</td>\n    </tr>\n    <tr>\n      <th>3</th>\n      <td>ATDALMTGY</td>\n      <td>CAIGDDRAGNQPQHF</td>\n      <td>1</td>\n    </tr>\n    <tr>\n      <th>4</th>\n      <td>ATDALMTGY</td>\n      <td>CAISESTVGNQPQHF</td>\n      <td>1</td>\n    </tr>\n    <tr>\n      <th>...</th>\n      <td>...</td>\n      <td>...</td>\n      <td>...</td>\n    </tr>\n    <tr>\n      <th>5225</th>\n      <td>NLVPMVATV</td>\n      <td>CASSLDLVTATYGYTF</td>\n      <td>0</td>\n    </tr>\n    <tr>\n      <th>5226</th>\n      <td>NLVPMVATV</td>\n      <td>CSARDKEGLNEQFF</td>\n      <td>0</td>\n    </tr>\n    <tr>\n      <th>5227</th>\n      <td>NLVPMVATV</td>\n      <td>CAISSGGDPAEKLFF</td>\n      <td>0</td>\n    </tr>\n    <tr>\n      <th>5228</th>\n      <td>NLVPMVATV</td>\n      <td>CASSPTPGGPLQNTIYF</td>\n      <td>0</td>\n    </tr>\n    <tr>\n      <th>5229</th>\n      <td>NLVPMVATV</td>\n      <td>CASLKGARTDTQYF</td>\n      <td>0</td>\n    </tr>\n  </tbody>\n</table>\n<p>5230 rows × 3 columns</p>\n</div>"
     },
     "execution_count": 38,
     "metadata": {},
     "output_type": "execute_result"
    }
   ],
   "source": [
    "data_m1"
   ],
   "metadata": {
    "collapsed": false,
    "ExecuteTime": {
     "end_time": "2023-09-30T07:57:43.570483300Z",
     "start_time": "2023-09-30T07:57:43.539234100Z"
    }
   },
   "id": "369fef1ddc03d059"
  },
  {
   "cell_type": "code",
   "execution_count": 40,
   "outputs": [],
   "source": [
    "data_m2 = pd.read_csv('D:\\ProjectsSTC\\pytorchProject\\data\\majority_training_dataset (1).csv')"
   ],
   "metadata": {
    "collapsed": false,
    "ExecuteTime": {
     "end_time": "2023-09-30T07:58:40.694701200Z",
     "start_time": "2023-09-30T07:58:40.663636600Z"
    }
   },
   "id": "cea1499fdf0e3eac"
  },
  {
   "cell_type": "code",
   "execution_count": 41,
   "outputs": [
    {
     "data": {
      "text/plain": "         peptide         binding_TCR  label\n0      ATDALMTGY      CAISESQGNTEAFF      1\n1      ATDALMTGY      CAISEDRALVSYTF      1\n2      ATDALMTGY      CAISEDRALNEQFF      1\n3      ATDALMTGY      CAVQPGQGMQPQHF      1\n4      ATDALMTGY     CAISEGAMGNQPQHF      1\n...          ...                 ...    ...\n23227  NLVPMVATV     CASRAGTGYYNEQFF      0\n23228  NLVPMVATV      CASKRGVGEDTQYF      0\n23229  NLVPMVATV      CASSLPRTRDTQYF      0\n23230  NLVPMVATV    CASSYSGQGSSYGYTF      0\n23231  NLVPMVATV  CASSRLPATGGVTQPQHF      0\n\n[23232 rows x 3 columns]",
      "text/html": "<div>\n<style scoped>\n    .dataframe tbody tr th:only-of-type {\n        vertical-align: middle;\n    }\n\n    .dataframe tbody tr th {\n        vertical-align: top;\n    }\n\n    .dataframe thead th {\n        text-align: right;\n    }\n</style>\n<table border=\"1\" class=\"dataframe\">\n  <thead>\n    <tr style=\"text-align: right;\">\n      <th></th>\n      <th>peptide</th>\n      <th>binding_TCR</th>\n      <th>label</th>\n    </tr>\n  </thead>\n  <tbody>\n    <tr>\n      <th>0</th>\n      <td>ATDALMTGY</td>\n      <td>CAISESQGNTEAFF</td>\n      <td>1</td>\n    </tr>\n    <tr>\n      <th>1</th>\n      <td>ATDALMTGY</td>\n      <td>CAISEDRALVSYTF</td>\n      <td>1</td>\n    </tr>\n    <tr>\n      <th>2</th>\n      <td>ATDALMTGY</td>\n      <td>CAISEDRALNEQFF</td>\n      <td>1</td>\n    </tr>\n    <tr>\n      <th>3</th>\n      <td>ATDALMTGY</td>\n      <td>CAVQPGQGMQPQHF</td>\n      <td>1</td>\n    </tr>\n    <tr>\n      <th>4</th>\n      <td>ATDALMTGY</td>\n      <td>CAISEGAMGNQPQHF</td>\n      <td>1</td>\n    </tr>\n    <tr>\n      <th>...</th>\n      <td>...</td>\n      <td>...</td>\n      <td>...</td>\n    </tr>\n    <tr>\n      <th>23227</th>\n      <td>NLVPMVATV</td>\n      <td>CASRAGTGYYNEQFF</td>\n      <td>0</td>\n    </tr>\n    <tr>\n      <th>23228</th>\n      <td>NLVPMVATV</td>\n      <td>CASKRGVGEDTQYF</td>\n      <td>0</td>\n    </tr>\n    <tr>\n      <th>23229</th>\n      <td>NLVPMVATV</td>\n      <td>CASSLPRTRDTQYF</td>\n      <td>0</td>\n    </tr>\n    <tr>\n      <th>23230</th>\n      <td>NLVPMVATV</td>\n      <td>CASSYSGQGSSYGYTF</td>\n      <td>0</td>\n    </tr>\n    <tr>\n      <th>23231</th>\n      <td>NLVPMVATV</td>\n      <td>CASSRLPATGGVTQPQHF</td>\n      <td>0</td>\n    </tr>\n  </tbody>\n</table>\n<p>23232 rows × 3 columns</p>\n</div>"
     },
     "execution_count": 41,
     "metadata": {},
     "output_type": "execute_result"
    }
   ],
   "source": [
    "data_m2"
   ],
   "metadata": {
    "collapsed": false,
    "ExecuteTime": {
     "end_time": "2023-09-30T07:59:05.463999600Z",
     "start_time": "2023-09-30T07:59:05.447803100Z"
    }
   },
   "id": "619f2a8ec2ee4bad"
  },
  {
   "cell_type": "code",
   "execution_count": 42,
   "outputs": [],
   "source": [
    "data2 = pd.concat((data_m1,data_m2),axis=0)"
   ],
   "metadata": {
    "collapsed": false,
    "ExecuteTime": {
     "end_time": "2023-09-30T07:59:07.655129100Z",
     "start_time": "2023-09-30T07:59:07.639501Z"
    }
   },
   "id": "eb399c32789cf521"
  },
  {
   "cell_type": "code",
   "execution_count": 44,
   "outputs": [],
   "source": [
    "data2 = data2.drop_duplicates()"
   ],
   "metadata": {
    "collapsed": false,
    "ExecuteTime": {
     "end_time": "2023-09-30T07:59:20.314657900Z",
     "start_time": "2023-09-30T07:59:20.283406Z"
    }
   },
   "id": "8e78505aa18a8b2e"
  },
  {
   "cell_type": "code",
   "execution_count": 45,
   "outputs": [
    {
     "data": {
      "text/plain": "         peptide         binding_TCR  label\n0      ATDALMTGY     CAISDGTVNNQPQHF      1\n1      ATDALMTGY     CAISEEGIGNQPQHF      1\n2      ATDALMTGY     CAAADEEIGNQPQHF      1\n3      ATDALMTGY     CAIGDDRAGNQPQHF      1\n4      ATDALMTGY     CAISESTVGNQPQHF      1\n...          ...                 ...    ...\n23227  NLVPMVATV     CASRAGTGYYNEQFF      0\n23228  NLVPMVATV      CASKRGVGEDTQYF      0\n23229  NLVPMVATV      CASSLPRTRDTQYF      0\n23230  NLVPMVATV    CASSYSGQGSSYGYTF      0\n23231  NLVPMVATV  CASSRLPATGGVTQPQHF      0\n\n[27150 rows x 3 columns]",
      "text/html": "<div>\n<style scoped>\n    .dataframe tbody tr th:only-of-type {\n        vertical-align: middle;\n    }\n\n    .dataframe tbody tr th {\n        vertical-align: top;\n    }\n\n    .dataframe thead th {\n        text-align: right;\n    }\n</style>\n<table border=\"1\" class=\"dataframe\">\n  <thead>\n    <tr style=\"text-align: right;\">\n      <th></th>\n      <th>peptide</th>\n      <th>binding_TCR</th>\n      <th>label</th>\n    </tr>\n  </thead>\n  <tbody>\n    <tr>\n      <th>0</th>\n      <td>ATDALMTGY</td>\n      <td>CAISDGTVNNQPQHF</td>\n      <td>1</td>\n    </tr>\n    <tr>\n      <th>1</th>\n      <td>ATDALMTGY</td>\n      <td>CAISEEGIGNQPQHF</td>\n      <td>1</td>\n    </tr>\n    <tr>\n      <th>2</th>\n      <td>ATDALMTGY</td>\n      <td>CAAADEEIGNQPQHF</td>\n      <td>1</td>\n    </tr>\n    <tr>\n      <th>3</th>\n      <td>ATDALMTGY</td>\n      <td>CAIGDDRAGNQPQHF</td>\n      <td>1</td>\n    </tr>\n    <tr>\n      <th>4</th>\n      <td>ATDALMTGY</td>\n      <td>CAISESTVGNQPQHF</td>\n      <td>1</td>\n    </tr>\n    <tr>\n      <th>...</th>\n      <td>...</td>\n      <td>...</td>\n      <td>...</td>\n    </tr>\n    <tr>\n      <th>23227</th>\n      <td>NLVPMVATV</td>\n      <td>CASRAGTGYYNEQFF</td>\n      <td>0</td>\n    </tr>\n    <tr>\n      <th>23228</th>\n      <td>NLVPMVATV</td>\n      <td>CASKRGVGEDTQYF</td>\n      <td>0</td>\n    </tr>\n    <tr>\n      <th>23229</th>\n      <td>NLVPMVATV</td>\n      <td>CASSLPRTRDTQYF</td>\n      <td>0</td>\n    </tr>\n    <tr>\n      <th>23230</th>\n      <td>NLVPMVATV</td>\n      <td>CASSYSGQGSSYGYTF</td>\n      <td>0</td>\n    </tr>\n    <tr>\n      <th>23231</th>\n      <td>NLVPMVATV</td>\n      <td>CASSRLPATGGVTQPQHF</td>\n      <td>0</td>\n    </tr>\n  </tbody>\n</table>\n<p>27150 rows × 3 columns</p>\n</div>"
     },
     "execution_count": 45,
     "metadata": {},
     "output_type": "execute_result"
    }
   ],
   "source": [
    "data2"
   ],
   "metadata": {
    "collapsed": false,
    "ExecuteTime": {
     "end_time": "2023-09-30T07:59:22.114758900Z",
     "start_time": "2023-09-30T07:59:22.099133700Z"
    }
   },
   "id": "9448a2f189701628"
  },
  {
   "cell_type": "code",
   "execution_count": 46,
   "outputs": [],
   "source": [
    "column_mapping = {\n",
    "    \"binding_TCR\": \"tcr\",\n",
    "}"
   ],
   "metadata": {
    "collapsed": false,
    "ExecuteTime": {
     "end_time": "2023-09-30T07:59:47.170771900Z",
     "start_time": "2023-09-30T07:59:47.155146Z"
    }
   },
   "id": "c9c9a040593de83a"
  },
  {
   "cell_type": "code",
   "execution_count": 48,
   "outputs": [],
   "source": [
    "data2 = data2.rename(columns=column_mapping)"
   ],
   "metadata": {
    "collapsed": false,
    "ExecuteTime": {
     "end_time": "2023-09-30T08:00:25.537135400Z",
     "start_time": "2023-09-30T08:00:25.521508Z"
    }
   },
   "id": "27b90e6f72f4e3ea"
  },
  {
   "cell_type": "code",
   "execution_count": 51,
   "outputs": [
    {
     "data": {
      "text/plain": "         peptide                 tcr  label\n0      ATDALMTGY     CAISDGTVNNQPQHF      1\n1      ATDALMTGY     CAISEEGIGNQPQHF      1\n2      ATDALMTGY     CAAADEEIGNQPQHF      1\n3      ATDALMTGY     CAIGDDRAGNQPQHF      1\n4      ATDALMTGY     CAISESTVGNQPQHF      1\n...          ...                 ...    ...\n23227  NLVPMVATV     CASRAGTGYYNEQFF      0\n23228  NLVPMVATV      CASKRGVGEDTQYF      0\n23229  NLVPMVATV      CASSLPRTRDTQYF      0\n23230  NLVPMVATV    CASSYSGQGSSYGYTF      0\n23231  NLVPMVATV  CASSRLPATGGVTQPQHF      0\n\n[27150 rows x 3 columns]",
      "text/html": "<div>\n<style scoped>\n    .dataframe tbody tr th:only-of-type {\n        vertical-align: middle;\n    }\n\n    .dataframe tbody tr th {\n        vertical-align: top;\n    }\n\n    .dataframe thead th {\n        text-align: right;\n    }\n</style>\n<table border=\"1\" class=\"dataframe\">\n  <thead>\n    <tr style=\"text-align: right;\">\n      <th></th>\n      <th>peptide</th>\n      <th>tcr</th>\n      <th>label</th>\n    </tr>\n  </thead>\n  <tbody>\n    <tr>\n      <th>0</th>\n      <td>ATDALMTGY</td>\n      <td>CAISDGTVNNQPQHF</td>\n      <td>1</td>\n    </tr>\n    <tr>\n      <th>1</th>\n      <td>ATDALMTGY</td>\n      <td>CAISEEGIGNQPQHF</td>\n      <td>1</td>\n    </tr>\n    <tr>\n      <th>2</th>\n      <td>ATDALMTGY</td>\n      <td>CAAADEEIGNQPQHF</td>\n      <td>1</td>\n    </tr>\n    <tr>\n      <th>3</th>\n      <td>ATDALMTGY</td>\n      <td>CAIGDDRAGNQPQHF</td>\n      <td>1</td>\n    </tr>\n    <tr>\n      <th>4</th>\n      <td>ATDALMTGY</td>\n      <td>CAISESTVGNQPQHF</td>\n      <td>1</td>\n    </tr>\n    <tr>\n      <th>...</th>\n      <td>...</td>\n      <td>...</td>\n      <td>...</td>\n    </tr>\n    <tr>\n      <th>23227</th>\n      <td>NLVPMVATV</td>\n      <td>CASRAGTGYYNEQFF</td>\n      <td>0</td>\n    </tr>\n    <tr>\n      <th>23228</th>\n      <td>NLVPMVATV</td>\n      <td>CASKRGVGEDTQYF</td>\n      <td>0</td>\n    </tr>\n    <tr>\n      <th>23229</th>\n      <td>NLVPMVATV</td>\n      <td>CASSLPRTRDTQYF</td>\n      <td>0</td>\n    </tr>\n    <tr>\n      <th>23230</th>\n      <td>NLVPMVATV</td>\n      <td>CASSYSGQGSSYGYTF</td>\n      <td>0</td>\n    </tr>\n    <tr>\n      <th>23231</th>\n      <td>NLVPMVATV</td>\n      <td>CASSRLPATGGVTQPQHF</td>\n      <td>0</td>\n    </tr>\n  </tbody>\n</table>\n<p>27150 rows × 3 columns</p>\n</div>"
     },
     "execution_count": 51,
     "metadata": {},
     "output_type": "execute_result"
    }
   ],
   "source": [
    "data2"
   ],
   "metadata": {
    "collapsed": false,
    "ExecuteTime": {
     "end_time": "2023-09-30T08:00:52.729783100Z",
     "start_time": "2023-09-30T08:00:52.697733300Z"
    }
   },
   "id": "27ab2879574ebb44"
  },
  {
   "cell_type": "code",
   "execution_count": 52,
   "outputs": [],
   "source": [
    "data = pd.concat((data,data2),axis=0)"
   ],
   "metadata": {
    "collapsed": false,
    "ExecuteTime": {
     "end_time": "2023-09-30T08:00:54.674002800Z",
     "start_time": "2023-09-30T08:00:54.631514100Z"
    }
   },
   "id": "513f1d554cf678c0"
  },
  {
   "cell_type": "code",
   "execution_count": 54,
   "outputs": [],
   "source": [
    "data = data.drop_duplicates()"
   ],
   "metadata": {
    "collapsed": false,
    "ExecuteTime": {
     "end_time": "2023-09-30T08:01:34.216860Z",
     "start_time": "2023-09-30T08:01:34.175705Z"
    }
   },
   "id": "d64bc0c6ab61153c"
  },
  {
   "cell_type": "code",
   "execution_count": 57,
   "outputs": [],
   "source": [
    "data = data[data['label']==1]"
   ],
   "metadata": {
    "collapsed": false,
    "ExecuteTime": {
     "end_time": "2023-09-30T08:02:12.329493400Z",
     "start_time": "2023-09-30T08:02:12.313865300Z"
    }
   },
   "id": "1c600f3df2e822d8"
  },
  {
   "cell_type": "code",
   "execution_count": 59,
   "outputs": [
    {
     "data": {
      "text/plain": "Counter({1: 39459})"
     },
     "execution_count": 59,
     "metadata": {},
     "output_type": "execute_result"
    }
   ],
   "source": [
    "Counter(data['label'])"
   ],
   "metadata": {
    "collapsed": false,
    "ExecuteTime": {
     "end_time": "2023-09-30T08:02:22.921249800Z",
     "start_time": "2023-09-30T08:02:22.889994200Z"
    }
   },
   "id": "809a28e0f1820f5d"
  },
  {
   "cell_type": "code",
   "execution_count": 61,
   "outputs": [],
   "source": [
    "data = data.drop_duplicates()"
   ],
   "metadata": {
    "collapsed": false,
    "ExecuteTime": {
     "end_time": "2023-09-30T08:02:31.824917800Z",
     "start_time": "2023-09-30T08:02:31.793663800Z"
    }
   },
   "id": "99e38a903737eef6"
  },
  {
   "cell_type": "code",
   "execution_count": 62,
   "outputs": [
    {
     "data": {
      "text/plain": "          peptide               tcr  label\n12      KLGGALQAK  CASSKGLAGGPYEQYV      1\n36     LPRRSGAAGA      CSVWSGSTEAFF      1\n54      KLGGALQAK   CASSPDWSSHNEQFF      1\n56      KLGGALQAK     CASTLPRDTEAFF      1\n77      KLGGALQAK     CATPNRGFDGYTF      1\n...           ...               ...    ...\n22163   NLVPMVATV    CATSDLSGMDEQFF      1\n22164   NLVPMVATV  CASSLTGAFFNQDQHF      1\n22165   NLVPMVATV    CASSLGTGALEQYF      1\n22166   NLVPMVATV      CAISLGGAPEAF      1\n22167   NLVPMVATV    CAISLHGANTEKLF      1\n\n[39459 rows x 3 columns]",
      "text/html": "<div>\n<style scoped>\n    .dataframe tbody tr th:only-of-type {\n        vertical-align: middle;\n    }\n\n    .dataframe tbody tr th {\n        vertical-align: top;\n    }\n\n    .dataframe thead th {\n        text-align: right;\n    }\n</style>\n<table border=\"1\" class=\"dataframe\">\n  <thead>\n    <tr style=\"text-align: right;\">\n      <th></th>\n      <th>peptide</th>\n      <th>tcr</th>\n      <th>label</th>\n    </tr>\n  </thead>\n  <tbody>\n    <tr>\n      <th>12</th>\n      <td>KLGGALQAK</td>\n      <td>CASSKGLAGGPYEQYV</td>\n      <td>1</td>\n    </tr>\n    <tr>\n      <th>36</th>\n      <td>LPRRSGAAGA</td>\n      <td>CSVWSGSTEAFF</td>\n      <td>1</td>\n    </tr>\n    <tr>\n      <th>54</th>\n      <td>KLGGALQAK</td>\n      <td>CASSPDWSSHNEQFF</td>\n      <td>1</td>\n    </tr>\n    <tr>\n      <th>56</th>\n      <td>KLGGALQAK</td>\n      <td>CASTLPRDTEAFF</td>\n      <td>1</td>\n    </tr>\n    <tr>\n      <th>77</th>\n      <td>KLGGALQAK</td>\n      <td>CATPNRGFDGYTF</td>\n      <td>1</td>\n    </tr>\n    <tr>\n      <th>...</th>\n      <td>...</td>\n      <td>...</td>\n      <td>...</td>\n    </tr>\n    <tr>\n      <th>22163</th>\n      <td>NLVPMVATV</td>\n      <td>CATSDLSGMDEQFF</td>\n      <td>1</td>\n    </tr>\n    <tr>\n      <th>22164</th>\n      <td>NLVPMVATV</td>\n      <td>CASSLTGAFFNQDQHF</td>\n      <td>1</td>\n    </tr>\n    <tr>\n      <th>22165</th>\n      <td>NLVPMVATV</td>\n      <td>CASSLGTGALEQYF</td>\n      <td>1</td>\n    </tr>\n    <tr>\n      <th>22166</th>\n      <td>NLVPMVATV</td>\n      <td>CAISLGGAPEAF</td>\n      <td>1</td>\n    </tr>\n    <tr>\n      <th>22167</th>\n      <td>NLVPMVATV</td>\n      <td>CAISLHGANTEKLF</td>\n      <td>1</td>\n    </tr>\n  </tbody>\n</table>\n<p>39459 rows × 3 columns</p>\n</div>"
     },
     "execution_count": 62,
     "metadata": {},
     "output_type": "execute_result"
    }
   ],
   "source": [
    "data.to_csv(\"\")"
   ],
   "metadata": {
    "collapsed": false,
    "ExecuteTime": {
     "end_time": "2023-09-30T08:02:33.517763300Z",
     "start_time": "2023-09-30T08:02:33.486510900Z"
    }
   },
   "id": "ed109aa3ec93c7f"
  },
  {
   "cell_type": "code",
   "execution_count": null,
   "outputs": [],
   "source": [],
   "metadata": {
    "collapsed": false
   },
   "id": "50566f65e4247c74"
  }
 ],
 "metadata": {
  "kernelspec": {
   "display_name": "Python 3",
   "language": "python",
   "name": "python3"
  },
  "language_info": {
   "codemirror_mode": {
    "name": "ipython",
    "version": 2
   },
   "file_extension": ".py",
   "mimetype": "text/x-python",
   "name": "python",
   "nbconvert_exporter": "python",
   "pygments_lexer": "ipython2",
   "version": "2.7.6"
  }
 },
 "nbformat": 4,
 "nbformat_minor": 5
}
