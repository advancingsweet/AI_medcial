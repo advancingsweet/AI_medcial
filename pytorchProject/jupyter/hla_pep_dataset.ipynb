{
 "cells": [
  {
   "cell_type": "code",
   "execution_count": 2,
   "outputs": [],
   "source": [
    "import pandas as pd"
   ],
   "metadata": {
    "collapsed": false,
    "ExecuteTime": {
     "end_time": "2023-09-30T07:14:03.044590100Z",
     "start_time": "2023-09-30T07:14:02.697728900Z"
    }
   },
   "id": "db956fbb9a831679"
  },
  {
   "cell_type": "code",
   "execution_count": 6,
   "outputs": [],
   "source": [
    "train_data = pd.read_csv(\"D:\\ProjectsSTC\\pytorchProject\\data\\\\train_data_fold0.csv\")"
   ],
   "metadata": {
    "collapsed": false,
    "ExecuteTime": {
     "end_time": "2023-09-30T07:15:07.788850300Z",
     "start_time": "2023-09-30T07:15:07.320681200Z"
    }
   },
   "id": "1437dd4689d9afef"
  },
  {
   "cell_type": "code",
   "execution_count": 10,
   "outputs": [
    {
     "data": {
      "text/plain": "(574658, 6)"
     },
     "execution_count": 10,
     "metadata": {},
     "output_type": "execute_result"
    }
   ],
   "source": [
    "train_data.shape"
   ],
   "metadata": {
    "collapsed": false,
    "ExecuteTime": {
     "end_time": "2023-09-30T07:15:18.077233500Z",
     "start_time": "2023-09-30T07:15:18.045988800Z"
    }
   },
   "id": "3a009ea2f67df909"
  },
  {
   "cell_type": "code",
   "execution_count": 7,
   "outputs": [],
   "source": [
    "val_data = pd.read_csv(\"D:\\ProjectsSTC\\pytorchProject\\data\\\\val_data_fold0.csv\")"
   ],
   "metadata": {
    "collapsed": false,
    "ExecuteTime": {
     "end_time": "2023-09-30T07:15:08.397172200Z",
     "start_time": "2023-09-30T07:15:08.254677700Z"
    }
   },
   "id": "c083062913a9ffd6"
  },
  {
   "cell_type": "code",
   "execution_count": 11,
   "outputs": [
    {
     "data": {
      "text/plain": "(143674, 6)"
     },
     "execution_count": 11,
     "metadata": {},
     "output_type": "execute_result"
    }
   ],
   "source": [
    "val_data.shape"
   ],
   "metadata": {
    "collapsed": false,
    "ExecuteTime": {
     "end_time": "2023-09-30T07:15:23.286457800Z",
     "start_time": "2023-09-30T07:15:23.255190400Z"
    }
   },
   "id": "c1058b69eb653bee"
  },
  {
   "cell_type": "code",
   "execution_count": 12,
   "outputs": [
    {
     "data": {
      "text/plain": "718332"
     },
     "execution_count": 12,
     "metadata": {},
     "output_type": "execute_result"
    }
   ],
   "source": [
    "train_data.shape[0] + val_data.shape[0]"
   ],
   "metadata": {
    "collapsed": false,
    "ExecuteTime": {
     "end_time": "2023-09-30T07:15:43.519762500Z",
     "start_time": "2023-09-30T07:15:43.464875900Z"
    }
   },
   "id": "66c8da0b46bacb13"
  },
  {
   "cell_type": "code",
   "execution_count": 8,
   "outputs": [],
   "source": [
    "data = pd.concat((train_data,val_data),axis=0)"
   ],
   "metadata": {
    "collapsed": false,
    "ExecuteTime": {
     "end_time": "2023-09-30T07:15:09.033863200Z",
     "start_time": "2023-09-30T07:15:08.971344800Z"
    }
   },
   "id": "14cb94d748cfe645"
  },
  {
   "cell_type": "code",
   "execution_count": 13,
   "outputs": [],
   "source": [
    "data = data[['peptide','HLA_sequence','label']]"
   ],
   "metadata": {
    "collapsed": false,
    "ExecuteTime": {
     "end_time": "2023-09-30T07:16:13.035971800Z",
     "start_time": "2023-09-30T07:16:13.004716700Z"
    }
   },
   "id": "da541b99b6073c7d"
  },
  {
   "cell_type": "code",
   "execution_count": 16,
   "outputs": [],
   "source": [
    "data = data.drop_duplicates()"
   ],
   "metadata": {
    "collapsed": false,
    "ExecuteTime": {
     "end_time": "2023-09-30T07:16:27.394935800Z",
     "start_time": "2023-09-30T07:16:27.173037700Z"
    }
   },
   "id": "1b93ddc05e8b1772"
  },
  {
   "cell_type": "code",
   "execution_count": 17,
   "outputs": [
    {
     "data": {
      "text/plain": "           peptide                        HLA_sequence  label\n0        FLTGTFVTA  YSAMYEEKVAHTDENIAYLMFHYYTWAVQAYTGY      0\n1        HRKVMSQNF  YHTEYREICAKTDEDTLYLNYHDYTWAVLAYEWY      1\n2        VMDKYILDN  YYTKYREISTNTYENTAYIRYDDYTWAVLAYLSY      0\n3        MTFDGEVKT  YYAMYREISTNTYESNLYLRYDSYTWAEWAYLWY      0\n4        CLLTPGVQG  YFAMYQENVAQTDVDTLYIIYRDYTWAELAYTWY      0\n...            ...                                 ...    ...\n143669  KLKRNYAKAV  YYAMYQENVAQTDVDTLYIIYRDYTWAAQAYRWY      0\n143670  ETPHLMGWDY  YTAMYLQNVAQTDANTLYIMYRDYTWAVLAYTWY      1\n143671   VGSRSEGEG  YYAGYREKYRQTDVNKLYLRYNFYTWAERAYTWY      0\n143672   LVDQFEWDM  YFAMYGEKVAHTHVDTLYVRYHYYTWAVLAYTWY      0\n143673   YMAWNIPQE  YFAMYGEKVAHTHVDTLYVRYHYYTWAVLAYTWY      0\n\n[716632 rows x 3 columns]",
      "text/html": "<div>\n<style scoped>\n    .dataframe tbody tr th:only-of-type {\n        vertical-align: middle;\n    }\n\n    .dataframe tbody tr th {\n        vertical-align: top;\n    }\n\n    .dataframe thead th {\n        text-align: right;\n    }\n</style>\n<table border=\"1\" class=\"dataframe\">\n  <thead>\n    <tr style=\"text-align: right;\">\n      <th></th>\n      <th>peptide</th>\n      <th>HLA_sequence</th>\n      <th>label</th>\n    </tr>\n  </thead>\n  <tbody>\n    <tr>\n      <th>0</th>\n      <td>FLTGTFVTA</td>\n      <td>YSAMYEEKVAHTDENIAYLMFHYYTWAVQAYTGY</td>\n      <td>0</td>\n    </tr>\n    <tr>\n      <th>1</th>\n      <td>HRKVMSQNF</td>\n      <td>YHTEYREICAKTDEDTLYLNYHDYTWAVLAYEWY</td>\n      <td>1</td>\n    </tr>\n    <tr>\n      <th>2</th>\n      <td>VMDKYILDN</td>\n      <td>YYTKYREISTNTYENTAYIRYDDYTWAVLAYLSY</td>\n      <td>0</td>\n    </tr>\n    <tr>\n      <th>3</th>\n      <td>MTFDGEVKT</td>\n      <td>YYAMYREISTNTYESNLYLRYDSYTWAEWAYLWY</td>\n      <td>0</td>\n    </tr>\n    <tr>\n      <th>4</th>\n      <td>CLLTPGVQG</td>\n      <td>YFAMYQENVAQTDVDTLYIIYRDYTWAELAYTWY</td>\n      <td>0</td>\n    </tr>\n    <tr>\n      <th>...</th>\n      <td>...</td>\n      <td>...</td>\n      <td>...</td>\n    </tr>\n    <tr>\n      <th>143669</th>\n      <td>KLKRNYAKAV</td>\n      <td>YYAMYQENVAQTDVDTLYIIYRDYTWAAQAYRWY</td>\n      <td>0</td>\n    </tr>\n    <tr>\n      <th>143670</th>\n      <td>ETPHLMGWDY</td>\n      <td>YTAMYLQNVAQTDANTLYIMYRDYTWAVLAYTWY</td>\n      <td>1</td>\n    </tr>\n    <tr>\n      <th>143671</th>\n      <td>VGSRSEGEG</td>\n      <td>YYAGYREKYRQTDVNKLYLRYNFYTWAERAYTWY</td>\n      <td>0</td>\n    </tr>\n    <tr>\n      <th>143672</th>\n      <td>LVDQFEWDM</td>\n      <td>YFAMYGEKVAHTHVDTLYVRYHYYTWAVLAYTWY</td>\n      <td>0</td>\n    </tr>\n    <tr>\n      <th>143673</th>\n      <td>YMAWNIPQE</td>\n      <td>YFAMYGEKVAHTHVDTLYVRYHYYTWAVLAYTWY</td>\n      <td>0</td>\n    </tr>\n  </tbody>\n</table>\n<p>716632 rows × 3 columns</p>\n</div>"
     },
     "execution_count": 17,
     "metadata": {},
     "output_type": "execute_result"
    }
   ],
   "source": [
    "data"
   ],
   "metadata": {
    "collapsed": false,
    "ExecuteTime": {
     "end_time": "2023-09-30T07:16:28.661783400Z",
     "start_time": "2023-09-30T07:16:28.646156600Z"
    }
   },
   "id": "19ce50213d7e8207"
  },
  {
   "cell_type": "code",
   "execution_count": 18,
   "outputs": [],
   "source": [
    "column_mapping = {\n",
    "    \"HLA_sequence\": \"hla\",\n",
    "}"
   ],
   "metadata": {
    "collapsed": false,
    "ExecuteTime": {
     "end_time": "2023-09-30T07:17:30.895463300Z",
     "start_time": "2023-09-30T07:17:30.879837Z"
    }
   },
   "id": "f0d79a404d88eeb"
  },
  {
   "cell_type": "code",
   "execution_count": 19,
   "outputs": [],
   "source": [],
   "metadata": {
    "collapsed": false,
    "ExecuteTime": {
     "end_time": "2023-09-30T07:17:43.916479500Z",
     "start_time": "2023-09-30T07:17:43.869600800Z"
    }
   },
   "id": "bb026feb5ea24af0"
  },
  {
   "cell_type": "code",
   "execution_count": 20,
   "outputs": [
    {
     "data": {
      "text/plain": "           peptide                                 hla  label\n0        FLTGTFVTA  YSAMYEEKVAHTDENIAYLMFHYYTWAVQAYTGY      0\n1        HRKVMSQNF  YHTEYREICAKTDEDTLYLNYHDYTWAVLAYEWY      1\n2        VMDKYILDN  YYTKYREISTNTYENTAYIRYDDYTWAVLAYLSY      0\n3        MTFDGEVKT  YYAMYREISTNTYESNLYLRYDSYTWAEWAYLWY      0\n4        CLLTPGVQG  YFAMYQENVAQTDVDTLYIIYRDYTWAELAYTWY      0\n...            ...                                 ...    ...\n143669  KLKRNYAKAV  YYAMYQENVAQTDVDTLYIIYRDYTWAAQAYRWY      0\n143670  ETPHLMGWDY  YTAMYLQNVAQTDANTLYIMYRDYTWAVLAYTWY      1\n143671   VGSRSEGEG  YYAGYREKYRQTDVNKLYLRYNFYTWAERAYTWY      0\n143672   LVDQFEWDM  YFAMYGEKVAHTHVDTLYVRYHYYTWAVLAYTWY      0\n143673   YMAWNIPQE  YFAMYGEKVAHTHVDTLYVRYHYYTWAVLAYTWY      0\n\n[716632 rows x 3 columns]",
      "text/html": "<div>\n<style scoped>\n    .dataframe tbody tr th:only-of-type {\n        vertical-align: middle;\n    }\n\n    .dataframe tbody tr th {\n        vertical-align: top;\n    }\n\n    .dataframe thead th {\n        text-align: right;\n    }\n</style>\n<table border=\"1\" class=\"dataframe\">\n  <thead>\n    <tr style=\"text-align: right;\">\n      <th></th>\n      <th>peptide</th>\n      <th>hla</th>\n      <th>label</th>\n    </tr>\n  </thead>\n  <tbody>\n    <tr>\n      <th>0</th>\n      <td>FLTGTFVTA</td>\n      <td>YSAMYEEKVAHTDENIAYLMFHYYTWAVQAYTGY</td>\n      <td>0</td>\n    </tr>\n    <tr>\n      <th>1</th>\n      <td>HRKVMSQNF</td>\n      <td>YHTEYREICAKTDEDTLYLNYHDYTWAVLAYEWY</td>\n      <td>1</td>\n    </tr>\n    <tr>\n      <th>2</th>\n      <td>VMDKYILDN</td>\n      <td>YYTKYREISTNTYENTAYIRYDDYTWAVLAYLSY</td>\n      <td>0</td>\n    </tr>\n    <tr>\n      <th>3</th>\n      <td>MTFDGEVKT</td>\n      <td>YYAMYREISTNTYESNLYLRYDSYTWAEWAYLWY</td>\n      <td>0</td>\n    </tr>\n    <tr>\n      <th>4</th>\n      <td>CLLTPGVQG</td>\n      <td>YFAMYQENVAQTDVDTLYIIYRDYTWAELAYTWY</td>\n      <td>0</td>\n    </tr>\n    <tr>\n      <th>...</th>\n      <td>...</td>\n      <td>...</td>\n      <td>...</td>\n    </tr>\n    <tr>\n      <th>143669</th>\n      <td>KLKRNYAKAV</td>\n      <td>YYAMYQENVAQTDVDTLYIIYRDYTWAAQAYRWY</td>\n      <td>0</td>\n    </tr>\n    <tr>\n      <th>143670</th>\n      <td>ETPHLMGWDY</td>\n      <td>YTAMYLQNVAQTDANTLYIMYRDYTWAVLAYTWY</td>\n      <td>1</td>\n    </tr>\n    <tr>\n      <th>143671</th>\n      <td>VGSRSEGEG</td>\n      <td>YYAGYREKYRQTDVNKLYLRYNFYTWAERAYTWY</td>\n      <td>0</td>\n    </tr>\n    <tr>\n      <th>143672</th>\n      <td>LVDQFEWDM</td>\n      <td>YFAMYGEKVAHTHVDTLYVRYHYYTWAVLAYTWY</td>\n      <td>0</td>\n    </tr>\n    <tr>\n      <th>143673</th>\n      <td>YMAWNIPQE</td>\n      <td>YFAMYGEKVAHTHVDTLYVRYHYYTWAVLAYTWY</td>\n      <td>0</td>\n    </tr>\n  </tbody>\n</table>\n<p>716632 rows × 3 columns</p>\n</div>"
     },
     "execution_count": 20,
     "metadata": {},
     "output_type": "execute_result"
    }
   ],
   "source": [
    "data"
   ],
   "metadata": {
    "collapsed": false,
    "ExecuteTime": {
     "end_time": "2023-09-30T07:17:45.147908200Z",
     "start_time": "2023-09-30T07:17:45.132279500Z"
    }
   },
   "id": "f559f6123441d4de"
  },
  {
   "cell_type": "code",
   "execution_count": 22,
   "outputs": [],
   "source": [
    "data.to_csv(\"D:\\ProjectsSTC\\pytorchProject\\data\\\\hla_pep_dataset.csv\",index=False)"
   ],
   "metadata": {
    "collapsed": false,
    "ExecuteTime": {
     "end_time": "2023-09-30T07:18:37.281619300Z",
     "start_time": "2023-09-30T07:18:36.263465600Z"
    }
   },
   "id": "9ee16a45e5b3a157"
  },
  {
   "cell_type": "code",
   "execution_count": 23,
   "outputs": [],
   "source": [
    "data = pd.read_csv(\"D:\\ProjectsSTC\\pytorchProject\\data\\\\hla_pep_dataset.csv\")"
   ],
   "metadata": {
    "collapsed": false,
    "ExecuteTime": {
     "end_time": "2023-09-30T07:19:11.325529100Z",
     "start_time": "2023-09-30T07:19:10.858321Z"
    }
   },
   "id": "9ee3ca18f202589a"
  },
  {
   "cell_type": "code",
   "execution_count": 25,
   "outputs": [
    {
     "data": {
      "text/plain": "           peptide                                 hla  label\n0        FLTGTFVTA  YSAMYEEKVAHTDENIAYLMFHYYTWAVQAYTGY      0\n1        HRKVMSQNF  YHTEYREICAKTDEDTLYLNYHDYTWAVLAYEWY      1\n2        VMDKYILDN  YYTKYREISTNTYENTAYIRYDDYTWAVLAYLSY      0\n3        MTFDGEVKT  YYAMYREISTNTYESNLYLRYDSYTWAEWAYLWY      0\n4        CLLTPGVQG  YFAMYQENVAQTDVDTLYIIYRDYTWAELAYTWY      0\n...            ...                                 ...    ...\n716627  KLKRNYAKAV  YYAMYQENVAQTDVDTLYIIYRDYTWAAQAYRWY      0\n716628  ETPHLMGWDY  YTAMYLQNVAQTDANTLYIMYRDYTWAVLAYTWY      1\n716629   VGSRSEGEG  YYAGYREKYRQTDVNKLYLRYNFYTWAERAYTWY      0\n716630   LVDQFEWDM  YFAMYGEKVAHTHVDTLYVRYHYYTWAVLAYTWY      0\n716631   YMAWNIPQE  YFAMYGEKVAHTHVDTLYVRYHYYTWAVLAYTWY      0\n\n[716632 rows x 3 columns]",
      "text/html": "<div>\n<style scoped>\n    .dataframe tbody tr th:only-of-type {\n        vertical-align: middle;\n    }\n\n    .dataframe tbody tr th {\n        vertical-align: top;\n    }\n\n    .dataframe thead th {\n        text-align: right;\n    }\n</style>\n<table border=\"1\" class=\"dataframe\">\n  <thead>\n    <tr style=\"text-align: right;\">\n      <th></th>\n      <th>peptide</th>\n      <th>hla</th>\n      <th>label</th>\n    </tr>\n  </thead>\n  <tbody>\n    <tr>\n      <th>0</th>\n      <td>FLTGTFVTA</td>\n      <td>YSAMYEEKVAHTDENIAYLMFHYYTWAVQAYTGY</td>\n      <td>0</td>\n    </tr>\n    <tr>\n      <th>1</th>\n      <td>HRKVMSQNF</td>\n      <td>YHTEYREICAKTDEDTLYLNYHDYTWAVLAYEWY</td>\n      <td>1</td>\n    </tr>\n    <tr>\n      <th>2</th>\n      <td>VMDKYILDN</td>\n      <td>YYTKYREISTNTYENTAYIRYDDYTWAVLAYLSY</td>\n      <td>0</td>\n    </tr>\n    <tr>\n      <th>3</th>\n      <td>MTFDGEVKT</td>\n      <td>YYAMYREISTNTYESNLYLRYDSYTWAEWAYLWY</td>\n      <td>0</td>\n    </tr>\n    <tr>\n      <th>4</th>\n      <td>CLLTPGVQG</td>\n      <td>YFAMYQENVAQTDVDTLYIIYRDYTWAELAYTWY</td>\n      <td>0</td>\n    </tr>\n    <tr>\n      <th>...</th>\n      <td>...</td>\n      <td>...</td>\n      <td>...</td>\n    </tr>\n    <tr>\n      <th>716627</th>\n      <td>KLKRNYAKAV</td>\n      <td>YYAMYQENVAQTDVDTLYIIYRDYTWAAQAYRWY</td>\n      <td>0</td>\n    </tr>\n    <tr>\n      <th>716628</th>\n      <td>ETPHLMGWDY</td>\n      <td>YTAMYLQNVAQTDANTLYIMYRDYTWAVLAYTWY</td>\n      <td>1</td>\n    </tr>\n    <tr>\n      <th>716629</th>\n      <td>VGSRSEGEG</td>\n      <td>YYAGYREKYRQTDVNKLYLRYNFYTWAERAYTWY</td>\n      <td>0</td>\n    </tr>\n    <tr>\n      <th>716630</th>\n      <td>LVDQFEWDM</td>\n      <td>YFAMYGEKVAHTHVDTLYVRYHYYTWAVLAYTWY</td>\n      <td>0</td>\n    </tr>\n    <tr>\n      <th>716631</th>\n      <td>YMAWNIPQE</td>\n      <td>YFAMYGEKVAHTHVDTLYVRYHYYTWAVLAYTWY</td>\n      <td>0</td>\n    </tr>\n  </tbody>\n</table>\n<p>716632 rows × 3 columns</p>\n</div>"
     },
     "execution_count": 25,
     "metadata": {},
     "output_type": "execute_result"
    }
   ],
   "source": [
    "data.drop_duplicates()"
   ],
   "metadata": {
    "collapsed": false,
    "ExecuteTime": {
     "end_time": "2023-09-30T07:19:21.351993600Z",
     "start_time": "2023-09-30T07:19:21.130992300Z"
    }
   },
   "id": "295f192fcb10b8ae"
  },
  {
   "cell_type": "code",
   "execution_count": 26,
   "outputs": [],
   "source": [
    "from collections import Counter"
   ],
   "metadata": {
    "collapsed": false,
    "ExecuteTime": {
     "end_time": "2023-09-30T07:20:06.647938700Z",
     "start_time": "2023-09-30T07:20:06.632311500Z"
    }
   },
   "id": "42450acd717ecaf8"
  },
  {
   "cell_type": "code",
   "execution_count": 27,
   "outputs": [
    {
     "data": {
      "text/plain": "Counter({0: 359160, 1: 357472})"
     },
     "execution_count": 27,
     "metadata": {},
     "output_type": "execute_result"
    }
   ],
   "source": [
    "Counter(data['label'])"
   ],
   "metadata": {
    "collapsed": false,
    "ExecuteTime": {
     "end_time": "2023-09-30T07:20:15.126872Z",
     "start_time": "2023-09-30T07:20:15.021218Z"
    }
   },
   "id": "ee64561b29a0d8a8"
  },
  {
   "cell_type": "code",
   "execution_count": null,
   "outputs": [],
   "source": [],
   "metadata": {
    "collapsed": false
   },
   "id": "8925664445238702"
  }
 ],
 "metadata": {
  "kernelspec": {
   "display_name": "Python 3",
   "language": "python",
   "name": "python3"
  },
  "language_info": {
   "codemirror_mode": {
    "name": "ipython",
    "version": 2
   },
   "file_extension": ".py",
   "mimetype": "text/x-python",
   "name": "python",
   "nbconvert_exporter": "python",
   "pygments_lexer": "ipython2",
   "version": "2.7.6"
  }
 },
 "nbformat": 4,
 "nbformat_minor": 5
}
