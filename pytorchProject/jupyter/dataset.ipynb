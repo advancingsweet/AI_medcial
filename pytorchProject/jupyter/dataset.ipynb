{
 "cells": [
  {
   "cell_type": "code",
   "execution_count": 3,
   "id": "initial_id",
   "metadata": {
    "collapsed": true,
    "ExecuteTime": {
     "end_time": "2023-09-30T03:04:37.398804800Z",
     "start_time": "2023-09-30T03:04:36.436389100Z"
    }
   },
   "outputs": [],
   "source": [
    "import pandas as pd\n",
    "data = pd.read_csv(\"D:\\ProjectsSTC\\pytorchProject\\data\\pep_tcr_set.csv\")"
   ]
  },
  {
   "cell_type": "code",
   "execution_count": null,
   "outputs": [],
   "source": [
    "data.shape[0]"
   ],
   "metadata": {
    "collapsed": false
   },
   "id": "e3d044d5f101d68c"
  },
  {
   "cell_type": "code",
   "execution_count": 2,
   "outputs": [
    {
     "data": {
      "text/plain": "     peptide              tcr  label\n0  ATDALMTGY   CAISESQGNTEAFF      1\n1  ATDALMTGY   CAISEDRALVSYTF      1\n2  ATDALMTGY   CAISEDRALNEQFF      1\n3  ATDALMTGY   CAVQPGQGMQPQHF      1\n4  ATDALMTGY  CAISEGAMGNQPQHF      1\n5  ATDALMTGY  CAISDQTSGNQPQHF      1\n6  ATDALMTGY  CAISDAGAGNQPQHF      1\n7  ATDALMTGY  CAISEGTGGHQPQHF      1\n8  ATDALMTGY  CAISESSAGNQPQHF      1\n9  ATDALMTGY  CAISESSIGNQPQHF      1",
      "text/html": "<div>\n<style scoped>\n    .dataframe tbody tr th:only-of-type {\n        vertical-align: middle;\n    }\n\n    .dataframe tbody tr th {\n        vertical-align: top;\n    }\n\n    .dataframe thead th {\n        text-align: right;\n    }\n</style>\n<table border=\"1\" class=\"dataframe\">\n  <thead>\n    <tr style=\"text-align: right;\">\n      <th></th>\n      <th>peptide</th>\n      <th>tcr</th>\n      <th>label</th>\n    </tr>\n  </thead>\n  <tbody>\n    <tr>\n      <th>0</th>\n      <td>ATDALMTGY</td>\n      <td>CAISESQGNTEAFF</td>\n      <td>1</td>\n    </tr>\n    <tr>\n      <th>1</th>\n      <td>ATDALMTGY</td>\n      <td>CAISEDRALVSYTF</td>\n      <td>1</td>\n    </tr>\n    <tr>\n      <th>2</th>\n      <td>ATDALMTGY</td>\n      <td>CAISEDRALNEQFF</td>\n      <td>1</td>\n    </tr>\n    <tr>\n      <th>3</th>\n      <td>ATDALMTGY</td>\n      <td>CAVQPGQGMQPQHF</td>\n      <td>1</td>\n    </tr>\n    <tr>\n      <th>4</th>\n      <td>ATDALMTGY</td>\n      <td>CAISEGAMGNQPQHF</td>\n      <td>1</td>\n    </tr>\n    <tr>\n      <th>5</th>\n      <td>ATDALMTGY</td>\n      <td>CAISDQTSGNQPQHF</td>\n      <td>1</td>\n    </tr>\n    <tr>\n      <th>6</th>\n      <td>ATDALMTGY</td>\n      <td>CAISDAGAGNQPQHF</td>\n      <td>1</td>\n    </tr>\n    <tr>\n      <th>7</th>\n      <td>ATDALMTGY</td>\n      <td>CAISEGTGGHQPQHF</td>\n      <td>1</td>\n    </tr>\n    <tr>\n      <th>8</th>\n      <td>ATDALMTGY</td>\n      <td>CAISESSAGNQPQHF</td>\n      <td>1</td>\n    </tr>\n    <tr>\n      <th>9</th>\n      <td>ATDALMTGY</td>\n      <td>CAISESSIGNQPQHF</td>\n      <td>1</td>\n    </tr>\n  </tbody>\n</table>\n</div>"
     },
     "execution_count": 2,
     "metadata": {},
     "output_type": "execute_result"
    }
   ],
   "source": [
    "data[:10]"
   ],
   "metadata": {
    "collapsed": false,
    "ExecuteTime": {
     "end_time": "2023-09-29T09:43:56.433641Z",
     "start_time": "2023-09-29T09:43:56.409912Z"
    }
   },
   "id": "303e2211a1668a6d"
  },
  {
   "cell_type": "code",
   "execution_count": 5,
   "outputs": [],
   "source": [
    "data[:10]=data[:10].sample(frac=1,random_state=10)"
   ],
   "metadata": {
    "collapsed": false,
    "ExecuteTime": {
     "end_time": "2023-09-29T09:44:27.720138300Z",
     "start_time": "2023-09-29T09:44:27.691622400Z"
    }
   },
   "id": "e29dfc134d834f1e"
  },
  {
   "cell_type": "code",
   "execution_count": 6,
   "outputs": [
    {
     "data": {
      "text/plain": "     peptide              tcr  label\n0  ATDALMTGY  CAISESSAGNQPQHF      1\n1  ATDALMTGY   CAISEDRALNEQFF      1\n2  ATDALMTGY  CAISDQTSGNQPQHF      1\n3  ATDALMTGY  CAISDAGAGNQPQHF      1\n4  ATDALMTGY   CAVQPGQGMQPQHF      1\n5  ATDALMTGY   CAISEDRALVSYTF      1\n6  ATDALMTGY   CAISESQGNTEAFF      1\n7  ATDALMTGY  CAISEGTGGHQPQHF      1\n8  ATDALMTGY  CAISEGAMGNQPQHF      1\n9  ATDALMTGY  CAISESSIGNQPQHF      1",
      "text/html": "<div>\n<style scoped>\n    .dataframe tbody tr th:only-of-type {\n        vertical-align: middle;\n    }\n\n    .dataframe tbody tr th {\n        vertical-align: top;\n    }\n\n    .dataframe thead th {\n        text-align: right;\n    }\n</style>\n<table border=\"1\" class=\"dataframe\">\n  <thead>\n    <tr style=\"text-align: right;\">\n      <th></th>\n      <th>peptide</th>\n      <th>tcr</th>\n      <th>label</th>\n    </tr>\n  </thead>\n  <tbody>\n    <tr>\n      <th>0</th>\n      <td>ATDALMTGY</td>\n      <td>CAISESSAGNQPQHF</td>\n      <td>1</td>\n    </tr>\n    <tr>\n      <th>1</th>\n      <td>ATDALMTGY</td>\n      <td>CAISEDRALNEQFF</td>\n      <td>1</td>\n    </tr>\n    <tr>\n      <th>2</th>\n      <td>ATDALMTGY</td>\n      <td>CAISDQTSGNQPQHF</td>\n      <td>1</td>\n    </tr>\n    <tr>\n      <th>3</th>\n      <td>ATDALMTGY</td>\n      <td>CAISDAGAGNQPQHF</td>\n      <td>1</td>\n    </tr>\n    <tr>\n      <th>4</th>\n      <td>ATDALMTGY</td>\n      <td>CAVQPGQGMQPQHF</td>\n      <td>1</td>\n    </tr>\n    <tr>\n      <th>5</th>\n      <td>ATDALMTGY</td>\n      <td>CAISEDRALVSYTF</td>\n      <td>1</td>\n    </tr>\n    <tr>\n      <th>6</th>\n      <td>ATDALMTGY</td>\n      <td>CAISESQGNTEAFF</td>\n      <td>1</td>\n    </tr>\n    <tr>\n      <th>7</th>\n      <td>ATDALMTGY</td>\n      <td>CAISEGTGGHQPQHF</td>\n      <td>1</td>\n    </tr>\n    <tr>\n      <th>8</th>\n      <td>ATDALMTGY</td>\n      <td>CAISEGAMGNQPQHF</td>\n      <td>1</td>\n    </tr>\n    <tr>\n      <th>9</th>\n      <td>ATDALMTGY</td>\n      <td>CAISESSIGNQPQHF</td>\n      <td>1</td>\n    </tr>\n  </tbody>\n</table>\n</div>"
     },
     "execution_count": 6,
     "metadata": {},
     "output_type": "execute_result"
    }
   ],
   "source": [
    "data[:10]"
   ],
   "metadata": {
    "collapsed": false,
    "ExecuteTime": {
     "end_time": "2023-09-29T09:44:28.671850600Z",
     "start_time": "2023-09-29T09:44:28.635799200Z"
    }
   },
   "id": "67f8d0847ca5a999"
  },
  {
   "cell_type": "code",
   "execution_count": null,
   "outputs": [],
   "source": [
    "mydict = {}\n",
    "for i in \"ABCDEFGHIJKLMNOPQRSTUVWXYZ\":\n",
    "    mydict[i] = 0\n",
    "for index,value in data['peptide'].items():\n",
    "    for i in value:\n",
    "        mydict[i] += 1\n",
    "# 20"
   ],
   "metadata": {
    "collapsed": false
   },
   "id": "e6b85c4c92d622bb"
  },
  {
   "cell_type": "code",
   "execution_count": null,
   "outputs": [],
   "source": [
    "from myconfig.Config import vocab_config\n",
    "vocab = vocab_config()"
   ],
   "metadata": {
    "collapsed": false
   },
   "id": "e859ff8b2533b90c"
  },
  {
   "cell_type": "code",
   "execution_count": null,
   "outputs": [],
   "source": [
    "vocab"
   ],
   "metadata": {
    "collapsed": false
   },
   "id": "6988a8a9eb669834"
  },
  {
   "cell_type": "code",
   "execution_count": null,
   "outputs": [],
   "source": [
    "num =0\n",
    "for key1 in mydict.keys():\n",
    "    if mydict[key1]!=0:\n",
    "        for key2 in vocab.keys():\n",
    "            if key1 ==key2:\n",
    "                num += 1\n",
    "# 20"
   ],
   "metadata": {
    "collapsed": false
   },
   "id": "5af7b627469d272"
  },
  {
   "cell_type": "code",
   "execution_count": null,
   "outputs": [],
   "source": [
    "mydict = {}\n",
    "for i in \"ABCDEFGHIJKLMNOPQRSTUVWXYZ\":\n",
    "    mydict[i] = 0\n",
    "for index,value in data['tcr'].items():\n",
    "    for i in value:\n",
    "        mydict[i] += 1\n",
    "# 22"
   ],
   "metadata": {
    "collapsed": false
   },
   "id": "c0198e7540d4c312"
  },
  {
   "cell_type": "code",
   "execution_count": null,
   "outputs": [],
   "source": [
    "num =0\n",
    "for key1 in mydict.keys():\n",
    "    if mydict[key1]!=0:\n",
    "        for key2 in vocab.keys():\n",
    "            if key1 ==key2:\n",
    "                num += 1\n",
    "# 22"
   ],
   "metadata": {
    "collapsed": false
   },
   "id": "2c648623d1a13cdb"
  },
  {
   "cell_type": "code",
   "execution_count": 28,
   "outputs": [
    {
     "name": "stdout",
     "output_type": "stream",
     "text": [
      "20\n"
     ]
    }
   ],
   "source": [
    "num = 0\n",
    "for index,value in data['peptide'].items():\n",
    "    if len(value) > num:\n",
    "        num = len(value)\n",
    "print(num)"
   ],
   "metadata": {
    "collapsed": false,
    "ExecuteTime": {
     "end_time": "2023-09-30T02:50:15.713231500Z",
     "start_time": "2023-09-30T02:50:15.414527Z"
    }
   },
   "id": "a176fef64fc495f"
  },
  {
   "cell_type": "code",
   "execution_count": null,
   "outputs": [],
   "source": [
    "15+24"
   ],
   "metadata": {
    "collapsed": false
   },
   "id": "6e4af0d050b564b8"
  },
  {
   "cell_type": "code",
   "execution_count": null,
   "outputs": [],
   "source": [
    "data = pd.read_csv(\"D:\\ProjectsSTC\\pytorchProject\\data\\hla_pep_set.csv\")"
   ],
   "metadata": {
    "collapsed": false
   },
   "id": "6268d5eeacd38e37"
  },
  {
   "cell_type": "code",
   "execution_count": null,
   "outputs": [],
   "source": [
    "num = 0\n",
    "for index,value in data['hla'].items():\n",
    "    if len(value) > num:\n",
    "        num = len(value)\n",
    "print(num)"
   ],
   "metadata": {
    "collapsed": false
   },
   "id": "697f671c16dcf4f"
  },
  {
   "cell_type": "code",
   "execution_count": 1,
   "outputs": [],
   "source": [
    "import pandas as pd"
   ],
   "metadata": {
    "collapsed": false,
    "ExecuteTime": {
     "end_time": "2023-09-30T02:33:45.634034500Z",
     "start_time": "2023-09-30T02:33:45.009263700Z"
    }
   },
   "id": "51e2cee8b8aa7582"
  },
  {
   "cell_type": "code",
   "execution_count": 7,
   "outputs": [],
   "source": [
    "data = pd.read_csv(\"D:/ProjectsSTC/pytorchProject/data/trainset_all.csv\")"
   ],
   "metadata": {
    "collapsed": false,
    "ExecuteTime": {
     "end_time": "2023-09-30T02:37:08.211726500Z",
     "start_time": "2023-09-30T02:37:07.099784800Z"
    }
   },
   "id": "559ade85226c062f"
  },
  {
   "cell_type": "code",
   "execution_count": 8,
   "outputs": [],
   "source": [
    "data[['CDR3','Antigen','label_cdr']].to_csv(\"new.csv\",index=False)"
   ],
   "metadata": {
    "collapsed": false,
    "ExecuteTime": {
     "end_time": "2023-09-30T02:37:10.176035900Z",
     "start_time": "2023-09-30T02:37:08.741734Z"
    }
   },
   "id": "3d2232dc73ad0a97"
  },
  {
   "cell_type": "code",
   "execution_count": 9,
   "outputs": [],
   "source": [
    "data = pd.read_csv(\"D:/ProjectsSTC/pytorchProject/data/new.csv\")"
   ],
   "metadata": {
    "collapsed": false,
    "ExecuteTime": {
     "end_time": "2023-09-30T02:37:30.733464200Z",
     "start_time": "2023-09-30T02:37:30.054547200Z"
    }
   },
   "id": "ded2158e5d1d2549"
  },
  {
   "cell_type": "code",
   "execution_count": 10,
   "outputs": [
    {
     "data": {
      "text/plain": "                    CDR3     Antigen  label_cdr\n0           CASSQVGHEQFF   ELLTTELIY          0\n1        CASSLTGTGQETQYF   PILLHQVEA          0\n2           CASSATYEQYF;   FSSPHGKDL          0\n3          CASSPYRTYGYTF   LSVKRLWQY          0\n4       CASSNSGGAGTGELFF  IVFHNEAWST          0\n...                  ...         ...        ...\n636471    CASSARGGTDTQYF   AADKGHYKF          0\n636472    CASSSTDEATEAFF   RWLWGFLSR          0\n636473  CASSAGGLAGPGELFF  GRIKAIQLEY          0\n636474    CASSQLPLDTELFF  YRLTQGVVKR          0\n636475  CASSTYHRTHYNEQFF  FRISGAPEKY          0\n\n[636476 rows x 3 columns]",
      "text/html": "<div>\n<style scoped>\n    .dataframe tbody tr th:only-of-type {\n        vertical-align: middle;\n    }\n\n    .dataframe tbody tr th {\n        vertical-align: top;\n    }\n\n    .dataframe thead th {\n        text-align: right;\n    }\n</style>\n<table border=\"1\" class=\"dataframe\">\n  <thead>\n    <tr style=\"text-align: right;\">\n      <th></th>\n      <th>CDR3</th>\n      <th>Antigen</th>\n      <th>label_cdr</th>\n    </tr>\n  </thead>\n  <tbody>\n    <tr>\n      <th>0</th>\n      <td>CASSQVGHEQFF</td>\n      <td>ELLTTELIY</td>\n      <td>0</td>\n    </tr>\n    <tr>\n      <th>1</th>\n      <td>CASSLTGTGQETQYF</td>\n      <td>PILLHQVEA</td>\n      <td>0</td>\n    </tr>\n    <tr>\n      <th>2</th>\n      <td>CASSATYEQYF;</td>\n      <td>FSSPHGKDL</td>\n      <td>0</td>\n    </tr>\n    <tr>\n      <th>3</th>\n      <td>CASSPYRTYGYTF</td>\n      <td>LSVKRLWQY</td>\n      <td>0</td>\n    </tr>\n    <tr>\n      <th>4</th>\n      <td>CASSNSGGAGTGELFF</td>\n      <td>IVFHNEAWST</td>\n      <td>0</td>\n    </tr>\n    <tr>\n      <th>...</th>\n      <td>...</td>\n      <td>...</td>\n      <td>...</td>\n    </tr>\n    <tr>\n      <th>636471</th>\n      <td>CASSARGGTDTQYF</td>\n      <td>AADKGHYKF</td>\n      <td>0</td>\n    </tr>\n    <tr>\n      <th>636472</th>\n      <td>CASSSTDEATEAFF</td>\n      <td>RWLWGFLSR</td>\n      <td>0</td>\n    </tr>\n    <tr>\n      <th>636473</th>\n      <td>CASSAGGLAGPGELFF</td>\n      <td>GRIKAIQLEY</td>\n      <td>0</td>\n    </tr>\n    <tr>\n      <th>636474</th>\n      <td>CASSQLPLDTELFF</td>\n      <td>YRLTQGVVKR</td>\n      <td>0</td>\n    </tr>\n    <tr>\n      <th>636475</th>\n      <td>CASSTYHRTHYNEQFF</td>\n      <td>FRISGAPEKY</td>\n      <td>0</td>\n    </tr>\n  </tbody>\n</table>\n<p>636476 rows × 3 columns</p>\n</div>"
     },
     "execution_count": 10,
     "metadata": {},
     "output_type": "execute_result"
    }
   ],
   "source": [
    "data"
   ],
   "metadata": {
    "collapsed": false,
    "ExecuteTime": {
     "end_time": "2023-09-30T02:37:31.287543500Z",
     "start_time": "2023-09-30T02:37:31.240389Z"
    }
   },
   "id": "d2cecbbdc246634f"
  },
  {
   "cell_type": "code",
   "execution_count": 12,
   "outputs": [],
   "source": [
    "column_mapping = {\n",
    "    \"CDR3\": \"tcr\",\n",
    "    \"Antigen\": \"peptide\",\n",
    "    \"label_cdr\":\"label\"\n",
    "}"
   ],
   "metadata": {
    "collapsed": false,
    "ExecuteTime": {
     "end_time": "2023-09-30T02:38:54.913401700Z",
     "start_time": "2023-09-30T02:38:54.866500400Z"
    }
   },
   "id": "292fe99605f6d785"
  },
  {
   "cell_type": "code",
   "execution_count": 13,
   "outputs": [],
   "source": [
    "data = data.rename(columns=column_mapping)"
   ],
   "metadata": {
    "collapsed": false,
    "ExecuteTime": {
     "end_time": "2023-09-30T02:39:10.721951500Z",
     "start_time": "2023-09-30T02:39:10.659424900Z"
    }
   },
   "id": "dd61b203f9dab4f"
  },
  {
   "cell_type": "code",
   "execution_count": 14,
   "outputs": [
    {
     "data": {
      "text/plain": "                     tcr     peptide  label\n0           CASSQVGHEQFF   ELLTTELIY      0\n1        CASSLTGTGQETQYF   PILLHQVEA      0\n2           CASSATYEQYF;   FSSPHGKDL      0\n3          CASSPYRTYGYTF   LSVKRLWQY      0\n4       CASSNSGGAGTGELFF  IVFHNEAWST      0\n...                  ...         ...    ...\n636471    CASSARGGTDTQYF   AADKGHYKF      0\n636472    CASSSTDEATEAFF   RWLWGFLSR      0\n636473  CASSAGGLAGPGELFF  GRIKAIQLEY      0\n636474    CASSQLPLDTELFF  YRLTQGVVKR      0\n636475  CASSTYHRTHYNEQFF  FRISGAPEKY      0\n\n[636476 rows x 3 columns]",
      "text/html": "<div>\n<style scoped>\n    .dataframe tbody tr th:only-of-type {\n        vertical-align: middle;\n    }\n\n    .dataframe tbody tr th {\n        vertical-align: top;\n    }\n\n    .dataframe thead th {\n        text-align: right;\n    }\n</style>\n<table border=\"1\" class=\"dataframe\">\n  <thead>\n    <tr style=\"text-align: right;\">\n      <th></th>\n      <th>tcr</th>\n      <th>peptide</th>\n      <th>label</th>\n    </tr>\n  </thead>\n  <tbody>\n    <tr>\n      <th>0</th>\n      <td>CASSQVGHEQFF</td>\n      <td>ELLTTELIY</td>\n      <td>0</td>\n    </tr>\n    <tr>\n      <th>1</th>\n      <td>CASSLTGTGQETQYF</td>\n      <td>PILLHQVEA</td>\n      <td>0</td>\n    </tr>\n    <tr>\n      <th>2</th>\n      <td>CASSATYEQYF;</td>\n      <td>FSSPHGKDL</td>\n      <td>0</td>\n    </tr>\n    <tr>\n      <th>3</th>\n      <td>CASSPYRTYGYTF</td>\n      <td>LSVKRLWQY</td>\n      <td>0</td>\n    </tr>\n    <tr>\n      <th>4</th>\n      <td>CASSNSGGAGTGELFF</td>\n      <td>IVFHNEAWST</td>\n      <td>0</td>\n    </tr>\n    <tr>\n      <th>...</th>\n      <td>...</td>\n      <td>...</td>\n      <td>...</td>\n    </tr>\n    <tr>\n      <th>636471</th>\n      <td>CASSARGGTDTQYF</td>\n      <td>AADKGHYKF</td>\n      <td>0</td>\n    </tr>\n    <tr>\n      <th>636472</th>\n      <td>CASSSTDEATEAFF</td>\n      <td>RWLWGFLSR</td>\n      <td>0</td>\n    </tr>\n    <tr>\n      <th>636473</th>\n      <td>CASSAGGLAGPGELFF</td>\n      <td>GRIKAIQLEY</td>\n      <td>0</td>\n    </tr>\n    <tr>\n      <th>636474</th>\n      <td>CASSQLPLDTELFF</td>\n      <td>YRLTQGVVKR</td>\n      <td>0</td>\n    </tr>\n    <tr>\n      <th>636475</th>\n      <td>CASSTYHRTHYNEQFF</td>\n      <td>FRISGAPEKY</td>\n      <td>0</td>\n    </tr>\n  </tbody>\n</table>\n<p>636476 rows × 3 columns</p>\n</div>"
     },
     "execution_count": 14,
     "metadata": {},
     "output_type": "execute_result"
    }
   ],
   "source": [
    "data"
   ],
   "metadata": {
    "collapsed": false,
    "ExecuteTime": {
     "end_time": "2023-09-30T02:39:12.385812900Z",
     "start_time": "2023-09-30T02:39:12.307661700Z"
    }
   },
   "id": "81d4cfb54a2b2561"
  },
  {
   "cell_type": "code",
   "execution_count": 15,
   "outputs": [],
   "source": [
    "data.to_csv(\"new.csv\",index=False)"
   ],
   "metadata": {
    "collapsed": false,
    "ExecuteTime": {
     "end_time": "2023-09-30T02:39:37.998749300Z",
     "start_time": "2023-09-30T02:39:36.422997900Z"
    }
   },
   "id": "31a1208589c70d3a"
  },
  {
   "cell_type": "code",
   "execution_count": 4,
   "outputs": [],
   "source": [
    "data = pd.read_csv(\"D:/ProjectsSTC/pytorchProject/data/new.csv\")"
   ],
   "metadata": {
    "collapsed": false,
    "ExecuteTime": {
     "end_time": "2023-09-30T03:04:43.180291100Z",
     "start_time": "2023-09-30T03:04:42.127496Z"
    }
   },
   "id": "ad05caa7edfc6660"
  },
  {
   "cell_type": "code",
   "execution_count": 5,
   "outputs": [
    {
     "data": {
      "text/plain": "                     tcr     peptide  label\n0           CASSQVGHEQFF   ELLTTELIY      0\n1        CASSLTGTGQETQYF   PILLHQVEA      0\n2            CASSATYEQYF   FSSPHGKDL      0\n3          CASSPYRTYGYTF   LSVKRLWQY      0\n4       CASSNSGGAGTGELFF  IVFHNEAWST      0\n...                  ...         ...    ...\n636393    CASSARGGTDTQYF   AADKGHYKF      0\n636394    CASSSTDEATEAFF   RWLWGFLSR      0\n636395  CASSAGGLAGPGELFF  GRIKAIQLEY      0\n636396    CASSQLPLDTELFF  YRLTQGVVKR      0\n636397  CASSTYHRTHYNEQFF  FRISGAPEKY      0\n\n[636398 rows x 3 columns]",
      "text/html": "<div>\n<style scoped>\n    .dataframe tbody tr th:only-of-type {\n        vertical-align: middle;\n    }\n\n    .dataframe tbody tr th {\n        vertical-align: top;\n    }\n\n    .dataframe thead th {\n        text-align: right;\n    }\n</style>\n<table border=\"1\" class=\"dataframe\">\n  <thead>\n    <tr style=\"text-align: right;\">\n      <th></th>\n      <th>tcr</th>\n      <th>peptide</th>\n      <th>label</th>\n    </tr>\n  </thead>\n  <tbody>\n    <tr>\n      <th>0</th>\n      <td>CASSQVGHEQFF</td>\n      <td>ELLTTELIY</td>\n      <td>0</td>\n    </tr>\n    <tr>\n      <th>1</th>\n      <td>CASSLTGTGQETQYF</td>\n      <td>PILLHQVEA</td>\n      <td>0</td>\n    </tr>\n    <tr>\n      <th>2</th>\n      <td>CASSATYEQYF</td>\n      <td>FSSPHGKDL</td>\n      <td>0</td>\n    </tr>\n    <tr>\n      <th>3</th>\n      <td>CASSPYRTYGYTF</td>\n      <td>LSVKRLWQY</td>\n      <td>0</td>\n    </tr>\n    <tr>\n      <th>4</th>\n      <td>CASSNSGGAGTGELFF</td>\n      <td>IVFHNEAWST</td>\n      <td>0</td>\n    </tr>\n    <tr>\n      <th>...</th>\n      <td>...</td>\n      <td>...</td>\n      <td>...</td>\n    </tr>\n    <tr>\n      <th>636393</th>\n      <td>CASSARGGTDTQYF</td>\n      <td>AADKGHYKF</td>\n      <td>0</td>\n    </tr>\n    <tr>\n      <th>636394</th>\n      <td>CASSSTDEATEAFF</td>\n      <td>RWLWGFLSR</td>\n      <td>0</td>\n    </tr>\n    <tr>\n      <th>636395</th>\n      <td>CASSAGGLAGPGELFF</td>\n      <td>GRIKAIQLEY</td>\n      <td>0</td>\n    </tr>\n    <tr>\n      <th>636396</th>\n      <td>CASSQLPLDTELFF</td>\n      <td>YRLTQGVVKR</td>\n      <td>0</td>\n    </tr>\n    <tr>\n      <th>636397</th>\n      <td>CASSTYHRTHYNEQFF</td>\n      <td>FRISGAPEKY</td>\n      <td>0</td>\n    </tr>\n  </tbody>\n</table>\n<p>636398 rows × 3 columns</p>\n</div>"
     },
     "execution_count": 5,
     "metadata": {},
     "output_type": "execute_result"
    }
   ],
   "source": [
    "data"
   ],
   "metadata": {
    "collapsed": false,
    "ExecuteTime": {
     "end_time": "2023-09-30T03:04:45.421011300Z",
     "start_time": "2023-09-30T03:04:45.327246900Z"
    }
   },
   "id": "6923df2e1bff3f3b"
  },
  {
   "cell_type": "code",
   "execution_count": 21,
   "outputs": [],
   "source": [
    "for index,value in data['tcr'].items():\n",
    "    if ';' in value:\n",
    "        print(\"yes\")"
   ],
   "metadata": {
    "collapsed": false,
    "ExecuteTime": {
     "end_time": "2023-09-30T02:46:49.735620700Z",
     "start_time": "2023-09-30T02:46:49.382364800Z"
    }
   },
   "id": "11d9aa32342e518"
  },
  {
   "cell_type": "code",
   "execution_count": 22,
   "outputs": [],
   "source": [
    "data.to_csv(\"new.csv\",index=False)"
   ],
   "metadata": {
    "collapsed": false,
    "ExecuteTime": {
     "end_time": "2023-09-30T02:47:03.841272300Z",
     "start_time": "2023-09-30T02:47:02.276422600Z"
    }
   },
   "id": "e88e55c20aa00a39"
  },
  {
   "cell_type": "code",
   "execution_count": 24,
   "outputs": [],
   "source": [
    "data=data.dropna()"
   ],
   "metadata": {
    "collapsed": false,
    "ExecuteTime": {
     "end_time": "2023-09-30T02:48:25.354698Z",
     "start_time": "2023-09-30T02:48:25.191499500Z"
    }
   },
   "id": "33367399606f5924"
  },
  {
   "cell_type": "code",
   "execution_count": 25,
   "outputs": [
    {
     "data": {
      "text/plain": "                     tcr     peptide  label\n0           CASSQVGHEQFF   ELLTTELIY      0\n1        CASSLTGTGQETQYF   PILLHQVEA      0\n2            CASSATYEQYF   FSSPHGKDL      0\n3          CASSPYRTYGYTF   LSVKRLWQY      0\n4       CASSNSGGAGTGELFF  IVFHNEAWST      0\n...                  ...         ...    ...\n636471    CASSARGGTDTQYF   AADKGHYKF      0\n636472    CASSSTDEATEAFF   RWLWGFLSR      0\n636473  CASSAGGLAGPGELFF  GRIKAIQLEY      0\n636474    CASSQLPLDTELFF  YRLTQGVVKR      0\n636475  CASSTYHRTHYNEQFF  FRISGAPEKY      0\n\n[636398 rows x 3 columns]",
      "text/html": "<div>\n<style scoped>\n    .dataframe tbody tr th:only-of-type {\n        vertical-align: middle;\n    }\n\n    .dataframe tbody tr th {\n        vertical-align: top;\n    }\n\n    .dataframe thead th {\n        text-align: right;\n    }\n</style>\n<table border=\"1\" class=\"dataframe\">\n  <thead>\n    <tr style=\"text-align: right;\">\n      <th></th>\n      <th>tcr</th>\n      <th>peptide</th>\n      <th>label</th>\n    </tr>\n  </thead>\n  <tbody>\n    <tr>\n      <th>0</th>\n      <td>CASSQVGHEQFF</td>\n      <td>ELLTTELIY</td>\n      <td>0</td>\n    </tr>\n    <tr>\n      <th>1</th>\n      <td>CASSLTGTGQETQYF</td>\n      <td>PILLHQVEA</td>\n      <td>0</td>\n    </tr>\n    <tr>\n      <th>2</th>\n      <td>CASSATYEQYF</td>\n      <td>FSSPHGKDL</td>\n      <td>0</td>\n    </tr>\n    <tr>\n      <th>3</th>\n      <td>CASSPYRTYGYTF</td>\n      <td>LSVKRLWQY</td>\n      <td>0</td>\n    </tr>\n    <tr>\n      <th>4</th>\n      <td>CASSNSGGAGTGELFF</td>\n      <td>IVFHNEAWST</td>\n      <td>0</td>\n    </tr>\n    <tr>\n      <th>...</th>\n      <td>...</td>\n      <td>...</td>\n      <td>...</td>\n    </tr>\n    <tr>\n      <th>636471</th>\n      <td>CASSARGGTDTQYF</td>\n      <td>AADKGHYKF</td>\n      <td>0</td>\n    </tr>\n    <tr>\n      <th>636472</th>\n      <td>CASSSTDEATEAFF</td>\n      <td>RWLWGFLSR</td>\n      <td>0</td>\n    </tr>\n    <tr>\n      <th>636473</th>\n      <td>CASSAGGLAGPGELFF</td>\n      <td>GRIKAIQLEY</td>\n      <td>0</td>\n    </tr>\n    <tr>\n      <th>636474</th>\n      <td>CASSQLPLDTELFF</td>\n      <td>YRLTQGVVKR</td>\n      <td>0</td>\n    </tr>\n    <tr>\n      <th>636475</th>\n      <td>CASSTYHRTHYNEQFF</td>\n      <td>FRISGAPEKY</td>\n      <td>0</td>\n    </tr>\n  </tbody>\n</table>\n<p>636398 rows × 3 columns</p>\n</div>"
     },
     "execution_count": 25,
     "metadata": {},
     "output_type": "execute_result"
    }
   ],
   "source": [
    "data"
   ],
   "metadata": {
    "collapsed": false,
    "ExecuteTime": {
     "end_time": "2023-09-30T02:48:27.274674900Z",
     "start_time": "2023-09-30T02:48:27.227795800Z"
    }
   },
   "id": "f70f552f2e2dc12d"
  },
  {
   "cell_type": "code",
   "execution_count": 26,
   "outputs": [],
   "source": [
    "data.to_csv(\"new.csv\",index=False)"
   ],
   "metadata": {
    "collapsed": false,
    "ExecuteTime": {
     "end_time": "2023-09-30T02:48:39.952552300Z",
     "start_time": "2023-09-30T02:48:38.372482600Z"
    }
   },
   "id": "5b18a0f21ccd920"
  },
  {
   "cell_type": "code",
   "execution_count": 32,
   "outputs": [],
   "source": [
    "data = pd.read_csv(\"D:\\ProjectsSTC\\pytorchProject\\data\\\\new.csv\")"
   ],
   "metadata": {
    "collapsed": false,
    "ExecuteTime": {
     "end_time": "2023-09-30T02:58:04.253798700Z",
     "start_time": "2023-09-30T02:58:03.531476Z"
    }
   },
   "id": "19e70a8567bc68b3"
  },
  {
   "cell_type": "code",
   "execution_count": 35,
   "outputs": [
    {
     "data": {
      "text/plain": "                     tcr     peptide  label\n0           CASSQVGHEQFF   ELLTTELIY      0\n1        CASSLTGTGQETQYF   PILLHQVEA      0\n2            CASSATYEQYF   FSSPHGKDL      0\n3          CASSPYRTYGYTF   LSVKRLWQY      0\n4       CASSNSGGAGTGELFF  IVFHNEAWST      0\n...                  ...         ...    ...\n636393    CASSARGGTDTQYF   AADKGHYKF      0\n636394    CASSSTDEATEAFF   RWLWGFLSR      0\n636395  CASSAGGLAGPGELFF  GRIKAIQLEY      0\n636396    CASSQLPLDTELFF  YRLTQGVVKR      0\n636397  CASSTYHRTHYNEQFF  FRISGAPEKY      0\n\n[636398 rows x 3 columns]",
      "text/html": "<div>\n<style scoped>\n    .dataframe tbody tr th:only-of-type {\n        vertical-align: middle;\n    }\n\n    .dataframe tbody tr th {\n        vertical-align: top;\n    }\n\n    .dataframe thead th {\n        text-align: right;\n    }\n</style>\n<table border=\"1\" class=\"dataframe\">\n  <thead>\n    <tr style=\"text-align: right;\">\n      <th></th>\n      <th>tcr</th>\n      <th>peptide</th>\n      <th>label</th>\n    </tr>\n  </thead>\n  <tbody>\n    <tr>\n      <th>0</th>\n      <td>CASSQVGHEQFF</td>\n      <td>ELLTTELIY</td>\n      <td>0</td>\n    </tr>\n    <tr>\n      <th>1</th>\n      <td>CASSLTGTGQETQYF</td>\n      <td>PILLHQVEA</td>\n      <td>0</td>\n    </tr>\n    <tr>\n      <th>2</th>\n      <td>CASSATYEQYF</td>\n      <td>FSSPHGKDL</td>\n      <td>0</td>\n    </tr>\n    <tr>\n      <th>3</th>\n      <td>CASSPYRTYGYTF</td>\n      <td>LSVKRLWQY</td>\n      <td>0</td>\n    </tr>\n    <tr>\n      <th>4</th>\n      <td>CASSNSGGAGTGELFF</td>\n      <td>IVFHNEAWST</td>\n      <td>0</td>\n    </tr>\n    <tr>\n      <th>...</th>\n      <td>...</td>\n      <td>...</td>\n      <td>...</td>\n    </tr>\n    <tr>\n      <th>636393</th>\n      <td>CASSARGGTDTQYF</td>\n      <td>AADKGHYKF</td>\n      <td>0</td>\n    </tr>\n    <tr>\n      <th>636394</th>\n      <td>CASSSTDEATEAFF</td>\n      <td>RWLWGFLSR</td>\n      <td>0</td>\n    </tr>\n    <tr>\n      <th>636395</th>\n      <td>CASSAGGLAGPGELFF</td>\n      <td>GRIKAIQLEY</td>\n      <td>0</td>\n    </tr>\n    <tr>\n      <th>636396</th>\n      <td>CASSQLPLDTELFF</td>\n      <td>YRLTQGVVKR</td>\n      <td>0</td>\n    </tr>\n    <tr>\n      <th>636397</th>\n      <td>CASSTYHRTHYNEQFF</td>\n      <td>FRISGAPEKY</td>\n      <td>0</td>\n    </tr>\n  </tbody>\n</table>\n<p>636398 rows × 3 columns</p>\n</div>"
     },
     "execution_count": 35,
     "metadata": {},
     "output_type": "execute_result"
    }
   ],
   "source": [
    "data"
   ],
   "metadata": {
    "collapsed": false,
    "ExecuteTime": {
     "end_time": "2023-09-30T02:59:23.230507100Z",
     "start_time": "2023-09-30T02:59:23.183605800Z"
    }
   },
   "id": "f334cfe3bf8bb240"
  },
  {
   "cell_type": "code",
   "execution_count": 7,
   "outputs": [
    {
     "name": "stdout",
     "output_type": "stream",
     "text": [
      "26\n"
     ]
    }
   ],
   "source": [
    "num = 0\n",
    "for index,value in data['tcr'].items():\n",
    "    if len(value) > num:\n",
    "        num = len(value)\n",
    "print(num)"
   ],
   "metadata": {
    "collapsed": false,
    "ExecuteTime": {
     "end_time": "2023-09-30T03:04:58.361730800Z",
     "start_time": "2023-09-30T03:04:58.058691100Z"
    }
   },
   "id": "e3aa492a991a1069"
  },
  {
   "cell_type": "code",
   "execution_count": null,
   "outputs": [],
   "source": [],
   "metadata": {
    "collapsed": false
   },
   "id": "76b9c3b4d3d7417e"
  }
 ],
 "metadata": {
  "kernelspec": {
   "display_name": "Python 3",
   "language": "python",
   "name": "python3"
  },
  "language_info": {
   "codemirror_mode": {
    "name": "ipython",
    "version": 2
   },
   "file_extension": ".py",
   "mimetype": "text/x-python",
   "name": "python",
   "nbconvert_exporter": "python",
   "pygments_lexer": "ipython2",
   "version": "2.7.6"
  }
 },
 "nbformat": 4,
 "nbformat_minor": 5
}
